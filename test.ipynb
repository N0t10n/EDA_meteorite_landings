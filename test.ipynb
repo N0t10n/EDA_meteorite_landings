{
 "cells": [
  {
   "cell_type": "code",
   "execution_count": 1,
   "metadata": {},
   "outputs": [],
   "source": [
    "import pandas as pd\n",
    "import plotly as py\n",
    "import plotly.express as px\n",
    "import numpy as np\n",
    "from plotly.subplots import make_subplots\n",
    "import plotly.graph_objects as go"
   ]
  },
  {
   "cell_type": "code",
   "execution_count": 2,
   "metadata": {},
   "outputs": [],
   "source": [
    "df = pd.read_csv('data/Meteorite_Landings.csv')\n",
    "df['count'] = pd.Series(np.ones(df.shape[0])).astype(int)\n",
    "# Turning floats into integers\n",
    "df['year'] = df['year'].fillna(0).apply(lambda x: int(x))\n",
    "\n",
    "df['mass (g)'] = df['mass (g)'].apply(lambda x: round(x/1000, 3))\n",
    "df['mass (g)'] = df['mass (g)'].replace(0, np.nan)\n",
    "df.rename(columns={'mass (g)': 'mass (kg)', 'reclong': 'lon', 'reclat': 'lat'}, inplace=True)\n",
    "\n",
    "df.drop(columns='GeoLocation', inplace=True)"
   ]
  },
  {
   "cell_type": "code",
   "execution_count": 3,
   "metadata": {},
   "outputs": [
    {
     "data": {
      "text/html": [
       "<div>\n",
       "<style scoped>\n",
       "    .dataframe tbody tr th:only-of-type {\n",
       "        vertical-align: middle;\n",
       "    }\n",
       "\n",
       "    .dataframe tbody tr th {\n",
       "        vertical-align: top;\n",
       "    }\n",
       "\n",
       "    .dataframe thead th {\n",
       "        text-align: right;\n",
       "    }\n",
       "</style>\n",
       "<table border=\"1\" class=\"dataframe\">\n",
       "  <thead>\n",
       "    <tr style=\"text-align: right;\">\n",
       "      <th></th>\n",
       "      <th>name</th>\n",
       "      <th>id</th>\n",
       "      <th>nametype</th>\n",
       "      <th>recclass</th>\n",
       "      <th>mass (kg)</th>\n",
       "      <th>fall</th>\n",
       "      <th>year</th>\n",
       "      <th>lat</th>\n",
       "      <th>lon</th>\n",
       "      <th>count</th>\n",
       "    </tr>\n",
       "  </thead>\n",
       "  <tbody>\n",
       "    <tr>\n",
       "      <th>0</th>\n",
       "      <td>Aachen</td>\n",
       "      <td>1</td>\n",
       "      <td>Valid</td>\n",
       "      <td>L5</td>\n",
       "      <td>0.021</td>\n",
       "      <td>Fell</td>\n",
       "      <td>1880</td>\n",
       "      <td>50.77500</td>\n",
       "      <td>6.08333</td>\n",
       "      <td>1</td>\n",
       "    </tr>\n",
       "    <tr>\n",
       "      <th>1</th>\n",
       "      <td>Aarhus</td>\n",
       "      <td>2</td>\n",
       "      <td>Valid</td>\n",
       "      <td>H6</td>\n",
       "      <td>0.720</td>\n",
       "      <td>Fell</td>\n",
       "      <td>1951</td>\n",
       "      <td>56.18333</td>\n",
       "      <td>10.23333</td>\n",
       "      <td>1</td>\n",
       "    </tr>\n",
       "    <tr>\n",
       "      <th>2</th>\n",
       "      <td>Abee</td>\n",
       "      <td>6</td>\n",
       "      <td>Valid</td>\n",
       "      <td>EH4</td>\n",
       "      <td>107.000</td>\n",
       "      <td>Fell</td>\n",
       "      <td>1952</td>\n",
       "      <td>54.21667</td>\n",
       "      <td>-113.00000</td>\n",
       "      <td>1</td>\n",
       "    </tr>\n",
       "    <tr>\n",
       "      <th>3</th>\n",
       "      <td>Acapulco</td>\n",
       "      <td>10</td>\n",
       "      <td>Valid</td>\n",
       "      <td>Acapulcoite</td>\n",
       "      <td>1.914</td>\n",
       "      <td>Fell</td>\n",
       "      <td>1976</td>\n",
       "      <td>16.88333</td>\n",
       "      <td>-99.90000</td>\n",
       "      <td>1</td>\n",
       "    </tr>\n",
       "    <tr>\n",
       "      <th>4</th>\n",
       "      <td>Achiras</td>\n",
       "      <td>370</td>\n",
       "      <td>Valid</td>\n",
       "      <td>L6</td>\n",
       "      <td>0.780</td>\n",
       "      <td>Fell</td>\n",
       "      <td>1902</td>\n",
       "      <td>-33.16667</td>\n",
       "      <td>-64.95000</td>\n",
       "      <td>1</td>\n",
       "    </tr>\n",
       "  </tbody>\n",
       "</table>\n",
       "</div>"
      ],
      "text/plain": [
       "       name   id nametype     recclass  mass (kg)  fall  year       lat  \\\n",
       "0    Aachen    1    Valid           L5      0.021  Fell  1880  50.77500   \n",
       "1    Aarhus    2    Valid           H6      0.720  Fell  1951  56.18333   \n",
       "2      Abee    6    Valid          EH4    107.000  Fell  1952  54.21667   \n",
       "3  Acapulco   10    Valid  Acapulcoite      1.914  Fell  1976  16.88333   \n",
       "4   Achiras  370    Valid           L6      0.780  Fell  1902 -33.16667   \n",
       "\n",
       "         lon  count  \n",
       "0    6.08333      1  \n",
       "1   10.23333      1  \n",
       "2 -113.00000      1  \n",
       "3  -99.90000      1  \n",
       "4  -64.95000      1  "
      ]
     },
     "execution_count": 3,
     "metadata": {},
     "output_type": "execute_result"
    }
   ],
   "source": [
    "df.head()"
   ]
  },
  {
   "cell_type": "code",
   "execution_count": 4,
   "metadata": {},
   "outputs": [
    {
     "data": {
      "text/plain": [
       "recclass\n",
       "L6          8285\n",
       "H5          7142\n",
       "L5          4796\n",
       "H6          4528\n",
       "H4          4211\n",
       "LL5         2766\n",
       "LL6         2043\n",
       "L4          1253\n",
       "dtype: int64"
      ]
     },
     "execution_count": 4,
     "metadata": {},
     "output_type": "execute_result"
    }
   ],
   "source": [
    "recclass_l = df[['recclass']].value_counts()[:8]\n",
    "recclass_l"
   ]
  },
  {
   "cell_type": "code",
   "execution_count": 5,
   "metadata": {},
   "outputs": [],
   "source": [
    "# The most commont classes\n",
    "dfclass = df[df['recclass'].isin(['L6', 'H5', 'L5', 'H6', 'H4', 'LL5', 'LL6', 'L4'])]\n",
    "df_c = dfclass.groupby('recclass').sum()[['mass (kg)', 'count']].sort_values(by='count', ascending=False).reset_index()\n",
    "df_c['c_mass (kg)'] = round(df_c['mass (kg)']/df_c['count'], 3)\n",
    "df_c.drop(columns='mass (kg)', inplace=True)"
   ]
  },
  {
   "cell_type": "code",
   "execution_count": 6,
   "metadata": {},
   "outputs": [],
   "source": [
    "df_c = df_c.groupby('recclass').sum()[['c_mass (kg)', 'count']].sort_values(by='count', ascending=False).reset_index()\n",
    "df_c['mode'] = dfclass['mass (kg)'].mode()"
   ]
  },
  {
   "cell_type": "code",
   "execution_count": 7,
   "metadata": {},
   "outputs": [
    {
     "data": {
      "text/html": [
       "<div>\n",
       "<style scoped>\n",
       "    .dataframe tbody tr th:only-of-type {\n",
       "        vertical-align: middle;\n",
       "    }\n",
       "\n",
       "    .dataframe tbody tr th {\n",
       "        vertical-align: top;\n",
       "    }\n",
       "\n",
       "    .dataframe thead th {\n",
       "        text-align: right;\n",
       "    }\n",
       "</style>\n",
       "<table border=\"1\" class=\"dataframe\">\n",
       "  <thead>\n",
       "    <tr style=\"text-align: right;\">\n",
       "      <th></th>\n",
       "      <th>recclass</th>\n",
       "      <th>c_mass (kg)</th>\n",
       "      <th>count</th>\n",
       "      <th>mode</th>\n",
       "    </tr>\n",
       "  </thead>\n",
       "  <tbody>\n",
       "    <tr>\n",
       "      <th>0</th>\n",
       "      <td>L6</td>\n",
       "      <td>1.449</td>\n",
       "      <td>8285</td>\n",
       "      <td>0.001</td>\n",
       "    </tr>\n",
       "    <tr>\n",
       "      <th>1</th>\n",
       "      <td>H5</td>\n",
       "      <td>2.165</td>\n",
       "      <td>7142</td>\n",
       "      <td>NaN</td>\n",
       "    </tr>\n",
       "    <tr>\n",
       "      <th>2</th>\n",
       "      <td>L5</td>\n",
       "      <td>1.797</td>\n",
       "      <td>4796</td>\n",
       "      <td>NaN</td>\n",
       "    </tr>\n",
       "    <tr>\n",
       "      <th>3</th>\n",
       "      <td>H6</td>\n",
       "      <td>0.862</td>\n",
       "      <td>4528</td>\n",
       "      <td>NaN</td>\n",
       "    </tr>\n",
       "    <tr>\n",
       "      <th>4</th>\n",
       "      <td>H4</td>\n",
       "      <td>0.997</td>\n",
       "      <td>4211</td>\n",
       "      <td>NaN</td>\n",
       "    </tr>\n",
       "  </tbody>\n",
       "</table>\n",
       "</div>"
      ],
      "text/plain": [
       "  recclass  c_mass (kg)  count   mode\n",
       "0       L6        1.449   8285  0.001\n",
       "1       H5        2.165   7142    NaN\n",
       "2       L5        1.797   4796    NaN\n",
       "3       H6        0.862   4528    NaN\n",
       "4       H4        0.997   4211    NaN"
      ]
     },
     "execution_count": 7,
     "metadata": {},
     "output_type": "execute_result"
    }
   ],
   "source": [
    "df_c.head()"
   ]
  },
  {
   "cell_type": "code",
   "execution_count": 8,
   "metadata": {},
   "outputs": [
    {
     "data": {
      "application/vnd.plotly.v1+json": {
       "config": {
        "plotlyServerURL": "https://plot.ly"
       },
       "data": [
        {
         "alignmentgroup": "True",
         "hovertemplate": "recclass=%{x}<br>count=%{y}<br>c_mass (kg)=%{marker.color}<extra></extra>",
         "legendgroup": "",
         "marker": {
          "color": [
           1.449,
           2.165,
           1.797,
           0.862,
           0.997,
           0.465,
           0.692,
           1.636
          ],
          "coloraxis": "coloraxis",
          "pattern": {
           "shape": ""
          }
         },
         "name": "",
         "offsetgroup": "",
         "orientation": "v",
         "showlegend": false,
         "textposition": "auto",
         "type": "bar",
         "x": [
          "L6",
          "H5",
          "L5",
          "H6",
          "H4",
          "LL5",
          "LL6",
          "L4"
         ],
         "xaxis": "x",
         "y": [
          8285,
          7142,
          4796,
          4528,
          4211,
          2766,
          2043,
          1253
         ],
         "yaxis": "y"
        }
       ],
       "layout": {
        "barmode": "relative",
        "coloraxis": {
         "colorbar": {
          "title": {
           "text": "c_mass (kg)"
          }
         },
         "colorscale": [
          [
           0,
           "#0d0887"
          ],
          [
           0.1111111111111111,
           "#46039f"
          ],
          [
           0.2222222222222222,
           "#7201a8"
          ],
          [
           0.3333333333333333,
           "#9c179e"
          ],
          [
           0.4444444444444444,
           "#bd3786"
          ],
          [
           0.5555555555555556,
           "#d8576b"
          ],
          [
           0.6666666666666666,
           "#ed7953"
          ],
          [
           0.7777777777777778,
           "#fb9f3a"
          ],
          [
           0.8888888888888888,
           "#fdca26"
          ],
          [
           1,
           "#f0f921"
          ]
         ]
        },
        "legend": {
         "tracegroupgap": 0
        },
        "template": {
         "data": {
          "bar": [
           {
            "error_x": {
             "color": "#2a3f5f"
            },
            "error_y": {
             "color": "#2a3f5f"
            },
            "marker": {
             "line": {
              "color": "#E5ECF6",
              "width": 0.5
             },
             "pattern": {
              "fillmode": "overlay",
              "size": 10,
              "solidity": 0.2
             }
            },
            "type": "bar"
           }
          ],
          "barpolar": [
           {
            "marker": {
             "line": {
              "color": "#E5ECF6",
              "width": 0.5
             },
             "pattern": {
              "fillmode": "overlay",
              "size": 10,
              "solidity": 0.2
             }
            },
            "type": "barpolar"
           }
          ],
          "carpet": [
           {
            "aaxis": {
             "endlinecolor": "#2a3f5f",
             "gridcolor": "white",
             "linecolor": "white",
             "minorgridcolor": "white",
             "startlinecolor": "#2a3f5f"
            },
            "baxis": {
             "endlinecolor": "#2a3f5f",
             "gridcolor": "white",
             "linecolor": "white",
             "minorgridcolor": "white",
             "startlinecolor": "#2a3f5f"
            },
            "type": "carpet"
           }
          ],
          "choropleth": [
           {
            "colorbar": {
             "outlinewidth": 0,
             "ticks": ""
            },
            "type": "choropleth"
           }
          ],
          "contour": [
           {
            "colorbar": {
             "outlinewidth": 0,
             "ticks": ""
            },
            "colorscale": [
             [
              0,
              "#0d0887"
             ],
             [
              0.1111111111111111,
              "#46039f"
             ],
             [
              0.2222222222222222,
              "#7201a8"
             ],
             [
              0.3333333333333333,
              "#9c179e"
             ],
             [
              0.4444444444444444,
              "#bd3786"
             ],
             [
              0.5555555555555556,
              "#d8576b"
             ],
             [
              0.6666666666666666,
              "#ed7953"
             ],
             [
              0.7777777777777778,
              "#fb9f3a"
             ],
             [
              0.8888888888888888,
              "#fdca26"
             ],
             [
              1,
              "#f0f921"
             ]
            ],
            "type": "contour"
           }
          ],
          "contourcarpet": [
           {
            "colorbar": {
             "outlinewidth": 0,
             "ticks": ""
            },
            "type": "contourcarpet"
           }
          ],
          "heatmap": [
           {
            "colorbar": {
             "outlinewidth": 0,
             "ticks": ""
            },
            "colorscale": [
             [
              0,
              "#0d0887"
             ],
             [
              0.1111111111111111,
              "#46039f"
             ],
             [
              0.2222222222222222,
              "#7201a8"
             ],
             [
              0.3333333333333333,
              "#9c179e"
             ],
             [
              0.4444444444444444,
              "#bd3786"
             ],
             [
              0.5555555555555556,
              "#d8576b"
             ],
             [
              0.6666666666666666,
              "#ed7953"
             ],
             [
              0.7777777777777778,
              "#fb9f3a"
             ],
             [
              0.8888888888888888,
              "#fdca26"
             ],
             [
              1,
              "#f0f921"
             ]
            ],
            "type": "heatmap"
           }
          ],
          "heatmapgl": [
           {
            "colorbar": {
             "outlinewidth": 0,
             "ticks": ""
            },
            "colorscale": [
             [
              0,
              "#0d0887"
             ],
             [
              0.1111111111111111,
              "#46039f"
             ],
             [
              0.2222222222222222,
              "#7201a8"
             ],
             [
              0.3333333333333333,
              "#9c179e"
             ],
             [
              0.4444444444444444,
              "#bd3786"
             ],
             [
              0.5555555555555556,
              "#d8576b"
             ],
             [
              0.6666666666666666,
              "#ed7953"
             ],
             [
              0.7777777777777778,
              "#fb9f3a"
             ],
             [
              0.8888888888888888,
              "#fdca26"
             ],
             [
              1,
              "#f0f921"
             ]
            ],
            "type": "heatmapgl"
           }
          ],
          "histogram": [
           {
            "marker": {
             "pattern": {
              "fillmode": "overlay",
              "size": 10,
              "solidity": 0.2
             }
            },
            "type": "histogram"
           }
          ],
          "histogram2d": [
           {
            "colorbar": {
             "outlinewidth": 0,
             "ticks": ""
            },
            "colorscale": [
             [
              0,
              "#0d0887"
             ],
             [
              0.1111111111111111,
              "#46039f"
             ],
             [
              0.2222222222222222,
              "#7201a8"
             ],
             [
              0.3333333333333333,
              "#9c179e"
             ],
             [
              0.4444444444444444,
              "#bd3786"
             ],
             [
              0.5555555555555556,
              "#d8576b"
             ],
             [
              0.6666666666666666,
              "#ed7953"
             ],
             [
              0.7777777777777778,
              "#fb9f3a"
             ],
             [
              0.8888888888888888,
              "#fdca26"
             ],
             [
              1,
              "#f0f921"
             ]
            ],
            "type": "histogram2d"
           }
          ],
          "histogram2dcontour": [
           {
            "colorbar": {
             "outlinewidth": 0,
             "ticks": ""
            },
            "colorscale": [
             [
              0,
              "#0d0887"
             ],
             [
              0.1111111111111111,
              "#46039f"
             ],
             [
              0.2222222222222222,
              "#7201a8"
             ],
             [
              0.3333333333333333,
              "#9c179e"
             ],
             [
              0.4444444444444444,
              "#bd3786"
             ],
             [
              0.5555555555555556,
              "#d8576b"
             ],
             [
              0.6666666666666666,
              "#ed7953"
             ],
             [
              0.7777777777777778,
              "#fb9f3a"
             ],
             [
              0.8888888888888888,
              "#fdca26"
             ],
             [
              1,
              "#f0f921"
             ]
            ],
            "type": "histogram2dcontour"
           }
          ],
          "mesh3d": [
           {
            "colorbar": {
             "outlinewidth": 0,
             "ticks": ""
            },
            "type": "mesh3d"
           }
          ],
          "parcoords": [
           {
            "line": {
             "colorbar": {
              "outlinewidth": 0,
              "ticks": ""
             }
            },
            "type": "parcoords"
           }
          ],
          "pie": [
           {
            "automargin": true,
            "type": "pie"
           }
          ],
          "scatter": [
           {
            "marker": {
             "colorbar": {
              "outlinewidth": 0,
              "ticks": ""
             }
            },
            "type": "scatter"
           }
          ],
          "scatter3d": [
           {
            "line": {
             "colorbar": {
              "outlinewidth": 0,
              "ticks": ""
             }
            },
            "marker": {
             "colorbar": {
              "outlinewidth": 0,
              "ticks": ""
             }
            },
            "type": "scatter3d"
           }
          ],
          "scattercarpet": [
           {
            "marker": {
             "colorbar": {
              "outlinewidth": 0,
              "ticks": ""
             }
            },
            "type": "scattercarpet"
           }
          ],
          "scattergeo": [
           {
            "marker": {
             "colorbar": {
              "outlinewidth": 0,
              "ticks": ""
             }
            },
            "type": "scattergeo"
           }
          ],
          "scattergl": [
           {
            "marker": {
             "colorbar": {
              "outlinewidth": 0,
              "ticks": ""
             }
            },
            "type": "scattergl"
           }
          ],
          "scattermapbox": [
           {
            "marker": {
             "colorbar": {
              "outlinewidth": 0,
              "ticks": ""
             }
            },
            "type": "scattermapbox"
           }
          ],
          "scatterpolar": [
           {
            "marker": {
             "colorbar": {
              "outlinewidth": 0,
              "ticks": ""
             }
            },
            "type": "scatterpolar"
           }
          ],
          "scatterpolargl": [
           {
            "marker": {
             "colorbar": {
              "outlinewidth": 0,
              "ticks": ""
             }
            },
            "type": "scatterpolargl"
           }
          ],
          "scatterternary": [
           {
            "marker": {
             "colorbar": {
              "outlinewidth": 0,
              "ticks": ""
             }
            },
            "type": "scatterternary"
           }
          ],
          "surface": [
           {
            "colorbar": {
             "outlinewidth": 0,
             "ticks": ""
            },
            "colorscale": [
             [
              0,
              "#0d0887"
             ],
             [
              0.1111111111111111,
              "#46039f"
             ],
             [
              0.2222222222222222,
              "#7201a8"
             ],
             [
              0.3333333333333333,
              "#9c179e"
             ],
             [
              0.4444444444444444,
              "#bd3786"
             ],
             [
              0.5555555555555556,
              "#d8576b"
             ],
             [
              0.6666666666666666,
              "#ed7953"
             ],
             [
              0.7777777777777778,
              "#fb9f3a"
             ],
             [
              0.8888888888888888,
              "#fdca26"
             ],
             [
              1,
              "#f0f921"
             ]
            ],
            "type": "surface"
           }
          ],
          "table": [
           {
            "cells": {
             "fill": {
              "color": "#EBF0F8"
             },
             "line": {
              "color": "white"
             }
            },
            "header": {
             "fill": {
              "color": "#C8D4E3"
             },
             "line": {
              "color": "white"
             }
            },
            "type": "table"
           }
          ]
         },
         "layout": {
          "annotationdefaults": {
           "arrowcolor": "#2a3f5f",
           "arrowhead": 0,
           "arrowwidth": 1
          },
          "autotypenumbers": "strict",
          "coloraxis": {
           "colorbar": {
            "outlinewidth": 0,
            "ticks": ""
           }
          },
          "colorscale": {
           "diverging": [
            [
             0,
             "#8e0152"
            ],
            [
             0.1,
             "#c51b7d"
            ],
            [
             0.2,
             "#de77ae"
            ],
            [
             0.3,
             "#f1b6da"
            ],
            [
             0.4,
             "#fde0ef"
            ],
            [
             0.5,
             "#f7f7f7"
            ],
            [
             0.6,
             "#e6f5d0"
            ],
            [
             0.7,
             "#b8e186"
            ],
            [
             0.8,
             "#7fbc41"
            ],
            [
             0.9,
             "#4d9221"
            ],
            [
             1,
             "#276419"
            ]
           ],
           "sequential": [
            [
             0,
             "#0d0887"
            ],
            [
             0.1111111111111111,
             "#46039f"
            ],
            [
             0.2222222222222222,
             "#7201a8"
            ],
            [
             0.3333333333333333,
             "#9c179e"
            ],
            [
             0.4444444444444444,
             "#bd3786"
            ],
            [
             0.5555555555555556,
             "#d8576b"
            ],
            [
             0.6666666666666666,
             "#ed7953"
            ],
            [
             0.7777777777777778,
             "#fb9f3a"
            ],
            [
             0.8888888888888888,
             "#fdca26"
            ],
            [
             1,
             "#f0f921"
            ]
           ],
           "sequentialminus": [
            [
             0,
             "#0d0887"
            ],
            [
             0.1111111111111111,
             "#46039f"
            ],
            [
             0.2222222222222222,
             "#7201a8"
            ],
            [
             0.3333333333333333,
             "#9c179e"
            ],
            [
             0.4444444444444444,
             "#bd3786"
            ],
            [
             0.5555555555555556,
             "#d8576b"
            ],
            [
             0.6666666666666666,
             "#ed7953"
            ],
            [
             0.7777777777777778,
             "#fb9f3a"
            ],
            [
             0.8888888888888888,
             "#fdca26"
            ],
            [
             1,
             "#f0f921"
            ]
           ]
          },
          "colorway": [
           "#636efa",
           "#EF553B",
           "#00cc96",
           "#ab63fa",
           "#FFA15A",
           "#19d3f3",
           "#FF6692",
           "#B6E880",
           "#FF97FF",
           "#FECB52"
          ],
          "font": {
           "color": "#2a3f5f"
          },
          "geo": {
           "bgcolor": "white",
           "lakecolor": "white",
           "landcolor": "#E5ECF6",
           "showlakes": true,
           "showland": true,
           "subunitcolor": "white"
          },
          "hoverlabel": {
           "align": "left"
          },
          "hovermode": "closest",
          "mapbox": {
           "style": "light"
          },
          "paper_bgcolor": "white",
          "plot_bgcolor": "#E5ECF6",
          "polar": {
           "angularaxis": {
            "gridcolor": "white",
            "linecolor": "white",
            "ticks": ""
           },
           "bgcolor": "#E5ECF6",
           "radialaxis": {
            "gridcolor": "white",
            "linecolor": "white",
            "ticks": ""
           }
          },
          "scene": {
           "xaxis": {
            "backgroundcolor": "#E5ECF6",
            "gridcolor": "white",
            "gridwidth": 2,
            "linecolor": "white",
            "showbackground": true,
            "ticks": "",
            "zerolinecolor": "white"
           },
           "yaxis": {
            "backgroundcolor": "#E5ECF6",
            "gridcolor": "white",
            "gridwidth": 2,
            "linecolor": "white",
            "showbackground": true,
            "ticks": "",
            "zerolinecolor": "white"
           },
           "zaxis": {
            "backgroundcolor": "#E5ECF6",
            "gridcolor": "white",
            "gridwidth": 2,
            "linecolor": "white",
            "showbackground": true,
            "ticks": "",
            "zerolinecolor": "white"
           }
          },
          "shapedefaults": {
           "line": {
            "color": "#2a3f5f"
           }
          },
          "ternary": {
           "aaxis": {
            "gridcolor": "white",
            "linecolor": "white",
            "ticks": ""
           },
           "baxis": {
            "gridcolor": "white",
            "linecolor": "white",
            "ticks": ""
           },
           "bgcolor": "#E5ECF6",
           "caxis": {
            "gridcolor": "white",
            "linecolor": "white",
            "ticks": ""
           }
          },
          "title": {
           "x": 0.05
          },
          "xaxis": {
           "automargin": true,
           "gridcolor": "white",
           "linecolor": "white",
           "ticks": "",
           "title": {
            "standoff": 15
           },
           "zerolinecolor": "white",
           "zerolinewidth": 2
          },
          "yaxis": {
           "automargin": true,
           "gridcolor": "white",
           "linecolor": "white",
           "ticks": "",
           "title": {
            "standoff": 15
           },
           "zerolinecolor": "white",
           "zerolinewidth": 2
          }
         }
        },
        "title": {
         "text": "Amount for the most common meteorite properties classified by mass"
        },
        "xaxis": {
         "anchor": "y",
         "domain": [
          0,
          1
         ],
         "title": {
          "text": "recclass"
         }
        },
        "yaxis": {
         "anchor": "x",
         "domain": [
          0,
          1
         ],
         "title": {
          "text": "count"
         }
        }
       }
      }
     },
     "metadata": {},
     "output_type": "display_data"
    }
   ],
   "source": [
    "fig = px.bar(\n",
    "    df_c,\n",
    "    x='recclass',\n",
    "    y='count',\n",
    "    color='c_mass (kg)',\n",
    "    title='Amount for the most common meteorite properties classified by mass'\n",
    ")\n",
    "fig.show()"
   ]
  },
  {
   "cell_type": "code",
   "execution_count": 9,
   "metadata": {},
   "outputs": [
    {
     "data": {
      "text/html": [
       "<div>\n",
       "<style scoped>\n",
       "    .dataframe tbody tr th:only-of-type {\n",
       "        vertical-align: middle;\n",
       "    }\n",
       "\n",
       "    .dataframe tbody tr th {\n",
       "        vertical-align: top;\n",
       "    }\n",
       "\n",
       "    .dataframe thead th {\n",
       "        text-align: right;\n",
       "    }\n",
       "</style>\n",
       "<table border=\"1\" class=\"dataframe\">\n",
       "  <thead>\n",
       "    <tr style=\"text-align: right;\">\n",
       "      <th></th>\n",
       "      <th>name</th>\n",
       "      <th>id</th>\n",
       "      <th>nametype</th>\n",
       "      <th>recclass</th>\n",
       "      <th>mass (kg)</th>\n",
       "      <th>fall</th>\n",
       "      <th>year</th>\n",
       "      <th>lat</th>\n",
       "      <th>lon</th>\n",
       "      <th>count</th>\n",
       "    </tr>\n",
       "  </thead>\n",
       "  <tbody>\n",
       "    <tr>\n",
       "      <th>30682</th>\n",
       "      <td>Northwest Africa 7701</td>\n",
       "      <td>57150</td>\n",
       "      <td>Valid</td>\n",
       "      <td>CK6</td>\n",
       "      <td>0.055</td>\n",
       "      <td>Found</td>\n",
       "      <td>2101</td>\n",
       "      <td>NaN</td>\n",
       "      <td>NaN</td>\n",
       "      <td>1</td>\n",
       "    </tr>\n",
       "    <tr>\n",
       "      <th>30776</th>\n",
       "      <td>Northwest Africa 7857</td>\n",
       "      <td>57422</td>\n",
       "      <td>Valid</td>\n",
       "      <td>LL6</td>\n",
       "      <td>0.246</td>\n",
       "      <td>Found</td>\n",
       "      <td>2013</td>\n",
       "      <td>NaN</td>\n",
       "      <td>NaN</td>\n",
       "      <td>1</td>\n",
       "    </tr>\n",
       "    <tr>\n",
       "      <th>30781</th>\n",
       "      <td>Northwest Africa 7863</td>\n",
       "      <td>57427</td>\n",
       "      <td>Valid</td>\n",
       "      <td>LL5</td>\n",
       "      <td>1.000</td>\n",
       "      <td>Found</td>\n",
       "      <td>2013</td>\n",
       "      <td>NaN</td>\n",
       "      <td>NaN</td>\n",
       "      <td>1</td>\n",
       "    </tr>\n",
       "    <tr>\n",
       "      <th>194</th>\n",
       "      <td>Chelyabinsk</td>\n",
       "      <td>57165</td>\n",
       "      <td>Valid</td>\n",
       "      <td>LL5</td>\n",
       "      <td>100.000</td>\n",
       "      <td>Fell</td>\n",
       "      <td>2013</td>\n",
       "      <td>54.81667</td>\n",
       "      <td>61.11667</td>\n",
       "      <td>1</td>\n",
       "    </tr>\n",
       "    <tr>\n",
       "      <th>30780</th>\n",
       "      <td>Northwest Africa 7862</td>\n",
       "      <td>57426</td>\n",
       "      <td>Valid</td>\n",
       "      <td>L4/5</td>\n",
       "      <td>0.317</td>\n",
       "      <td>Found</td>\n",
       "      <td>2013</td>\n",
       "      <td>NaN</td>\n",
       "      <td>NaN</td>\n",
       "      <td>1</td>\n",
       "    </tr>\n",
       "    <tr>\n",
       "      <th>...</th>\n",
       "      <td>...</td>\n",
       "      <td>...</td>\n",
       "      <td>...</td>\n",
       "      <td>...</td>\n",
       "      <td>...</td>\n",
       "      <td>...</td>\n",
       "      <td>...</td>\n",
       "      <td>...</td>\n",
       "      <td>...</td>\n",
       "      <td>...</td>\n",
       "    </tr>\n",
       "    <tr>\n",
       "      <th>17253</th>\n",
       "      <td>Jiddat al Harasis 792</td>\n",
       "      <td>56524</td>\n",
       "      <td>Valid</td>\n",
       "      <td>H6</td>\n",
       "      <td>0.353</td>\n",
       "      <td>Found</td>\n",
       "      <td>0</td>\n",
       "      <td>19.81889</td>\n",
       "      <td>55.93250</td>\n",
       "      <td>1</td>\n",
       "    </tr>\n",
       "    <tr>\n",
       "      <th>17254</th>\n",
       "      <td>Jiddat al Harasis 793</td>\n",
       "      <td>56525</td>\n",
       "      <td>Valid</td>\n",
       "      <td>L5</td>\n",
       "      <td>0.420</td>\n",
       "      <td>Found</td>\n",
       "      <td>0</td>\n",
       "      <td>19.92944</td>\n",
       "      <td>55.95778</td>\n",
       "      <td>1</td>\n",
       "    </tr>\n",
       "    <tr>\n",
       "      <th>28381</th>\n",
       "      <td>Northwest Africa 4137</td>\n",
       "      <td>34409</td>\n",
       "      <td>Valid</td>\n",
       "      <td>L6</td>\n",
       "      <td>0.121</td>\n",
       "      <td>Found</td>\n",
       "      <td>0</td>\n",
       "      <td>NaN</td>\n",
       "      <td>NaN</td>\n",
       "      <td>1</td>\n",
       "    </tr>\n",
       "    <tr>\n",
       "      <th>17255</th>\n",
       "      <td>Jiddat al Harasis 794</td>\n",
       "      <td>56526</td>\n",
       "      <td>Valid</td>\n",
       "      <td>L5</td>\n",
       "      <td>0.387</td>\n",
       "      <td>Found</td>\n",
       "      <td>0</td>\n",
       "      <td>19.96944</td>\n",
       "      <td>55.98778</td>\n",
       "      <td>1</td>\n",
       "    </tr>\n",
       "    <tr>\n",
       "      <th>17313</th>\n",
       "      <td>Kalahari 005</td>\n",
       "      <td>30734</td>\n",
       "      <td>Valid</td>\n",
       "      <td>H5</td>\n",
       "      <td>0.220</td>\n",
       "      <td>Found</td>\n",
       "      <td>0</td>\n",
       "      <td>NaN</td>\n",
       "      <td>NaN</td>\n",
       "      <td>1</td>\n",
       "    </tr>\n",
       "  </tbody>\n",
       "</table>\n",
       "<p>45716 rows × 10 columns</p>\n",
       "</div>"
      ],
      "text/plain": [
       "                        name     id nametype recclass  mass (kg)   fall  year  \\\n",
       "30682  Northwest Africa 7701  57150    Valid      CK6      0.055  Found  2101   \n",
       "30776  Northwest Africa 7857  57422    Valid      LL6      0.246  Found  2013   \n",
       "30781  Northwest Africa 7863  57427    Valid      LL5      1.000  Found  2013   \n",
       "194              Chelyabinsk  57165    Valid      LL5    100.000   Fell  2013   \n",
       "30780  Northwest Africa 7862  57426    Valid     L4/5      0.317  Found  2013   \n",
       "...                      ...    ...      ...      ...        ...    ...   ...   \n",
       "17253  Jiddat al Harasis 792  56524    Valid       H6      0.353  Found     0   \n",
       "17254  Jiddat al Harasis 793  56525    Valid       L5      0.420  Found     0   \n",
       "28381  Northwest Africa 4137  34409    Valid       L6      0.121  Found     0   \n",
       "17255  Jiddat al Harasis 794  56526    Valid       L5      0.387  Found     0   \n",
       "17313           Kalahari 005  30734    Valid       H5      0.220  Found     0   \n",
       "\n",
       "            lat       lon  count  \n",
       "30682       NaN       NaN      1  \n",
       "30776       NaN       NaN      1  \n",
       "30781       NaN       NaN      1  \n",
       "194    54.81667  61.11667      1  \n",
       "30780       NaN       NaN      1  \n",
       "...         ...       ...    ...  \n",
       "17253  19.81889  55.93250      1  \n",
       "17254  19.92944  55.95778      1  \n",
       "28381       NaN       NaN      1  \n",
       "17255  19.96944  55.98778      1  \n",
       "17313       NaN       NaN      1  \n",
       "\n",
       "[45716 rows x 10 columns]"
      ]
     },
     "execution_count": 9,
     "metadata": {},
     "output_type": "execute_result"
    }
   ],
   "source": [
    "df['lat'].replace(0, np.nan, inplace=True)\n",
    "df['lon'].replace(0, np.nan, inplace=True)\n",
    "df.sort_values(by='year', ascending=False)"
   ]
  },
  {
   "cell_type": "code",
   "execution_count": 10,
   "metadata": {},
   "outputs": [
    {
     "data": {
      "text/html": [
       "<div>\n",
       "<style scoped>\n",
       "    .dataframe tbody tr th:only-of-type {\n",
       "        vertical-align: middle;\n",
       "    }\n",
       "\n",
       "    .dataframe tbody tr th {\n",
       "        vertical-align: top;\n",
       "    }\n",
       "\n",
       "    .dataframe thead th {\n",
       "        text-align: right;\n",
       "    }\n",
       "</style>\n",
       "<table border=\"1\" class=\"dataframe\">\n",
       "  <thead>\n",
       "    <tr style=\"text-align: right;\">\n",
       "      <th></th>\n",
       "      <th>name</th>\n",
       "      <th>id</th>\n",
       "      <th>nametype</th>\n",
       "      <th>recclass</th>\n",
       "      <th>mass (kg)</th>\n",
       "      <th>fall</th>\n",
       "      <th>year</th>\n",
       "      <th>lat</th>\n",
       "      <th>lon</th>\n",
       "      <th>count</th>\n",
       "    </tr>\n",
       "  </thead>\n",
       "  <tbody>\n",
       "    <tr>\n",
       "      <th>7</th>\n",
       "      <td>Agen</td>\n",
       "      <td>392</td>\n",
       "      <td>Valid</td>\n",
       "      <td>H5</td>\n",
       "      <td>30.000</td>\n",
       "      <td>Fell</td>\n",
       "      <td>1814</td>\n",
       "      <td>44.21667</td>\n",
       "      <td>0.61667</td>\n",
       "      <td>1</td>\n",
       "    </tr>\n",
       "    <tr>\n",
       "      <th>25</th>\n",
       "      <td>Alessandria</td>\n",
       "      <td>463</td>\n",
       "      <td>Valid</td>\n",
       "      <td>H5</td>\n",
       "      <td>0.908</td>\n",
       "      <td>Fell</td>\n",
       "      <td>1860</td>\n",
       "      <td>44.88333</td>\n",
       "      <td>8.75000</td>\n",
       "      <td>1</td>\n",
       "    </tr>\n",
       "    <tr>\n",
       "      <th>28</th>\n",
       "      <td>Allegan</td>\n",
       "      <td>2276</td>\n",
       "      <td>Valid</td>\n",
       "      <td>H5</td>\n",
       "      <td>32.000</td>\n",
       "      <td>Fell</td>\n",
       "      <td>1899</td>\n",
       "      <td>42.53333</td>\n",
       "      <td>-85.88333</td>\n",
       "      <td>1</td>\n",
       "    </tr>\n",
       "    <tr>\n",
       "      <th>32</th>\n",
       "      <td>Ambapur Nagla</td>\n",
       "      <td>2290</td>\n",
       "      <td>Valid</td>\n",
       "      <td>H5</td>\n",
       "      <td>6.400</td>\n",
       "      <td>Fell</td>\n",
       "      <td>1895</td>\n",
       "      <td>27.66667</td>\n",
       "      <td>78.25000</td>\n",
       "      <td>1</td>\n",
       "    </tr>\n",
       "    <tr>\n",
       "      <th>41</th>\n",
       "      <td>Anlong</td>\n",
       "      <td>2305</td>\n",
       "      <td>Valid</td>\n",
       "      <td>H5</td>\n",
       "      <td>2.500</td>\n",
       "      <td>Fell</td>\n",
       "      <td>1971</td>\n",
       "      <td>25.15000</td>\n",
       "      <td>105.18333</td>\n",
       "      <td>1</td>\n",
       "    </tr>\n",
       "    <tr>\n",
       "      <th>...</th>\n",
       "      <td>...</td>\n",
       "      <td>...</td>\n",
       "      <td>...</td>\n",
       "      <td>...</td>\n",
       "      <td>...</td>\n",
       "      <td>...</td>\n",
       "      <td>...</td>\n",
       "      <td>...</td>\n",
       "      <td>...</td>\n",
       "      <td>...</td>\n",
       "    </tr>\n",
       "    <tr>\n",
       "      <th>45665</th>\n",
       "      <td>Yarle Lakes 001</td>\n",
       "      <td>30353</td>\n",
       "      <td>Valid</td>\n",
       "      <td>H5</td>\n",
       "      <td>0.913</td>\n",
       "      <td>Found</td>\n",
       "      <td>1990</td>\n",
       "      <td>-30.31667</td>\n",
       "      <td>131.46667</td>\n",
       "      <td>1</td>\n",
       "    </tr>\n",
       "    <tr>\n",
       "      <th>45682</th>\n",
       "      <td>Yorktown (Texas)</td>\n",
       "      <td>30371</td>\n",
       "      <td>Valid</td>\n",
       "      <td>H5</td>\n",
       "      <td>3.500</td>\n",
       "      <td>Found</td>\n",
       "      <td>1957</td>\n",
       "      <td>28.95000</td>\n",
       "      <td>-97.40278</td>\n",
       "      <td>1</td>\n",
       "    </tr>\n",
       "    <tr>\n",
       "      <th>45688</th>\n",
       "      <td>Yucca 016</td>\n",
       "      <td>57158</td>\n",
       "      <td>Valid</td>\n",
       "      <td>H5</td>\n",
       "      <td>0.026</td>\n",
       "      <td>Found</td>\n",
       "      <td>2011</td>\n",
       "      <td>34.82658</td>\n",
       "      <td>-114.27763</td>\n",
       "      <td>1</td>\n",
       "    </tr>\n",
       "    <tr>\n",
       "      <th>45689</th>\n",
       "      <td>Yucca 017</td>\n",
       "      <td>57159</td>\n",
       "      <td>Valid</td>\n",
       "      <td>H5</td>\n",
       "      <td>0.200</td>\n",
       "      <td>Found</td>\n",
       "      <td>2011</td>\n",
       "      <td>34.81923</td>\n",
       "      <td>-114.27735</td>\n",
       "      <td>1</td>\n",
       "    </tr>\n",
       "    <tr>\n",
       "      <th>45706</th>\n",
       "      <td>Zerkaly</td>\n",
       "      <td>31354</td>\n",
       "      <td>Valid</td>\n",
       "      <td>H5</td>\n",
       "      <td>16.000</td>\n",
       "      <td>Found</td>\n",
       "      <td>1956</td>\n",
       "      <td>52.13333</td>\n",
       "      <td>81.96667</td>\n",
       "      <td>1</td>\n",
       "    </tr>\n",
       "  </tbody>\n",
       "</table>\n",
       "<p>7142 rows × 10 columns</p>\n",
       "</div>"
      ],
      "text/plain": [
       "                   name     id nametype recclass  mass (kg)   fall  year  \\\n",
       "7                  Agen    392    Valid       H5     30.000   Fell  1814   \n",
       "25          Alessandria    463    Valid       H5      0.908   Fell  1860   \n",
       "28              Allegan   2276    Valid       H5     32.000   Fell  1899   \n",
       "32        Ambapur Nagla   2290    Valid       H5      6.400   Fell  1895   \n",
       "41               Anlong   2305    Valid       H5      2.500   Fell  1971   \n",
       "...                 ...    ...      ...      ...        ...    ...   ...   \n",
       "45665   Yarle Lakes 001  30353    Valid       H5      0.913  Found  1990   \n",
       "45682  Yorktown (Texas)  30371    Valid       H5      3.500  Found  1957   \n",
       "45688         Yucca 016  57158    Valid       H5      0.026  Found  2011   \n",
       "45689         Yucca 017  57159    Valid       H5      0.200  Found  2011   \n",
       "45706           Zerkaly  31354    Valid       H5     16.000  Found  1956   \n",
       "\n",
       "            lat        lon  count  \n",
       "7      44.21667    0.61667      1  \n",
       "25     44.88333    8.75000      1  \n",
       "28     42.53333  -85.88333      1  \n",
       "32     27.66667   78.25000      1  \n",
       "41     25.15000  105.18333      1  \n",
       "...         ...        ...    ...  \n",
       "45665 -30.31667  131.46667      1  \n",
       "45682  28.95000  -97.40278      1  \n",
       "45688  34.82658 -114.27763      1  \n",
       "45689  34.81923 -114.27735      1  \n",
       "45706  52.13333   81.96667      1  \n",
       "\n",
       "[7142 rows x 10 columns]"
      ]
     },
     "execution_count": 10,
     "metadata": {},
     "output_type": "execute_result"
    }
   ],
   "source": [
    "df[df['recclass']=='H5']"
   ]
  },
  {
   "cell_type": "code",
   "execution_count": 11,
   "metadata": {},
   "outputs": [
    {
     "data": {
      "text/html": [
       "<div>\n",
       "<style scoped>\n",
       "    .dataframe tbody tr th:only-of-type {\n",
       "        vertical-align: middle;\n",
       "    }\n",
       "\n",
       "    .dataframe tbody tr th {\n",
       "        vertical-align: top;\n",
       "    }\n",
       "\n",
       "    .dataframe thead th {\n",
       "        text-align: right;\n",
       "    }\n",
       "</style>\n",
       "<table border=\"1\" class=\"dataframe\">\n",
       "  <thead>\n",
       "    <tr style=\"text-align: right;\">\n",
       "      <th></th>\n",
       "      <th>count</th>\n",
       "      <th>mean</th>\n",
       "      <th>std</th>\n",
       "      <th>min</th>\n",
       "      <th>25%</th>\n",
       "      <th>50%</th>\n",
       "      <th>75%</th>\n",
       "      <th>max</th>\n",
       "    </tr>\n",
       "    <tr>\n",
       "      <th>recclass</th>\n",
       "      <th></th>\n",
       "      <th></th>\n",
       "      <th></th>\n",
       "      <th></th>\n",
       "      <th></th>\n",
       "      <th></th>\n",
       "      <th></th>\n",
       "      <th></th>\n",
       "    </tr>\n",
       "  </thead>\n",
       "  <tbody>\n",
       "    <tr>\n",
       "      <th>L6</th>\n",
       "      <td>6454.0</td>\n",
       "      <td>1.730408</td>\n",
       "      <td>15.786444</td>\n",
       "      <td>0.001</td>\n",
       "      <td>0.00800</td>\n",
       "      <td>0.037</td>\n",
       "      <td>0.21400</td>\n",
       "      <td>564.000</td>\n",
       "    </tr>\n",
       "    <tr>\n",
       "      <th>H5</th>\n",
       "      <td>5514.0</td>\n",
       "      <td>2.621751</td>\n",
       "      <td>58.066252</td>\n",
       "      <td>0.001</td>\n",
       "      <td>0.00700</td>\n",
       "      <td>0.026</td>\n",
       "      <td>0.17100</td>\n",
       "      <td>4000.000</td>\n",
       "    </tr>\n",
       "    <tr>\n",
       "      <th>H4</th>\n",
       "      <td>3298.0</td>\n",
       "      <td>1.107494</td>\n",
       "      <td>10.918188</td>\n",
       "      <td>0.001</td>\n",
       "      <td>0.00400</td>\n",
       "      <td>0.019</td>\n",
       "      <td>0.11475</td>\n",
       "      <td>500.000</td>\n",
       "    </tr>\n",
       "    <tr>\n",
       "      <th>H6</th>\n",
       "      <td>3012.0</td>\n",
       "      <td>1.193220</td>\n",
       "      <td>10.381568</td>\n",
       "      <td>0.001</td>\n",
       "      <td>0.00600</td>\n",
       "      <td>0.023</td>\n",
       "      <td>0.14325</td>\n",
       "      <td>295.000</td>\n",
       "    </tr>\n",
       "    <tr>\n",
       "      <th>L5</th>\n",
       "      <td>2699.0</td>\n",
       "      <td>2.860147</td>\n",
       "      <td>44.056703</td>\n",
       "      <td>0.001</td>\n",
       "      <td>0.00700</td>\n",
       "      <td>0.037</td>\n",
       "      <td>0.19750</td>\n",
       "      <td>1750.000</td>\n",
       "    </tr>\n",
       "    <tr>\n",
       "      <th>LL5</th>\n",
       "      <td>1874.0</td>\n",
       "      <td>0.510585</td>\n",
       "      <td>10.476975</td>\n",
       "      <td>0.001</td>\n",
       "      <td>0.00400</td>\n",
       "      <td>0.012</td>\n",
       "      <td>0.03600</td>\n",
       "      <td>408.000</td>\n",
       "    </tr>\n",
       "    <tr>\n",
       "      <th>LL6</th>\n",
       "      <td>956.0</td>\n",
       "      <td>1.250256</td>\n",
       "      <td>10.878717</td>\n",
       "      <td>0.001</td>\n",
       "      <td>0.00700</td>\n",
       "      <td>0.031</td>\n",
       "      <td>0.17200</td>\n",
       "      <td>271.000</td>\n",
       "    </tr>\n",
       "    <tr>\n",
       "      <th>L4</th>\n",
       "      <td>825.0</td>\n",
       "      <td>2.122017</td>\n",
       "      <td>15.174913</td>\n",
       "      <td>0.001</td>\n",
       "      <td>0.01000</td>\n",
       "      <td>0.061</td>\n",
       "      <td>0.30300</td>\n",
       "      <td>257.000</td>\n",
       "    </tr>\n",
       "    <tr>\n",
       "      <th>H4/5</th>\n",
       "      <td>379.0</td>\n",
       "      <td>1.763380</td>\n",
       "      <td>14.555689</td>\n",
       "      <td>0.001</td>\n",
       "      <td>0.00350</td>\n",
       "      <td>0.008</td>\n",
       "      <td>0.08550</td>\n",
       "      <td>256.000</td>\n",
       "    </tr>\n",
       "    <tr>\n",
       "      <th>CM2</th>\n",
       "      <td>275.0</td>\n",
       "      <td>0.543884</td>\n",
       "      <td>6.102546</td>\n",
       "      <td>0.001</td>\n",
       "      <td>0.00400</td>\n",
       "      <td>0.011</td>\n",
       "      <td>0.03750</td>\n",
       "      <td>100.000</td>\n",
       "    </tr>\n",
       "    <tr>\n",
       "      <th>Iron, IIIAB</th>\n",
       "      <td>272.0</td>\n",
       "      <td>509.123603</td>\n",
       "      <td>3972.394335</td>\n",
       "      <td>0.003</td>\n",
       "      <td>3.66875</td>\n",
       "      <td>17.295</td>\n",
       "      <td>79.00000</td>\n",
       "      <td>58200.000</td>\n",
       "    </tr>\n",
       "    <tr>\n",
       "      <th>H3</th>\n",
       "      <td>241.0</td>\n",
       "      <td>1.132598</td>\n",
       "      <td>9.246504</td>\n",
       "      <td>0.001</td>\n",
       "      <td>0.00300</td>\n",
       "      <td>0.013</td>\n",
       "      <td>0.08800</td>\n",
       "      <td>140.000</td>\n",
       "    </tr>\n",
       "    <tr>\n",
       "      <th>LL</th>\n",
       "      <td>220.0</td>\n",
       "      <td>0.103855</td>\n",
       "      <td>0.471916</td>\n",
       "      <td>0.001</td>\n",
       "      <td>0.00400</td>\n",
       "      <td>0.008</td>\n",
       "      <td>0.02725</td>\n",
       "      <td>5.483</td>\n",
       "    </tr>\n",
       "    <tr>\n",
       "      <th>L3</th>\n",
       "      <td>175.0</td>\n",
       "      <td>0.604211</td>\n",
       "      <td>3.967432</td>\n",
       "      <td>0.001</td>\n",
       "      <td>0.00500</td>\n",
       "      <td>0.047</td>\n",
       "      <td>0.20000</td>\n",
       "      <td>50.400</td>\n",
       "    </tr>\n",
       "    <tr>\n",
       "      <th>E3</th>\n",
       "      <td>170.0</td>\n",
       "      <td>0.001729</td>\n",
       "      <td>0.003254</td>\n",
       "      <td>0.001</td>\n",
       "      <td>0.00100</td>\n",
       "      <td>0.001</td>\n",
       "      <td>0.00100</td>\n",
       "      <td>0.038</td>\n",
       "    </tr>\n",
       "    <tr>\n",
       "      <th>LL4</th>\n",
       "      <td>159.0</td>\n",
       "      <td>1.091912</td>\n",
       "      <td>7.232681</td>\n",
       "      <td>0.001</td>\n",
       "      <td>0.01200</td>\n",
       "      <td>0.058</td>\n",
       "      <td>0.24800</td>\n",
       "      <td>80.000</td>\n",
       "    </tr>\n",
       "    <tr>\n",
       "      <th>Ureilite</th>\n",
       "      <td>155.0</td>\n",
       "      <td>0.470213</td>\n",
       "      <td>1.379520</td>\n",
       "      <td>0.001</td>\n",
       "      <td>0.01450</td>\n",
       "      <td>0.053</td>\n",
       "      <td>0.23600</td>\n",
       "      <td>10.900</td>\n",
       "    </tr>\n",
       "    <tr>\n",
       "      <th>H5/6</th>\n",
       "      <td>155.0</td>\n",
       "      <td>0.791710</td>\n",
       "      <td>2.765763</td>\n",
       "      <td>0.001</td>\n",
       "      <td>0.05300</td>\n",
       "      <td>0.162</td>\n",
       "      <td>0.47800</td>\n",
       "      <td>27.064</td>\n",
       "    </tr>\n",
       "    <tr>\n",
       "      <th>Howardite</th>\n",
       "      <td>126.0</td>\n",
       "      <td>0.903024</td>\n",
       "      <td>4.071566</td>\n",
       "      <td>0.001</td>\n",
       "      <td>0.01800</td>\n",
       "      <td>0.048</td>\n",
       "      <td>0.29900</td>\n",
       "      <td>40.000</td>\n",
       "    </tr>\n",
       "    <tr>\n",
       "      <th>Diogenite</th>\n",
       "      <td>124.0</td>\n",
       "      <td>1.116710</td>\n",
       "      <td>4.877592</td>\n",
       "      <td>0.001</td>\n",
       "      <td>0.00875</td>\n",
       "      <td>0.031</td>\n",
       "      <td>0.16100</td>\n",
       "      <td>40.300</td>\n",
       "    </tr>\n",
       "  </tbody>\n",
       "</table>\n",
       "</div>"
      ],
      "text/plain": [
       "              count        mean          std    min      25%     50%  \\\n",
       "recclass                                                               \n",
       "L6           6454.0    1.730408    15.786444  0.001  0.00800   0.037   \n",
       "H5           5514.0    2.621751    58.066252  0.001  0.00700   0.026   \n",
       "H4           3298.0    1.107494    10.918188  0.001  0.00400   0.019   \n",
       "H6           3012.0    1.193220    10.381568  0.001  0.00600   0.023   \n",
       "L5           2699.0    2.860147    44.056703  0.001  0.00700   0.037   \n",
       "LL5          1874.0    0.510585    10.476975  0.001  0.00400   0.012   \n",
       "LL6           956.0    1.250256    10.878717  0.001  0.00700   0.031   \n",
       "L4            825.0    2.122017    15.174913  0.001  0.01000   0.061   \n",
       "H4/5          379.0    1.763380    14.555689  0.001  0.00350   0.008   \n",
       "CM2           275.0    0.543884     6.102546  0.001  0.00400   0.011   \n",
       "Iron, IIIAB   272.0  509.123603  3972.394335  0.003  3.66875  17.295   \n",
       "H3            241.0    1.132598     9.246504  0.001  0.00300   0.013   \n",
       "LL            220.0    0.103855     0.471916  0.001  0.00400   0.008   \n",
       "L3            175.0    0.604211     3.967432  0.001  0.00500   0.047   \n",
       "E3            170.0    0.001729     0.003254  0.001  0.00100   0.001   \n",
       "LL4           159.0    1.091912     7.232681  0.001  0.01200   0.058   \n",
       "Ureilite      155.0    0.470213     1.379520  0.001  0.01450   0.053   \n",
       "H5/6          155.0    0.791710     2.765763  0.001  0.05300   0.162   \n",
       "Howardite     126.0    0.903024     4.071566  0.001  0.01800   0.048   \n",
       "Diogenite     124.0    1.116710     4.877592  0.001  0.00875   0.031   \n",
       "\n",
       "                  75%        max  \n",
       "recclass                          \n",
       "L6            0.21400    564.000  \n",
       "H5            0.17100   4000.000  \n",
       "H4            0.11475    500.000  \n",
       "H6            0.14325    295.000  \n",
       "L5            0.19750   1750.000  \n",
       "LL5           0.03600    408.000  \n",
       "LL6           0.17200    271.000  \n",
       "L4            0.30300    257.000  \n",
       "H4/5          0.08550    256.000  \n",
       "CM2           0.03750    100.000  \n",
       "Iron, IIIAB  79.00000  58200.000  \n",
       "H3            0.08800    140.000  \n",
       "LL            0.02725      5.483  \n",
       "L3            0.20000     50.400  \n",
       "E3            0.00100      0.038  \n",
       "LL4           0.24800     80.000  \n",
       "Ureilite      0.23600     10.900  \n",
       "H5/6          0.47800     27.064  \n",
       "Howardite     0.29900     40.000  \n",
       "Diogenite     0.16100     40.300  "
      ]
     },
     "execution_count": 11,
     "metadata": {},
     "output_type": "execute_result"
    }
   ],
   "source": [
    "# df_2 = df[df['recclass'].isin(['L6', 'H5', 'L5', 'H6', 'H4', 'LL5', 'LL6', 'L4'])]\n",
    "df_2 = df.dropna().groupby('recclass')[['mass (kg)']].describe()\n",
    "df_2 = df_2['mass (kg)'].sort_values(by='count', ascending=False)\n",
    "df_2[:20]"
   ]
  },
  {
   "cell_type": "code",
   "execution_count": 12,
   "metadata": {},
   "outputs": [
    {
     "name": "stderr",
     "output_type": "stream",
     "text": [
      "C:\\Users\\malva\\Documents\\Projects\\EDA_meteorite_landings\\.env\\lib\\site-packages\\plotly\\graph_objs\\_deprecations.py:378: DeprecationWarning:\n",
      "\n",
      "plotly.graph_objs.Line is deprecated.\n",
      "Please replace it with one of the following more specific types\n",
      "  - plotly.graph_objs.scatter.Line\n",
      "  - plotly.graph_objs.layout.shape.Line\n",
      "  - etc.\n",
      "\n",
      "\n"
     ]
    },
    {
     "data": {
      "application/vnd.plotly.v1+json": {
       "config": {
        "plotlyServerURL": "https://plot.ly"
       },
       "data": [
        {
         "type": "scatter",
         "x": [
          "L6",
          "H5",
          "H4",
          "H6",
          "L5",
          "LL5",
          "LL6",
          "L4",
          "H4/5",
          "CM2",
          "Iron, IIIAB",
          "H3",
          "LL",
          "L3",
          "E3",
          "LL4",
          "Ureilite",
          "H5/6",
          "Howardite",
          "Diogenite",
          "Eucrite-pmict",
          "Iron, IIAB",
          "CO3",
          "H~5",
          "Iron, ungrouped",
          "CR2",
          "Mesosiderite",
          "CV3",
          "L3.5",
          "L~6",
          "Iron, IAB-MG",
          "Iron",
          "H3.7",
          "OC",
          "LL3",
          "L5/6",
          "H",
          "CK5",
          "Eucrite-mmict",
          "Iron, IVA",
          "Lunar (anorth)",
          "H5-6",
          "L6 ",
          "H3.8",
          "H4-6",
          "EH3",
          "Eucrite-br",
          "L3.4",
          "Aubrite",
          "Eucrite",
          "H4-5",
          "L3.6",
          "L",
          "Iron, IAB-ung",
          "CK4",
          "Iron, IAB complex",
          "L3.7",
          "H3.6",
          "L4/5",
          "LL5/6",
          "L3.8",
          "EL6",
          "H3.9",
          "Martian (shergottite)",
          "Pallasite, PMG",
          "H3-6",
          "H3-5",
          "Acapulcoite",
          "LL5-6",
          "H3/4",
          "Stone-uncl",
          "Eucrite-unbr",
          "L5-6",
          "L~5",
          "Iron, IAB-sLL",
          "H5 ",
          "L5 ",
          "L7",
          "LL4-6",
          "Iron, IID",
          "L/LL3",
          "H~6",
          "L3.9",
          "LL7",
          "Eucrite-cm",
          "H3.5",
          "Ureilite-pmict",
          "LL3.4",
          "CH3",
          "EH4",
          "EL3",
          "L/LL6",
          "Lunar",
          "H3.4",
          "H~4",
          "L4-6",
          "L4-5",
          "L/LL4",
          "Iron, IVB",
          "Lunar (basalt)",
          "Winonaite",
          "Lodranite",
          "C2-ung",
          "L3.3",
          "Iron, IIIE",
          "LL3.7",
          "L3.2",
          "L3.1",
          "Pallasite, PMG-an",
          "Achondrite-ung",
          "Pallasite",
          "L/LL5",
          "LL3.3",
          "H4 ",
          "C3-ung",
          "LL3.6",
          "LL3.5",
          "Iron, IIE",
          "Iron, IIIF",
          "EH4/5",
          "LL3.8",
          "L6/7",
          "CM1",
          "Iron, IAB-sHL",
          "LL3.9",
          "H4-an",
          "L3-6",
          "Iron, IC",
          "Brachinite",
          "EL4",
          "LL~5",
          "Lunar (feldsp. breccia)",
          "R5",
          "C",
          "H3-4",
          "L3-5",
          "Iron, IAB-sLM",
          "Iron, IIE-an",
          "Iron, IIC",
          "Chondrite-ung",
          "CK4/5",
          "CI1",
          "Martian (nakhlite)",
          "H/L4",
          "H7",
          "R4",
          "H3.3",
          "Angrite",
          "EH-imp melt",
          "Iron, IAB-sLH",
          "R3",
          "Mesosiderite-an",
          "Mesosiderite-A1",
          "CR",
          "CO3.5",
          "Iron, IIF",
          "LL3.2",
          "LL3-6",
          "Iron, IVA-an",
          "Diogenite-pm",
          "L-imp melt",
          "CK6",
          "EH5",
          "Iron, IIG",
          "H4/6",
          "H3.9/4",
          "Iron, IAB-sHH",
          "L3/4",
          "Aubrite-an",
          "L~4",
          "E3-an",
          "E-an",
          "CK3",
          "H-metal",
          "E4",
          "LL4-5",
          "CO3.6",
          "CBb",
          "H-an",
          "LL~6",
          "Iron, IIIAB?",
          "Eucrite-Mg rich",
          "CBa",
          "Iron, IAB?",
          "Mesosiderite-B1",
          "H-imp melt",
          "Pallasite, PES",
          "Pallasite, ungrouped",
          "H3.9-6",
          "LL3.0",
          "L/LL3.4",
          "H3.2-an",
          "CM1/2",
          "LL3.15",
          "LL~3",
          "CO3.0",
          "CO3.2",
          "CO3.3",
          "CV3-an",
          "C4-ung",
          "CO3.4",
          "E",
          "EL5",
          "H/L6",
          "Ureilite-an",
          "Iron, IIIAB-an",
          "Acapulcoite/Lodranite",
          "R3.8-6",
          "R3.8",
          "H3.0",
          "H-melt rock",
          "Iron, IAB-an",
          "Mesosiderite-A3",
          "Mesosiderite-B4",
          "Mesosiderite-A4",
          "H3.7-5",
          "CM-an",
          "H3.8-an",
          "R3-6",
          "R3.6",
          "H(5?)",
          "L3.05",
          "LL(L)3",
          "LL3.1",
          "CK4-an",
          "H3.6-6",
          "Mesosiderite-C2",
          "C4",
          "CK3-an",
          "LL3.8-6",
          "Mesosiderite-A",
          "H3.1",
          "C6",
          "H3.2",
          "Lunar (gabbro)",
          "Lunar (bas/anor)",
          "L3.0",
          "H6-melt breccia",
          "K3",
          "L/LL~5",
          "E6",
          "Chondrite-fusion crust",
          "E5",
          "H5-melt breccia",
          "Enst achon-ung",
          "L(?)3",
          "L(LL)3",
          "Iron, IC-an",
          "L(LL)3.05",
          "L-melt rock",
          "L/LL~6",
          "L3-4",
          "H3.9-5",
          "H3.8/4",
          "Martian (OPX)",
          "H3.10",
          "H3.0-3.4",
          "EL7",
          "Martian (chassignite)",
          "EL6/7",
          "L~3",
          "Lunar (norite)",
          "Iron, IIIE-an",
          "H3.8/3.9",
          "Diogenite-olivine",
          "K",
          "Lunar (bas. breccia)",
          "C1/2-ung",
          "C4/5",
          "Lodranite-an",
          "Diogenite-an",
          "H3.2-3.7",
          "LL7(?)",
          "C5/6-ung",
          "LL6(?)",
          "LL6 ",
          "L(LL)3.5-3.7",
          "LL5-7",
          "L(LL)5",
          "C2",
          "Mesosiderite-A2",
          "Iron, IID-an",
          "R3.9",
          "EH3/4-an",
          "R3.5-6",
          "EH7",
          "H~4/5",
          "R3.8-5",
          "EH6-an",
          "H/L5",
          "R",
          "H/L4-5",
          "EH6",
          "Stone-ung",
          "H/L3.9",
          "H?",
          "H/L3.6",
          "R3-4",
          "Pallasite?",
          "H3-an",
          "Mesosiderite-C",
          "LL4/5",
          "Iron, IIAB-an",
          "Mesosiderite-A3/4",
          "Mesosiderite-B",
          "EL4/5",
          "Mesosiderite-B2",
          "EH7-an",
          "EH",
          "E5-an",
          "Mesosiderite?",
          "H5-7",
          "H3 ",
          "H5-an",
          "H/L~4",
          "CH/CBb",
          "LL3/4",
          "H3.2-6",
          "L3.7-6",
          "L3.5-5",
          "CR-an",
          "L3.6-4",
          "H3.8-4",
          "L3.7-3.9",
          "L3.7-4",
          "L3.7/3.8",
          "L3.5-3.8",
          "CO3.8",
          "L3.8-6",
          "L3.8-an",
          "CO3.7",
          "L3.9-5",
          "L3.9-6",
          "L3.5-3.9",
          "L3.5-3.7",
          "L(LL)6",
          "L3.2-3.5",
          "CV2",
          "L3.0-3.7",
          "L3.0-3.9",
          "H/L3.5",
          "L3.10",
          "H3.8-6",
          "L3.2-3.6",
          "CR1",
          "H3.8-5",
          "L3.3-3.5",
          "L3.3-3.6",
          "L3.3-3.7",
          "CR2-an",
          "L3.4-3.7",
          "L3.9/4",
          "H6 ",
          "L4 ",
          "L/LL(?)3",
          "LL3.00",
          "L/LL3-5",
          "LL3.1-3.5",
          "Eucrite-an",
          "H(L)3",
          "H3.5-4",
          "H(L)3-an",
          "L/LL~4",
          "H3.4/3.5",
          "H3.4-5",
          "LL3.7-6",
          "L/LL",
          "L-melt breccia",
          "LL3.9/4",
          "L/LL3-6",
          "L/LL3.10",
          "LL3-5",
          "L/LL3.2",
          "L/LL3.6/3.7",
          "H(?)4",
          "CK5/6",
          "L6-melt breccia",
          "H3.7-6",
          "L/LL4-6",
          "H3.7/3.8",
          "L5-7",
          "L/LL4/5",
          "L/LL5-6",
          "L/LL5/6",
          "L4-an",
          "L/LL6-an",
          "H/L3"
         ],
         "xaxis": "x",
         "y": [
          1.7304079640533003,
          2.621750997461008,
          1.1074936325045484,
          1.1932197875166002,
          2.860147091515376,
          0.5105853788687299,
          1.2502562761506275,
          2.12201696969697,
          1.7633799472295515,
          0.5438836363636363,
          509.12360294117644,
          1.132597510373444,
          0.10385454545454545,
          0.6042114285714285,
          0.0017294117647058825,
          1.0919119496855345,
          0.47021290322580644,
          0.7917096774193547,
          0.9030238095238097,
          1.116709677419355,
          0.4950991735537191,
          349.2993796296297,
          1.3780283018867927,
          0.8924599999999998,
          490.5816288659794,
          0.1091145833333333,
          3.902035714285714,
          25.04813253012049,
          0.5751604938271605,
          0.6588933333333334,
          1458.8903378378377,
          34.08138888888888,
          3.859242857142857,
          1.0571014492753625,
          0.38673134328358205,
          3.2934545454545456,
          4.423261538461538,
          0.064140625,
          10.363852459016394,
          508.347475409836,
          0.13641666666666669,
          0.5075892857142857,
          0.030370370370370364,
          1.506452830188679,
          2.003,
          0.1222075471698113,
          0.11975999999999999,
          0.25185416666666666,
          89.68948936170213,
          0.28221739130434786,
          0.787,
          1.9165116279069767,
          2.5505714285714287,
          751.0245000000001,
          1.868775,
          228.58537499999997,
          1.2706842105263156,
          7.94673684210526,
          1.7637368421052633,
          0.020486486486486488,
          0.8285135135135134,
          3.4023783783783785,
          0.9340555555555556,
          1.9665428571428574,
          164.41932352941174,
          8.640941176470587,
          1.8827500000000001,
          0.3659000000000001,
          1.0145,
          0.5884827586206897,
          11.518357142857143,
          0.09666666666666666,
          12.628576923076922,
          0.9805769230769231,
          201.22272727272727,
          0.014000000000000002,
          0.01304761904761905,
          0.6884,
          1.201157894736842,
          67.42363157894737,
          0.4247222222222222,
          0.4876666666666667,
          2.0414705882352946,
          0.1541875,
          3.0093750000000004,
          0.7425625,
          0.3094375,
          1.561,
          0.276625,
          8.6641875,
          0.14375,
          15.943499999999998,
          0.13479999999999998,
          0.5797333333333333,
          0.6265333333333334,
          0.7972142857142857,
          15.122785714285715,
          30.41535714285714,
          4322.832857142858,
          1.2416153846153846,
          1.9974615384615382,
          0.17583333333333329,
          1.1425,
          0.29583333333333334,
          2409.610416666667,
          3.7312499999999997,
          1.0929166666666668,
          1.0231818181818182,
          685.358909090909,
          1.357363636363636,
          4.178545454545455,
          57.745909090909095,
          0.7046363636363636,
          0.008636363636363638,
          0.7242999999999999,
          8.103399999999999,
          0.22729999999999997,
          54.0804,
          55.77722222222222,
          0.03944444444444444,
          0.249,
          5.855333333333333,
          0.08888888888888888,
          17.14422222222222,
          2.6991111111111112,
          0.342,
          0.9096666666666668,
          991.122222222222,
          0.28855555555555557,
          0.20925,
          0.0605,
          0.9626250000000001,
          0.17525,
          0.156375,
          11.207624999999998,
          0.674625,
          24.74725,
          53.137,
          30.214285714285715,
          0.2912857142857143,
          0.2254285714285714,
          2.9612857142857143,
          3.8129999999999997,
          2.313,
          0.028428571428571425,
          0.24942857142857142,
          0.41428571428571426,
          3.0470000000000006,
          0.083,
          9.033166666666668,
          0.038666666666666676,
          2.008833333333333,
          698.2063333333334,
          0.2761666666666667,
          9.006333333333332,
          11.156,
          8.976833333333333,
          3.0481666666666665,
          73.98666666666666,
          0.22483333333333336,
          2.4026666666666667,
          0.051666666666666666,
          4.653833333333334,
          24.303166666666666,
          1.493,
          5.5876,
          3.8622,
          0.0332,
          10.053,
          0.40119999999999995,
          0.030800000000000004,
          0.018999999999999996,
          0.2784,
          0.0124,
          0.042749999999999996,
          0.36375,
          1.1455,
          0.8112499999999999,
          0.0245,
          0.5065000000000001,
          7.7955,
          0.20775000000000002,
          55.015,
          1.58275,
          1.32425,
          0.013750000000000002,
          42.167500000000004,
          9.12525,
          0.171,
          0.019666666666666666,
          2.5686666666666667,
          0.5243333333333333,
          1.019,
          0.3873333333333333,
          0.02,
          1.4543333333333333,
          67.82000000000001,
          9.551333333333334,
          0.10099999999999999,
          1.7493333333333334,
          2.0100000000000002,
          0.042,
          0.18400000000000002,
          0.07333333333333333,
          1.328,
          240.23333333333335,
          0.03,
          0.11733333333333335,
          0.026333333333333337,
          0.18300000000000002,
          0.2966666666666667,
          2.1543333333333337,
          30.666666666666668,
          359.3333333333333,
          19.166666666666668,
          2.0485,
          0.066,
          2.1355,
          0.085,
          0.8815000000000001,
          0.16,
          0.2315,
          0.505,
          2.5185,
          4.394,
          0.6235,
          25.613,
          0.028999999999999998,
          0.2185,
          0.475,
          6.234999999999999,
          0.1875,
          0.083,
          0.0885,
          0.224,
          0.006,
          0.0965,
          0.1305,
          0.1805,
          0.315,
          0.0235,
          0.0015,
          0.0025,
          0.6615000000000001,
          4.379,
          0.010499999999999999,
          0.0565,
          35,
          0.4915,
          0.0325,
          1.045,
          0.3765,
          0.161,
          0.35100000000000003,
          1.931,
          0.258,
          0.738,
          0.421,
          4,
          16.3,
          0.363,
          0.633,
          58.4,
          0.05,
          2.29,
          0.023,
          0.124,
          0.042,
          0.226,
          0.014,
          0.251,
          0.018,
          0.008,
          0.169,
          0.294,
          0.001,
          1.228,
          0.087,
          1.056,
          0.001,
          7.7,
          18.1,
          0.007,
          0.028,
          0.205,
          2.428,
          0.148,
          0.174,
          0.076,
          0.526,
          0.027,
          1.575,
          0.011,
          0.001,
          7.25,
          0.86,
          28,
          0.171,
          14.18,
          0.061,
          218,
          0.216,
          0.059,
          320,
          8.132,
          0.609,
          54,
          4.72,
          0.001,
          0.01,
          0.414,
          3.891,
          0.011,
          0.018,
          0.411,
          16,
          1.452,
          0.084,
          6.1,
          5.59,
          114,
          0.153,
          50,
          1.47,
          0.031,
          0.35,
          0.073,
          23,
          0.034,
          14.04,
          1.6,
          0.032,
          0.172,
          0.326,
          0.149,
          0.265,
          0.352,
          0.031,
          0.05,
          0.424,
          1.001,
          0.404,
          0.001,
          0.065,
          0.106,
          0.125,
          0.005,
          0.203,
          0.015,
          0.16,
          0.272,
          0.402,
          0.003,
          0.009,
          0.002,
          0.691,
          0.125,
          0.08,
          0.223,
          0.42,
          0.167,
          0.271,
          0.024,
          0.499,
          0.23,
          0.227,
          0.012,
          0.454,
          0.019,
          0.068,
          0.287,
          0.061,
          0.016,
          2.618,
          0.016,
          0.033,
          0.101,
          0.098,
          3.65,
          0.209,
          0.929,
          0.789,
          3.287,
          0.339,
          0.057,
          5.9,
          0.068
         ],
         "yaxis": "y"
        },
        {
         "type": "scatter",
         "x": [
          "L6",
          "H5",
          "H4",
          "H6",
          "L5",
          "LL5",
          "LL6",
          "L4",
          "H4/5",
          "CM2",
          "Iron, IIIAB",
          "H3",
          "LL",
          "L3",
          "E3",
          "LL4",
          "Ureilite",
          "H5/6",
          "Howardite",
          "Diogenite",
          "Eucrite-pmict",
          "Iron, IIAB",
          "CO3",
          "H~5",
          "Iron, ungrouped",
          "CR2",
          "Mesosiderite",
          "CV3",
          "L3.5",
          "L~6",
          "Iron, IAB-MG",
          "Iron",
          "H3.7",
          "OC",
          "LL3",
          "L5/6",
          "H",
          "CK5",
          "Eucrite-mmict",
          "Iron, IVA",
          "Lunar (anorth)",
          "H5-6",
          "L6 ",
          "H3.8",
          "H4-6",
          "EH3",
          "Eucrite-br",
          "L3.4",
          "Aubrite",
          "Eucrite",
          "H4-5",
          "L3.6",
          "L",
          "Iron, IAB-ung",
          "CK4",
          "Iron, IAB complex",
          "L3.7",
          "H3.6",
          "L4/5",
          "LL5/6",
          "L3.8",
          "EL6",
          "H3.9",
          "Martian (shergottite)",
          "Pallasite, PMG",
          "H3-6",
          "H3-5",
          "Acapulcoite",
          "LL5-6",
          "H3/4",
          "Stone-uncl",
          "Eucrite-unbr",
          "L5-6",
          "L~5",
          "Iron, IAB-sLL",
          "H5 ",
          "L5 ",
          "L7",
          "LL4-6",
          "Iron, IID",
          "L/LL3",
          "H~6",
          "L3.9",
          "LL7",
          "Eucrite-cm",
          "H3.5",
          "Ureilite-pmict",
          "LL3.4",
          "CH3",
          "EH4",
          "EL3",
          "L/LL6",
          "Lunar",
          "H3.4",
          "H~4",
          "L4-6",
          "L4-5",
          "L/LL4",
          "Iron, IVB",
          "Lunar (basalt)",
          "Winonaite",
          "Lodranite",
          "C2-ung",
          "L3.3",
          "Iron, IIIE",
          "LL3.7",
          "L3.2",
          "L3.1",
          "Pallasite, PMG-an",
          "Achondrite-ung",
          "Pallasite",
          "L/LL5",
          "LL3.3",
          "H4 ",
          "C3-ung",
          "LL3.6",
          "LL3.5",
          "Iron, IIE",
          "Iron, IIIF",
          "EH4/5",
          "LL3.8",
          "L6/7",
          "CM1",
          "Iron, IAB-sHL",
          "LL3.9",
          "H4-an",
          "L3-6",
          "Iron, IC",
          "Brachinite",
          "EL4",
          "LL~5",
          "Lunar (feldsp. breccia)",
          "R5",
          "C",
          "H3-4",
          "L3-5",
          "Iron, IAB-sLM",
          "Iron, IIE-an",
          "Iron, IIC",
          "Chondrite-ung",
          "CK4/5",
          "CI1",
          "Martian (nakhlite)",
          "H/L4",
          "H7",
          "R4",
          "H3.3",
          "Angrite",
          "EH-imp melt",
          "Iron, IAB-sLH",
          "R3",
          "Mesosiderite-an",
          "Mesosiderite-A1",
          "CR",
          "CO3.5",
          "Iron, IIF",
          "LL3.2",
          "LL3-6",
          "Iron, IVA-an",
          "Diogenite-pm",
          "L-imp melt",
          "CK6",
          "EH5",
          "Iron, IIG",
          "H4/6",
          "H3.9/4",
          "Iron, IAB-sHH",
          "L3/4",
          "Aubrite-an",
          "L~4",
          "E3-an",
          "E-an",
          "CK3",
          "H-metal",
          "E4",
          "LL4-5",
          "CO3.6",
          "CBb",
          "H-an",
          "LL~6",
          "Iron, IIIAB?",
          "Eucrite-Mg rich",
          "CBa",
          "Iron, IAB?",
          "Mesosiderite-B1",
          "H-imp melt",
          "Pallasite, PES",
          "Pallasite, ungrouped",
          "H3.9-6",
          "LL3.0",
          "L/LL3.4",
          "H3.2-an",
          "CM1/2",
          "LL3.15",
          "LL~3",
          "CO3.0",
          "CO3.2",
          "CO3.3",
          "CV3-an",
          "C4-ung",
          "CO3.4",
          "E",
          "EL5",
          "H/L6",
          "Ureilite-an",
          "Iron, IIIAB-an",
          "Acapulcoite/Lodranite",
          "R3.8-6",
          "R3.8",
          "H3.0",
          "H-melt rock",
          "Iron, IAB-an",
          "Mesosiderite-A3",
          "Mesosiderite-B4",
          "Mesosiderite-A4",
          "H3.7-5",
          "CM-an",
          "H3.8-an",
          "R3-6",
          "R3.6",
          "H(5?)",
          "L3.05",
          "LL(L)3",
          "LL3.1",
          "CK4-an",
          "H3.6-6",
          "Mesosiderite-C2",
          "C4",
          "CK3-an",
          "LL3.8-6",
          "Mesosiderite-A",
          "H3.1",
          "C6",
          "H3.2",
          "Lunar (gabbro)",
          "Lunar (bas/anor)",
          "L3.0",
          "H6-melt breccia",
          "K3",
          "L/LL~5",
          "E6",
          "Chondrite-fusion crust",
          "E5",
          "H5-melt breccia",
          "Enst achon-ung",
          "L(?)3",
          "L(LL)3",
          "Iron, IC-an",
          "L(LL)3.05",
          "L-melt rock",
          "L/LL~6",
          "L3-4",
          "H3.9-5",
          "H3.8/4",
          "Martian (OPX)",
          "H3.10",
          "H3.0-3.4",
          "EL7",
          "Martian (chassignite)",
          "EL6/7",
          "L~3",
          "Lunar (norite)",
          "Iron, IIIE-an",
          "H3.8/3.9",
          "Diogenite-olivine",
          "K",
          "Lunar (bas. breccia)",
          "C1/2-ung",
          "C4/5",
          "Lodranite-an",
          "Diogenite-an",
          "H3.2-3.7",
          "LL7(?)",
          "C5/6-ung",
          "LL6(?)",
          "LL6 ",
          "L(LL)3.5-3.7",
          "LL5-7",
          "L(LL)5",
          "C2",
          "Mesosiderite-A2",
          "Iron, IID-an",
          "R3.9",
          "EH3/4-an",
          "R3.5-6",
          "EH7",
          "H~4/5",
          "R3.8-5",
          "EH6-an",
          "H/L5",
          "R",
          "H/L4-5",
          "EH6",
          "Stone-ung",
          "H/L3.9",
          "H?",
          "H/L3.6",
          "R3-4",
          "Pallasite?",
          "H3-an",
          "Mesosiderite-C",
          "LL4/5",
          "Iron, IIAB-an",
          "Mesosiderite-A3/4",
          "Mesosiderite-B",
          "EL4/5",
          "Mesosiderite-B2",
          "EH7-an",
          "EH",
          "E5-an",
          "Mesosiderite?",
          "H5-7",
          "H3 ",
          "H5-an",
          "H/L~4",
          "CH/CBb",
          "LL3/4",
          "H3.2-6",
          "L3.7-6",
          "L3.5-5",
          "CR-an",
          "L3.6-4",
          "H3.8-4",
          "L3.7-3.9",
          "L3.7-4",
          "L3.7/3.8",
          "L3.5-3.8",
          "CO3.8",
          "L3.8-6",
          "L3.8-an",
          "CO3.7",
          "L3.9-5",
          "L3.9-6",
          "L3.5-3.9",
          "L3.5-3.7",
          "L(LL)6",
          "L3.2-3.5",
          "CV2",
          "L3.0-3.7",
          "L3.0-3.9",
          "H/L3.5",
          "L3.10",
          "H3.8-6",
          "L3.2-3.6",
          "CR1",
          "H3.8-5",
          "L3.3-3.5",
          "L3.3-3.6",
          "L3.3-3.7",
          "CR2-an",
          "L3.4-3.7",
          "L3.9/4",
          "H6 ",
          "L4 ",
          "L/LL(?)3",
          "LL3.00",
          "L/LL3-5",
          "LL3.1-3.5",
          "Eucrite-an",
          "H(L)3",
          "H3.5-4",
          "H(L)3-an",
          "L/LL~4",
          "H3.4/3.5",
          "H3.4-5",
          "LL3.7-6",
          "L/LL",
          "L-melt breccia",
          "LL3.9/4",
          "L/LL3-6",
          "L/LL3.10",
          "LL3-5",
          "L/LL3.2",
          "L/LL3.6/3.7",
          "H(?)4",
          "CK5/6",
          "L6-melt breccia",
          "H3.7-6",
          "L/LL4-6",
          "H3.7/3.8",
          "L5-7",
          "L/LL4/5",
          "L/LL5-6",
          "L/LL5/6",
          "L4-an",
          "L/LL6-an",
          "H/L3"
         ],
         "y": [
          1.7304079640533003,
          2.621750997461008,
          1.1074936325045484,
          1.1932197875166002,
          2.860147091515376,
          0.5105853788687299,
          1.2502562761506275,
          2.12201696969697,
          1.7633799472295515,
          0.5438836363636363,
          509.12360294117644,
          1.132597510373444,
          0.10385454545454545,
          0.6042114285714285,
          0.0017294117647058825,
          1.0919119496855345,
          0.47021290322580644,
          0.7917096774193547,
          0.9030238095238097,
          1.116709677419355,
          0.4950991735537191,
          349.2993796296297,
          1.3780283018867927,
          0.8924599999999998,
          490.5816288659794,
          0.1091145833333333,
          3.902035714285714,
          25.04813253012049,
          0.5751604938271605,
          0.6588933333333334,
          1458.8903378378377,
          34.08138888888888,
          3.859242857142857,
          1.0571014492753625,
          0.38673134328358205,
          3.2934545454545456,
          4.423261538461538,
          0.064140625,
          10.363852459016394,
          508.347475409836,
          0.13641666666666669,
          0.5075892857142857,
          0.030370370370370364,
          1.506452830188679,
          2.003,
          0.1222075471698113,
          0.11975999999999999,
          0.25185416666666666,
          89.68948936170213,
          0.28221739130434786,
          0.787,
          1.9165116279069767,
          2.5505714285714287,
          751.0245000000001,
          1.868775,
          228.58537499999997,
          1.2706842105263156,
          7.94673684210526,
          1.7637368421052633,
          0.020486486486486488,
          0.8285135135135134,
          3.4023783783783785,
          0.9340555555555556,
          1.9665428571428574,
          164.41932352941174,
          8.640941176470587,
          1.8827500000000001,
          0.3659000000000001,
          1.0145,
          0.5884827586206897,
          11.518357142857143,
          0.09666666666666666,
          12.628576923076922,
          0.9805769230769231,
          201.22272727272727,
          0.014000000000000002,
          0.01304761904761905,
          0.6884,
          1.201157894736842,
          67.42363157894737,
          0.4247222222222222,
          0.4876666666666667,
          2.0414705882352946,
          0.1541875,
          3.0093750000000004,
          0.7425625,
          0.3094375,
          1.561,
          0.276625,
          8.6641875,
          0.14375,
          15.943499999999998,
          0.13479999999999998,
          0.5797333333333333,
          0.6265333333333334,
          0.7972142857142857,
          15.122785714285715,
          30.41535714285714,
          4322.832857142858,
          1.2416153846153846,
          1.9974615384615382,
          0.17583333333333329,
          1.1425,
          0.29583333333333334,
          2409.610416666667,
          3.7312499999999997,
          1.0929166666666668,
          1.0231818181818182,
          685.358909090909,
          1.357363636363636,
          4.178545454545455,
          57.745909090909095,
          0.7046363636363636,
          0.008636363636363638,
          0.7242999999999999,
          8.103399999999999,
          0.22729999999999997,
          54.0804,
          55.77722222222222,
          0.03944444444444444,
          0.249,
          5.855333333333333,
          0.08888888888888888,
          17.14422222222222,
          2.6991111111111112,
          0.342,
          0.9096666666666668,
          991.122222222222,
          0.28855555555555557,
          0.20925,
          0.0605,
          0.9626250000000001,
          0.17525,
          0.156375,
          11.207624999999998,
          0.674625,
          24.74725,
          53.137,
          30.214285714285715,
          0.2912857142857143,
          0.2254285714285714,
          2.9612857142857143,
          3.8129999999999997,
          2.313,
          0.028428571428571425,
          0.24942857142857142,
          0.41428571428571426,
          3.0470000000000006,
          0.083,
          9.033166666666668,
          0.038666666666666676,
          2.008833333333333,
          698.2063333333334,
          0.2761666666666667,
          9.006333333333332,
          11.156,
          8.976833333333333,
          3.0481666666666665,
          73.98666666666666,
          0.22483333333333336,
          2.4026666666666667,
          0.051666666666666666,
          4.653833333333334,
          24.303166666666666,
          1.493,
          5.5876,
          3.8622,
          0.0332,
          10.053,
          0.40119999999999995,
          0.030800000000000004,
          0.018999999999999996,
          0.2784,
          0.0124,
          0.042749999999999996,
          0.36375,
          1.1455,
          0.8112499999999999,
          0.0245,
          0.5065000000000001,
          7.7955,
          0.20775000000000002,
          55.015,
          1.58275,
          1.32425,
          0.013750000000000002,
          42.167500000000004,
          9.12525,
          0.171,
          0.019666666666666666,
          2.5686666666666667,
          0.5243333333333333,
          1.019,
          0.3873333333333333,
          0.02,
          1.4543333333333333,
          67.82000000000001,
          9.551333333333334,
          0.10099999999999999,
          1.7493333333333334,
          2.0100000000000002,
          0.042,
          0.18400000000000002,
          0.07333333333333333,
          1.328,
          240.23333333333335,
          0.03,
          0.11733333333333335,
          0.026333333333333337,
          0.18300000000000002,
          0.2966666666666667,
          2.1543333333333337,
          30.666666666666668,
          359.3333333333333,
          19.166666666666668,
          2.0485,
          0.066,
          2.1355,
          0.085,
          0.8815000000000001,
          0.16,
          0.2315,
          0.505,
          2.5185,
          4.394,
          0.6235,
          25.613,
          0.028999999999999998,
          0.2185,
          0.475,
          6.234999999999999,
          0.1875,
          0.083,
          0.0885,
          0.224,
          0.006,
          0.0965,
          0.1305,
          0.1805,
          0.315,
          0.0235,
          0.0015,
          0.0025,
          0.6615000000000001,
          4.379,
          0.010499999999999999,
          0.0565,
          35,
          0.4915,
          0.0325,
          1.045,
          0.3765,
          0.161,
          0.35100000000000003,
          1.931,
          0.258,
          0.738,
          0.421,
          4,
          16.3,
          0.363,
          0.633,
          58.4,
          0.05,
          2.29,
          0.023,
          0.124,
          0.042,
          0.226,
          0.014,
          0.251,
          0.018,
          0.008,
          0.169,
          0.294,
          0.001,
          1.228,
          0.087,
          1.056,
          0.001,
          7.7,
          18.1,
          0.007,
          0.028,
          0.205,
          2.428,
          0.148,
          0.174,
          0.076,
          0.526,
          0.027,
          1.575,
          0.011,
          0.001,
          7.25,
          0.86,
          28,
          0.171,
          14.18,
          0.061,
          218,
          0.216,
          0.059,
          320,
          8.132,
          0.609,
          54,
          4.72,
          0.001,
          0.01,
          0.414,
          3.891,
          0.011,
          0.018,
          0.411,
          16,
          1.452,
          0.084,
          6.1,
          5.59,
          114,
          0.153,
          50,
          1.47,
          0.031,
          0.35,
          0.073,
          23,
          0.034,
          14.04,
          1.6,
          0.032,
          0.172,
          0.326,
          0.149,
          0.265,
          0.352,
          0.031,
          0.05,
          0.424,
          1.001,
          0.404,
          0.001,
          0.065,
          0.106,
          0.125,
          0.005,
          0.203,
          0.015,
          0.16,
          0.272,
          0.402,
          0.003,
          0.009,
          0.002,
          0.691,
          0.125,
          0.08,
          0.223,
          0.42,
          0.167,
          0.271,
          0.024,
          0.499,
          0.23,
          0.227,
          0.012,
          0.454,
          0.019,
          0.068,
          0.287,
          0.061,
          0.016,
          2.618,
          0.016,
          0.033,
          0.101,
          0.098,
          3.65,
          0.209,
          0.929,
          0.789,
          3.287,
          0.339,
          0.057,
          5.9,
          0.068
         ]
        }
       ],
       "layout": {
        "height": 800,
        "template": {
         "data": {
          "bar": [
           {
            "error_x": {
             "color": "#2a3f5f"
            },
            "error_y": {
             "color": "#2a3f5f"
            },
            "marker": {
             "line": {
              "color": "#E5ECF6",
              "width": 0.5
             },
             "pattern": {
              "fillmode": "overlay",
              "size": 10,
              "solidity": 0.2
             }
            },
            "type": "bar"
           }
          ],
          "barpolar": [
           {
            "marker": {
             "line": {
              "color": "#E5ECF6",
              "width": 0.5
             },
             "pattern": {
              "fillmode": "overlay",
              "size": 10,
              "solidity": 0.2
             }
            },
            "type": "barpolar"
           }
          ],
          "carpet": [
           {
            "aaxis": {
             "endlinecolor": "#2a3f5f",
             "gridcolor": "white",
             "linecolor": "white",
             "minorgridcolor": "white",
             "startlinecolor": "#2a3f5f"
            },
            "baxis": {
             "endlinecolor": "#2a3f5f",
             "gridcolor": "white",
             "linecolor": "white",
             "minorgridcolor": "white",
             "startlinecolor": "#2a3f5f"
            },
            "type": "carpet"
           }
          ],
          "choropleth": [
           {
            "colorbar": {
             "outlinewidth": 0,
             "ticks": ""
            },
            "type": "choropleth"
           }
          ],
          "contour": [
           {
            "colorbar": {
             "outlinewidth": 0,
             "ticks": ""
            },
            "colorscale": [
             [
              0,
              "#0d0887"
             ],
             [
              0.1111111111111111,
              "#46039f"
             ],
             [
              0.2222222222222222,
              "#7201a8"
             ],
             [
              0.3333333333333333,
              "#9c179e"
             ],
             [
              0.4444444444444444,
              "#bd3786"
             ],
             [
              0.5555555555555556,
              "#d8576b"
             ],
             [
              0.6666666666666666,
              "#ed7953"
             ],
             [
              0.7777777777777778,
              "#fb9f3a"
             ],
             [
              0.8888888888888888,
              "#fdca26"
             ],
             [
              1,
              "#f0f921"
             ]
            ],
            "type": "contour"
           }
          ],
          "contourcarpet": [
           {
            "colorbar": {
             "outlinewidth": 0,
             "ticks": ""
            },
            "type": "contourcarpet"
           }
          ],
          "heatmap": [
           {
            "colorbar": {
             "outlinewidth": 0,
             "ticks": ""
            },
            "colorscale": [
             [
              0,
              "#0d0887"
             ],
             [
              0.1111111111111111,
              "#46039f"
             ],
             [
              0.2222222222222222,
              "#7201a8"
             ],
             [
              0.3333333333333333,
              "#9c179e"
             ],
             [
              0.4444444444444444,
              "#bd3786"
             ],
             [
              0.5555555555555556,
              "#d8576b"
             ],
             [
              0.6666666666666666,
              "#ed7953"
             ],
             [
              0.7777777777777778,
              "#fb9f3a"
             ],
             [
              0.8888888888888888,
              "#fdca26"
             ],
             [
              1,
              "#f0f921"
             ]
            ],
            "type": "heatmap"
           }
          ],
          "heatmapgl": [
           {
            "colorbar": {
             "outlinewidth": 0,
             "ticks": ""
            },
            "colorscale": [
             [
              0,
              "#0d0887"
             ],
             [
              0.1111111111111111,
              "#46039f"
             ],
             [
              0.2222222222222222,
              "#7201a8"
             ],
             [
              0.3333333333333333,
              "#9c179e"
             ],
             [
              0.4444444444444444,
              "#bd3786"
             ],
             [
              0.5555555555555556,
              "#d8576b"
             ],
             [
              0.6666666666666666,
              "#ed7953"
             ],
             [
              0.7777777777777778,
              "#fb9f3a"
             ],
             [
              0.8888888888888888,
              "#fdca26"
             ],
             [
              1,
              "#f0f921"
             ]
            ],
            "type": "heatmapgl"
           }
          ],
          "histogram": [
           {
            "marker": {
             "pattern": {
              "fillmode": "overlay",
              "size": 10,
              "solidity": 0.2
             }
            },
            "type": "histogram"
           }
          ],
          "histogram2d": [
           {
            "colorbar": {
             "outlinewidth": 0,
             "ticks": ""
            },
            "colorscale": [
             [
              0,
              "#0d0887"
             ],
             [
              0.1111111111111111,
              "#46039f"
             ],
             [
              0.2222222222222222,
              "#7201a8"
             ],
             [
              0.3333333333333333,
              "#9c179e"
             ],
             [
              0.4444444444444444,
              "#bd3786"
             ],
             [
              0.5555555555555556,
              "#d8576b"
             ],
             [
              0.6666666666666666,
              "#ed7953"
             ],
             [
              0.7777777777777778,
              "#fb9f3a"
             ],
             [
              0.8888888888888888,
              "#fdca26"
             ],
             [
              1,
              "#f0f921"
             ]
            ],
            "type": "histogram2d"
           }
          ],
          "histogram2dcontour": [
           {
            "colorbar": {
             "outlinewidth": 0,
             "ticks": ""
            },
            "colorscale": [
             [
              0,
              "#0d0887"
             ],
             [
              0.1111111111111111,
              "#46039f"
             ],
             [
              0.2222222222222222,
              "#7201a8"
             ],
             [
              0.3333333333333333,
              "#9c179e"
             ],
             [
              0.4444444444444444,
              "#bd3786"
             ],
             [
              0.5555555555555556,
              "#d8576b"
             ],
             [
              0.6666666666666666,
              "#ed7953"
             ],
             [
              0.7777777777777778,
              "#fb9f3a"
             ],
             [
              0.8888888888888888,
              "#fdca26"
             ],
             [
              1,
              "#f0f921"
             ]
            ],
            "type": "histogram2dcontour"
           }
          ],
          "mesh3d": [
           {
            "colorbar": {
             "outlinewidth": 0,
             "ticks": ""
            },
            "type": "mesh3d"
           }
          ],
          "parcoords": [
           {
            "line": {
             "colorbar": {
              "outlinewidth": 0,
              "ticks": ""
             }
            },
            "type": "parcoords"
           }
          ],
          "pie": [
           {
            "automargin": true,
            "type": "pie"
           }
          ],
          "scatter": [
           {
            "marker": {
             "colorbar": {
              "outlinewidth": 0,
              "ticks": ""
             }
            },
            "type": "scatter"
           }
          ],
          "scatter3d": [
           {
            "line": {
             "colorbar": {
              "outlinewidth": 0,
              "ticks": ""
             }
            },
            "marker": {
             "colorbar": {
              "outlinewidth": 0,
              "ticks": ""
             }
            },
            "type": "scatter3d"
           }
          ],
          "scattercarpet": [
           {
            "marker": {
             "colorbar": {
              "outlinewidth": 0,
              "ticks": ""
             }
            },
            "type": "scattercarpet"
           }
          ],
          "scattergeo": [
           {
            "marker": {
             "colorbar": {
              "outlinewidth": 0,
              "ticks": ""
             }
            },
            "type": "scattergeo"
           }
          ],
          "scattergl": [
           {
            "marker": {
             "colorbar": {
              "outlinewidth": 0,
              "ticks": ""
             }
            },
            "type": "scattergl"
           }
          ],
          "scattermapbox": [
           {
            "marker": {
             "colorbar": {
              "outlinewidth": 0,
              "ticks": ""
             }
            },
            "type": "scattermapbox"
           }
          ],
          "scatterpolar": [
           {
            "marker": {
             "colorbar": {
              "outlinewidth": 0,
              "ticks": ""
             }
            },
            "type": "scatterpolar"
           }
          ],
          "scatterpolargl": [
           {
            "marker": {
             "colorbar": {
              "outlinewidth": 0,
              "ticks": ""
             }
            },
            "type": "scatterpolargl"
           }
          ],
          "scatterternary": [
           {
            "marker": {
             "colorbar": {
              "outlinewidth": 0,
              "ticks": ""
             }
            },
            "type": "scatterternary"
           }
          ],
          "surface": [
           {
            "colorbar": {
             "outlinewidth": 0,
             "ticks": ""
            },
            "colorscale": [
             [
              0,
              "#0d0887"
             ],
             [
              0.1111111111111111,
              "#46039f"
             ],
             [
              0.2222222222222222,
              "#7201a8"
             ],
             [
              0.3333333333333333,
              "#9c179e"
             ],
             [
              0.4444444444444444,
              "#bd3786"
             ],
             [
              0.5555555555555556,
              "#d8576b"
             ],
             [
              0.6666666666666666,
              "#ed7953"
             ],
             [
              0.7777777777777778,
              "#fb9f3a"
             ],
             [
              0.8888888888888888,
              "#fdca26"
             ],
             [
              1,
              "#f0f921"
             ]
            ],
            "type": "surface"
           }
          ],
          "table": [
           {
            "cells": {
             "fill": {
              "color": "#EBF0F8"
             },
             "line": {
              "color": "white"
             }
            },
            "header": {
             "fill": {
              "color": "#C8D4E3"
             },
             "line": {
              "color": "white"
             }
            },
            "type": "table"
           }
          ]
         },
         "layout": {
          "annotationdefaults": {
           "arrowcolor": "#2a3f5f",
           "arrowhead": 0,
           "arrowwidth": 1
          },
          "autotypenumbers": "strict",
          "coloraxis": {
           "colorbar": {
            "outlinewidth": 0,
            "ticks": ""
           }
          },
          "colorscale": {
           "diverging": [
            [
             0,
             "#8e0152"
            ],
            [
             0.1,
             "#c51b7d"
            ],
            [
             0.2,
             "#de77ae"
            ],
            [
             0.3,
             "#f1b6da"
            ],
            [
             0.4,
             "#fde0ef"
            ],
            [
             0.5,
             "#f7f7f7"
            ],
            [
             0.6,
             "#e6f5d0"
            ],
            [
             0.7,
             "#b8e186"
            ],
            [
             0.8,
             "#7fbc41"
            ],
            [
             0.9,
             "#4d9221"
            ],
            [
             1,
             "#276419"
            ]
           ],
           "sequential": [
            [
             0,
             "#0d0887"
            ],
            [
             0.1111111111111111,
             "#46039f"
            ],
            [
             0.2222222222222222,
             "#7201a8"
            ],
            [
             0.3333333333333333,
             "#9c179e"
            ],
            [
             0.4444444444444444,
             "#bd3786"
            ],
            [
             0.5555555555555556,
             "#d8576b"
            ],
            [
             0.6666666666666666,
             "#ed7953"
            ],
            [
             0.7777777777777778,
             "#fb9f3a"
            ],
            [
             0.8888888888888888,
             "#fdca26"
            ],
            [
             1,
             "#f0f921"
            ]
           ],
           "sequentialminus": [
            [
             0,
             "#0d0887"
            ],
            [
             0.1111111111111111,
             "#46039f"
            ],
            [
             0.2222222222222222,
             "#7201a8"
            ],
            [
             0.3333333333333333,
             "#9c179e"
            ],
            [
             0.4444444444444444,
             "#bd3786"
            ],
            [
             0.5555555555555556,
             "#d8576b"
            ],
            [
             0.6666666666666666,
             "#ed7953"
            ],
            [
             0.7777777777777778,
             "#fb9f3a"
            ],
            [
             0.8888888888888888,
             "#fdca26"
            ],
            [
             1,
             "#f0f921"
            ]
           ]
          },
          "colorway": [
           "#636efa",
           "#EF553B",
           "#00cc96",
           "#ab63fa",
           "#FFA15A",
           "#19d3f3",
           "#FF6692",
           "#B6E880",
           "#FF97FF",
           "#FECB52"
          ],
          "font": {
           "color": "#2a3f5f"
          },
          "geo": {
           "bgcolor": "white",
           "lakecolor": "white",
           "landcolor": "#E5ECF6",
           "showlakes": true,
           "showland": true,
           "subunitcolor": "white"
          },
          "hoverlabel": {
           "align": "left"
          },
          "hovermode": "closest",
          "mapbox": {
           "style": "light"
          },
          "paper_bgcolor": "white",
          "plot_bgcolor": "#E5ECF6",
          "polar": {
           "angularaxis": {
            "gridcolor": "white",
            "linecolor": "white",
            "ticks": ""
           },
           "bgcolor": "#E5ECF6",
           "radialaxis": {
            "gridcolor": "white",
            "linecolor": "white",
            "ticks": ""
           }
          },
          "scene": {
           "xaxis": {
            "backgroundcolor": "#E5ECF6",
            "gridcolor": "white",
            "gridwidth": 2,
            "linecolor": "white",
            "showbackground": true,
            "ticks": "",
            "zerolinecolor": "white"
           },
           "yaxis": {
            "backgroundcolor": "#E5ECF6",
            "gridcolor": "white",
            "gridwidth": 2,
            "linecolor": "white",
            "showbackground": true,
            "ticks": "",
            "zerolinecolor": "white"
           },
           "zaxis": {
            "backgroundcolor": "#E5ECF6",
            "gridcolor": "white",
            "gridwidth": 2,
            "linecolor": "white",
            "showbackground": true,
            "ticks": "",
            "zerolinecolor": "white"
           }
          },
          "shapedefaults": {
           "line": {
            "color": "#2a3f5f"
           }
          },
          "ternary": {
           "aaxis": {
            "gridcolor": "white",
            "linecolor": "white",
            "ticks": ""
           },
           "baxis": {
            "gridcolor": "white",
            "linecolor": "white",
            "ticks": ""
           },
           "bgcolor": "#E5ECF6",
           "caxis": {
            "gridcolor": "white",
            "linecolor": "white",
            "ticks": ""
           }
          },
          "title": {
           "x": 0.05
          },
          "xaxis": {
           "automargin": true,
           "gridcolor": "white",
           "linecolor": "white",
           "ticks": "",
           "title": {
            "standoff": 15
           },
           "zerolinecolor": "white",
           "zerolinewidth": 2
          },
          "yaxis": {
           "automargin": true,
           "gridcolor": "white",
           "linecolor": "white",
           "ticks": "",
           "title": {
            "standoff": 15
           },
           "zerolinecolor": "white",
           "zerolinewidth": 2
          }
         }
        },
        "title": {
         "text": "Side By Side Subplots"
        },
        "width": 1500,
        "xaxis": {
         "anchor": "y",
         "domain": [
          0,
          0.45
         ]
        },
        "xaxis2": {
         "anchor": "y2",
         "domain": [
          0.55,
          1
         ]
        },
        "yaxis": {
         "anchor": "x",
         "domain": [
          0,
          1
         ]
        },
        "yaxis2": {
         "anchor": "x2",
         "domain": [
          0,
          1
         ]
        }
       }
      }
     },
     "metadata": {},
     "output_type": "display_data"
    }
   ],
   "source": [
    "fig = make_subplots(rows=1, cols=2)\n",
    "\n",
    "fig.add_trace(\n",
    "    go.Scatter(x=df_2.index, y=df_2['mean']),\n",
    "    row=1, col=1\n",
    ")\n",
    "\n",
    "fig.add_trace(\n",
    "    go.Line(x=df_2.index, y=df_2['mean'])\n",
    ")\n",
    "\n",
    "fig.update_layout(height=800, width=1500, title_text=\"Side By Side Subplots\")\n",
    "fig.show()"
   ]
  },
  {
   "cell_type": "code",
   "execution_count": 13,
   "metadata": {},
   "outputs": [
    {
     "data": {
      "text/html": [
       "<div>\n",
       "<style scoped>\n",
       "    .dataframe tbody tr th:only-of-type {\n",
       "        vertical-align: middle;\n",
       "    }\n",
       "\n",
       "    .dataframe tbody tr th {\n",
       "        vertical-align: top;\n",
       "    }\n",
       "\n",
       "    .dataframe thead th {\n",
       "        text-align: right;\n",
       "    }\n",
       "</style>\n",
       "<table border=\"1\" class=\"dataframe\">\n",
       "  <thead>\n",
       "    <tr style=\"text-align: right;\">\n",
       "      <th></th>\n",
       "      <th>name</th>\n",
       "      <th>id</th>\n",
       "      <th>nametype</th>\n",
       "      <th>recclass</th>\n",
       "      <th>mass (kg)</th>\n",
       "      <th>fall</th>\n",
       "      <th>year</th>\n",
       "      <th>lat</th>\n",
       "      <th>lon</th>\n",
       "      <th>count</th>\n",
       "    </tr>\n",
       "  </thead>\n",
       "  <tbody>\n",
       "    <tr>\n",
       "      <th>0</th>\n",
       "      <td>Aachen</td>\n",
       "      <td>1</td>\n",
       "      <td>Valid</td>\n",
       "      <td>L5</td>\n",
       "      <td>0.021</td>\n",
       "      <td>Fell</td>\n",
       "      <td>1880</td>\n",
       "      <td>50.77500</td>\n",
       "      <td>6.08333</td>\n",
       "      <td>1</td>\n",
       "    </tr>\n",
       "    <tr>\n",
       "      <th>1</th>\n",
       "      <td>Aarhus</td>\n",
       "      <td>2</td>\n",
       "      <td>Valid</td>\n",
       "      <td>H6</td>\n",
       "      <td>0.720</td>\n",
       "      <td>Fell</td>\n",
       "      <td>1951</td>\n",
       "      <td>56.18333</td>\n",
       "      <td>10.23333</td>\n",
       "      <td>1</td>\n",
       "    </tr>\n",
       "    <tr>\n",
       "      <th>2</th>\n",
       "      <td>Abee</td>\n",
       "      <td>6</td>\n",
       "      <td>Valid</td>\n",
       "      <td>EH4</td>\n",
       "      <td>107.000</td>\n",
       "      <td>Fell</td>\n",
       "      <td>1952</td>\n",
       "      <td>54.21667</td>\n",
       "      <td>-113.00000</td>\n",
       "      <td>1</td>\n",
       "    </tr>\n",
       "    <tr>\n",
       "      <th>3</th>\n",
       "      <td>Acapulco</td>\n",
       "      <td>10</td>\n",
       "      <td>Valid</td>\n",
       "      <td>Acapulcoite</td>\n",
       "      <td>1.914</td>\n",
       "      <td>Fell</td>\n",
       "      <td>1976</td>\n",
       "      <td>16.88333</td>\n",
       "      <td>-99.90000</td>\n",
       "      <td>1</td>\n",
       "    </tr>\n",
       "    <tr>\n",
       "      <th>4</th>\n",
       "      <td>Achiras</td>\n",
       "      <td>370</td>\n",
       "      <td>Valid</td>\n",
       "      <td>L6</td>\n",
       "      <td>0.780</td>\n",
       "      <td>Fell</td>\n",
       "      <td>1902</td>\n",
       "      <td>-33.16667</td>\n",
       "      <td>-64.95000</td>\n",
       "      <td>1</td>\n",
       "    </tr>\n",
       "    <tr>\n",
       "      <th>5</th>\n",
       "      <td>Adhi Kot</td>\n",
       "      <td>379</td>\n",
       "      <td>Valid</td>\n",
       "      <td>EH4</td>\n",
       "      <td>4.239</td>\n",
       "      <td>Fell</td>\n",
       "      <td>1919</td>\n",
       "      <td>32.10000</td>\n",
       "      <td>71.80000</td>\n",
       "      <td>1</td>\n",
       "    </tr>\n",
       "    <tr>\n",
       "      <th>6</th>\n",
       "      <td>Adzhi-Bogdo (stone)</td>\n",
       "      <td>390</td>\n",
       "      <td>Valid</td>\n",
       "      <td>LL3-6</td>\n",
       "      <td>0.910</td>\n",
       "      <td>Fell</td>\n",
       "      <td>1949</td>\n",
       "      <td>44.83333</td>\n",
       "      <td>95.16667</td>\n",
       "      <td>1</td>\n",
       "    </tr>\n",
       "    <tr>\n",
       "      <th>7</th>\n",
       "      <td>Agen</td>\n",
       "      <td>392</td>\n",
       "      <td>Valid</td>\n",
       "      <td>H5</td>\n",
       "      <td>30.000</td>\n",
       "      <td>Fell</td>\n",
       "      <td>1814</td>\n",
       "      <td>44.21667</td>\n",
       "      <td>0.61667</td>\n",
       "      <td>1</td>\n",
       "    </tr>\n",
       "    <tr>\n",
       "      <th>8</th>\n",
       "      <td>Aguada</td>\n",
       "      <td>398</td>\n",
       "      <td>Valid</td>\n",
       "      <td>L6</td>\n",
       "      <td>1.620</td>\n",
       "      <td>Fell</td>\n",
       "      <td>1930</td>\n",
       "      <td>-31.60000</td>\n",
       "      <td>-65.23333</td>\n",
       "      <td>1</td>\n",
       "    </tr>\n",
       "    <tr>\n",
       "      <th>9</th>\n",
       "      <td>Aguila Blanca</td>\n",
       "      <td>417</td>\n",
       "      <td>Valid</td>\n",
       "      <td>L</td>\n",
       "      <td>1.440</td>\n",
       "      <td>Fell</td>\n",
       "      <td>1920</td>\n",
       "      <td>-30.86667</td>\n",
       "      <td>-64.55000</td>\n",
       "      <td>1</td>\n",
       "    </tr>\n",
       "  </tbody>\n",
       "</table>\n",
       "</div>"
      ],
      "text/plain": [
       "                  name   id nametype     recclass  mass (kg)  fall  year  \\\n",
       "0               Aachen    1    Valid           L5      0.021  Fell  1880   \n",
       "1               Aarhus    2    Valid           H6      0.720  Fell  1951   \n",
       "2                 Abee    6    Valid          EH4    107.000  Fell  1952   \n",
       "3             Acapulco   10    Valid  Acapulcoite      1.914  Fell  1976   \n",
       "4              Achiras  370    Valid           L6      0.780  Fell  1902   \n",
       "5             Adhi Kot  379    Valid          EH4      4.239  Fell  1919   \n",
       "6  Adzhi-Bogdo (stone)  390    Valid        LL3-6      0.910  Fell  1949   \n",
       "7                 Agen  392    Valid           H5     30.000  Fell  1814   \n",
       "8               Aguada  398    Valid           L6      1.620  Fell  1930   \n",
       "9        Aguila Blanca  417    Valid            L      1.440  Fell  1920   \n",
       "\n",
       "        lat        lon  count  \n",
       "0  50.77500    6.08333      1  \n",
       "1  56.18333   10.23333      1  \n",
       "2  54.21667 -113.00000      1  \n",
       "3  16.88333  -99.90000      1  \n",
       "4 -33.16667  -64.95000      1  \n",
       "5  32.10000   71.80000      1  \n",
       "6  44.83333   95.16667      1  \n",
       "7  44.21667    0.61667      1  \n",
       "8 -31.60000  -65.23333      1  \n",
       "9 -30.86667  -64.55000      1  "
      ]
     },
     "execution_count": 13,
     "metadata": {},
     "output_type": "execute_result"
    }
   ],
   "source": [
    "df[0:10]"
   ]
  },
  {
   "cell_type": "code",
   "execution_count": 14,
   "metadata": {},
   "outputs": [
    {
     "data": {
      "text/plain": [
       "[0, 10, 20, 30, 40, 50, 60, 70, 80, 90, 100]"
      ]
     },
     "execution_count": 14,
     "metadata": {},
     "output_type": "execute_result"
    }
   ],
   "source": [
    "list(np.arange(0, 110, 10))"
   ]
  },
  {
   "cell_type": "code",
   "execution_count": 15,
   "metadata": {},
   "outputs": [
    {
     "data": {
      "text/plain": [
       "(45716, 10)"
      ]
     },
     "execution_count": 15,
     "metadata": {},
     "output_type": "execute_result"
    }
   ],
   "source": [
    "df.shape"
   ]
  },
  {
   "cell_type": "code",
   "execution_count": 16,
   "metadata": {},
   "outputs": [
    {
     "data": {
      "text/plain": [
       "(387, 8)"
      ]
     },
     "execution_count": 16,
     "metadata": {},
     "output_type": "execute_result"
    }
   ],
   "source": [
    "df_1 = df.dropna().groupby('recclass')[['mass (kg)']].describe()\n",
    "df_1 = df_1['mass (kg)'].sort_values(by='count', ascending=False)\n",
    "df_1.shape"
   ]
  },
  {
   "cell_type": "code",
   "execution_count": 17,
   "metadata": {},
   "outputs": [
    {
     "data": {
      "text/html": [
       "<div>\n",
       "<style scoped>\n",
       "    .dataframe tbody tr th:only-of-type {\n",
       "        vertical-align: middle;\n",
       "    }\n",
       "\n",
       "    .dataframe tbody tr th {\n",
       "        vertical-align: top;\n",
       "    }\n",
       "\n",
       "    .dataframe thead th {\n",
       "        text-align: right;\n",
       "    }\n",
       "</style>\n",
       "<table border=\"1\" class=\"dataframe\">\n",
       "  <thead>\n",
       "    <tr style=\"text-align: right;\">\n",
       "      <th></th>\n",
       "      <th>count</th>\n",
       "      <th>mean</th>\n",
       "      <th>std</th>\n",
       "      <th>min</th>\n",
       "      <th>25%</th>\n",
       "      <th>50%</th>\n",
       "      <th>75%</th>\n",
       "      <th>max</th>\n",
       "    </tr>\n",
       "    <tr>\n",
       "      <th>recclass</th>\n",
       "      <th></th>\n",
       "      <th></th>\n",
       "      <th></th>\n",
       "      <th></th>\n",
       "      <th></th>\n",
       "      <th></th>\n",
       "      <th></th>\n",
       "      <th></th>\n",
       "    </tr>\n",
       "  </thead>\n",
       "  <tbody>\n",
       "    <tr>\n",
       "      <th>L6</th>\n",
       "      <td>6454.0</td>\n",
       "      <td>1.730408</td>\n",
       "      <td>15.786444</td>\n",
       "      <td>0.001</td>\n",
       "      <td>0.008</td>\n",
       "      <td>0.037</td>\n",
       "      <td>0.21400</td>\n",
       "      <td>564.000</td>\n",
       "    </tr>\n",
       "    <tr>\n",
       "      <th>H5</th>\n",
       "      <td>5514.0</td>\n",
       "      <td>2.621751</td>\n",
       "      <td>58.066252</td>\n",
       "      <td>0.001</td>\n",
       "      <td>0.007</td>\n",
       "      <td>0.026</td>\n",
       "      <td>0.17100</td>\n",
       "      <td>4000.000</td>\n",
       "    </tr>\n",
       "    <tr>\n",
       "      <th>H4</th>\n",
       "      <td>3298.0</td>\n",
       "      <td>1.107494</td>\n",
       "      <td>10.918188</td>\n",
       "      <td>0.001</td>\n",
       "      <td>0.004</td>\n",
       "      <td>0.019</td>\n",
       "      <td>0.11475</td>\n",
       "      <td>500.000</td>\n",
       "    </tr>\n",
       "    <tr>\n",
       "      <th>H6</th>\n",
       "      <td>3012.0</td>\n",
       "      <td>1.193220</td>\n",
       "      <td>10.381568</td>\n",
       "      <td>0.001</td>\n",
       "      <td>0.006</td>\n",
       "      <td>0.023</td>\n",
       "      <td>0.14325</td>\n",
       "      <td>295.000</td>\n",
       "    </tr>\n",
       "    <tr>\n",
       "      <th>L5</th>\n",
       "      <td>2699.0</td>\n",
       "      <td>2.860147</td>\n",
       "      <td>44.056703</td>\n",
       "      <td>0.001</td>\n",
       "      <td>0.007</td>\n",
       "      <td>0.037</td>\n",
       "      <td>0.19750</td>\n",
       "      <td>1750.000</td>\n",
       "    </tr>\n",
       "    <tr>\n",
       "      <th>...</th>\n",
       "      <td>...</td>\n",
       "      <td>...</td>\n",
       "      <td>...</td>\n",
       "      <td>...</td>\n",
       "      <td>...</td>\n",
       "      <td>...</td>\n",
       "      <td>...</td>\n",
       "      <td>...</td>\n",
       "    </tr>\n",
       "    <tr>\n",
       "      <th>L/LL5-6</th>\n",
       "      <td>1.0</td>\n",
       "      <td>3.287000</td>\n",
       "      <td>NaN</td>\n",
       "      <td>3.287</td>\n",
       "      <td>3.287</td>\n",
       "      <td>3.287</td>\n",
       "      <td>3.28700</td>\n",
       "      <td>3.287</td>\n",
       "    </tr>\n",
       "    <tr>\n",
       "      <th>L/LL5/6</th>\n",
       "      <td>1.0</td>\n",
       "      <td>0.339000</td>\n",
       "      <td>NaN</td>\n",
       "      <td>0.339</td>\n",
       "      <td>0.339</td>\n",
       "      <td>0.339</td>\n",
       "      <td>0.33900</td>\n",
       "      <td>0.339</td>\n",
       "    </tr>\n",
       "    <tr>\n",
       "      <th>L4-an</th>\n",
       "      <td>1.0</td>\n",
       "      <td>0.057000</td>\n",
       "      <td>NaN</td>\n",
       "      <td>0.057</td>\n",
       "      <td>0.057</td>\n",
       "      <td>0.057</td>\n",
       "      <td>0.05700</td>\n",
       "      <td>0.057</td>\n",
       "    </tr>\n",
       "    <tr>\n",
       "      <th>L/LL6-an</th>\n",
       "      <td>1.0</td>\n",
       "      <td>5.900000</td>\n",
       "      <td>NaN</td>\n",
       "      <td>5.900</td>\n",
       "      <td>5.900</td>\n",
       "      <td>5.900</td>\n",
       "      <td>5.90000</td>\n",
       "      <td>5.900</td>\n",
       "    </tr>\n",
       "    <tr>\n",
       "      <th>H/L3</th>\n",
       "      <td>1.0</td>\n",
       "      <td>0.068000</td>\n",
       "      <td>NaN</td>\n",
       "      <td>0.068</td>\n",
       "      <td>0.068</td>\n",
       "      <td>0.068</td>\n",
       "      <td>0.06800</td>\n",
       "      <td>0.068</td>\n",
       "    </tr>\n",
       "  </tbody>\n",
       "</table>\n",
       "<p>387 rows × 8 columns</p>\n",
       "</div>"
      ],
      "text/plain": [
       "           count      mean        std    min    25%    50%      75%       max\n",
       "recclass                                                                     \n",
       "L6        6454.0  1.730408  15.786444  0.001  0.008  0.037  0.21400   564.000\n",
       "H5        5514.0  2.621751  58.066252  0.001  0.007  0.026  0.17100  4000.000\n",
       "H4        3298.0  1.107494  10.918188  0.001  0.004  0.019  0.11475   500.000\n",
       "H6        3012.0  1.193220  10.381568  0.001  0.006  0.023  0.14325   295.000\n",
       "L5        2699.0  2.860147  44.056703  0.001  0.007  0.037  0.19750  1750.000\n",
       "...          ...       ...        ...    ...    ...    ...      ...       ...\n",
       "L/LL5-6      1.0  3.287000        NaN  3.287  3.287  3.287  3.28700     3.287\n",
       "L/LL5/6      1.0  0.339000        NaN  0.339  0.339  0.339  0.33900     0.339\n",
       "L4-an        1.0  0.057000        NaN  0.057  0.057  0.057  0.05700     0.057\n",
       "L/LL6-an     1.0  5.900000        NaN  5.900  5.900  5.900  5.90000     5.900\n",
       "H/L3         1.0  0.068000        NaN  0.068  0.068  0.068  0.06800     0.068\n",
       "\n",
       "[387 rows x 8 columns]"
      ]
     },
     "execution_count": 17,
     "metadata": {},
     "output_type": "execute_result"
    }
   ],
   "source": [
    "df_1"
   ]
  },
  {
   "cell_type": "code",
   "execution_count": 18,
   "metadata": {},
   "outputs": [],
   "source": [
    "data = []\n",
    "data.append(go.Bar(name='Mean', x=df_1.index, y=df_1['mean']))\n",
    "\n",
    "data.append(go.Bar(name='Std', x=df_1.index, y=df_1['std']))\n",
    "\n",
    "data.append(go.Bar(name='Max', x=df_1.index, y=df_1['max']))"
   ]
  },
  {
   "cell_type": "code",
   "execution_count": 19,
   "metadata": {},
   "outputs": [
    {
     "data": {
      "application/vnd.plotly.v1+json": {
       "config": {
        "plotlyServerURL": "https://plot.ly"
       },
       "data": [
        {
         "name": "Mean",
         "type": "bar",
         "x": [
          "L6",
          "H5",
          "H4",
          "H6",
          "L5",
          "LL5",
          "LL6",
          "L4",
          "H4/5",
          "CM2",
          "Iron, IIIAB",
          "H3",
          "LL",
          "L3",
          "E3",
          "LL4",
          "Ureilite",
          "H5/6",
          "Howardite",
          "Diogenite",
          "Eucrite-pmict",
          "Iron, IIAB",
          "CO3",
          "H~5",
          "Iron, ungrouped",
          "CR2",
          "Mesosiderite",
          "CV3",
          "L3.5",
          "L~6",
          "Iron, IAB-MG",
          "Iron",
          "H3.7",
          "OC",
          "LL3",
          "L5/6",
          "H",
          "CK5",
          "Eucrite-mmict",
          "Iron, IVA",
          "Lunar (anorth)",
          "H5-6",
          "L6 ",
          "H3.8",
          "H4-6",
          "EH3",
          "Eucrite-br",
          "L3.4",
          "Aubrite",
          "Eucrite",
          "H4-5",
          "L3.6",
          "L",
          "Iron, IAB-ung",
          "CK4",
          "Iron, IAB complex",
          "L3.7",
          "H3.6",
          "L4/5",
          "LL5/6",
          "L3.8",
          "EL6",
          "H3.9",
          "Martian (shergottite)",
          "Pallasite, PMG",
          "H3-6",
          "H3-5",
          "Acapulcoite",
          "LL5-6",
          "H3/4",
          "Stone-uncl",
          "Eucrite-unbr",
          "L5-6",
          "L~5",
          "Iron, IAB-sLL",
          "H5 ",
          "L5 ",
          "L7",
          "LL4-6",
          "Iron, IID",
          "L/LL3",
          "H~6",
          "L3.9",
          "LL7",
          "Eucrite-cm",
          "H3.5",
          "Ureilite-pmict",
          "LL3.4",
          "CH3",
          "EH4",
          "EL3",
          "L/LL6",
          "Lunar",
          "H3.4",
          "H~4",
          "L4-6",
          "L4-5",
          "L/LL4",
          "Iron, IVB",
          "Lunar (basalt)",
          "Winonaite",
          "Lodranite",
          "C2-ung",
          "L3.3",
          "Iron, IIIE",
          "LL3.7",
          "L3.2",
          "L3.1",
          "Pallasite, PMG-an",
          "Achondrite-ung",
          "Pallasite",
          "L/LL5",
          "LL3.3",
          "H4 ",
          "C3-ung",
          "LL3.6",
          "LL3.5",
          "Iron, IIE",
          "Iron, IIIF",
          "EH4/5",
          "LL3.8",
          "L6/7",
          "CM1",
          "Iron, IAB-sHL",
          "LL3.9",
          "H4-an",
          "L3-6",
          "Iron, IC",
          "Brachinite",
          "EL4",
          "LL~5",
          "Lunar (feldsp. breccia)",
          "R5",
          "C",
          "H3-4",
          "L3-5",
          "Iron, IAB-sLM",
          "Iron, IIE-an",
          "Iron, IIC",
          "Chondrite-ung",
          "CK4/5",
          "CI1",
          "Martian (nakhlite)",
          "H/L4",
          "H7",
          "R4",
          "H3.3",
          "Angrite",
          "EH-imp melt",
          "Iron, IAB-sLH",
          "R3",
          "Mesosiderite-an",
          "Mesosiderite-A1",
          "CR",
          "CO3.5",
          "Iron, IIF",
          "LL3.2",
          "LL3-6",
          "Iron, IVA-an",
          "Diogenite-pm",
          "L-imp melt",
          "CK6",
          "EH5",
          "Iron, IIG",
          "H4/6",
          "H3.9/4",
          "Iron, IAB-sHH",
          "L3/4",
          "Aubrite-an",
          "L~4",
          "E3-an",
          "E-an",
          "CK3",
          "H-metal",
          "E4",
          "LL4-5",
          "CO3.6",
          "CBb",
          "H-an",
          "LL~6",
          "Iron, IIIAB?",
          "Eucrite-Mg rich",
          "CBa",
          "Iron, IAB?",
          "Mesosiderite-B1",
          "H-imp melt",
          "Pallasite, PES",
          "Pallasite, ungrouped",
          "H3.9-6",
          "LL3.0",
          "L/LL3.4",
          "H3.2-an",
          "CM1/2",
          "LL3.15",
          "LL~3",
          "CO3.0",
          "CO3.2",
          "CO3.3",
          "CV3-an",
          "C4-ung",
          "CO3.4",
          "E",
          "EL5",
          "H/L6",
          "Ureilite-an",
          "Iron, IIIAB-an",
          "Acapulcoite/Lodranite",
          "R3.8-6",
          "R3.8",
          "H3.0",
          "H-melt rock",
          "Iron, IAB-an",
          "Mesosiderite-A3",
          "Mesosiderite-B4",
          "Mesosiderite-A4",
          "H3.7-5",
          "CM-an",
          "H3.8-an",
          "R3-6",
          "R3.6",
          "H(5?)",
          "L3.05",
          "LL(L)3",
          "LL3.1",
          "CK4-an",
          "H3.6-6",
          "Mesosiderite-C2",
          "C4",
          "CK3-an",
          "LL3.8-6",
          "Mesosiderite-A",
          "H3.1",
          "C6",
          "H3.2",
          "Lunar (gabbro)",
          "Lunar (bas/anor)",
          "L3.0",
          "H6-melt breccia",
          "K3",
          "L/LL~5",
          "E6",
          "Chondrite-fusion crust",
          "E5",
          "H5-melt breccia",
          "Enst achon-ung",
          "L(?)3",
          "L(LL)3",
          "Iron, IC-an",
          "L(LL)3.05",
          "L-melt rock",
          "L/LL~6",
          "L3-4",
          "H3.9-5",
          "H3.8/4",
          "Martian (OPX)",
          "H3.10",
          "H3.0-3.4",
          "EL7",
          "Martian (chassignite)",
          "EL6/7",
          "L~3",
          "Lunar (norite)",
          "Iron, IIIE-an",
          "H3.8/3.9",
          "Diogenite-olivine",
          "K",
          "Lunar (bas. breccia)",
          "C1/2-ung",
          "C4/5",
          "Lodranite-an",
          "Diogenite-an",
          "H3.2-3.7",
          "LL7(?)",
          "C5/6-ung",
          "LL6(?)",
          "LL6 ",
          "L(LL)3.5-3.7",
          "LL5-7",
          "L(LL)5",
          "C2",
          "Mesosiderite-A2",
          "Iron, IID-an",
          "R3.9",
          "EH3/4-an",
          "R3.5-6",
          "EH7",
          "H~4/5",
          "R3.8-5",
          "EH6-an",
          "H/L5",
          "R",
          "H/L4-5",
          "EH6",
          "Stone-ung",
          "H/L3.9",
          "H?",
          "H/L3.6",
          "R3-4",
          "Pallasite?",
          "H3-an",
          "Mesosiderite-C",
          "LL4/5",
          "Iron, IIAB-an",
          "Mesosiderite-A3/4",
          "Mesosiderite-B",
          "EL4/5",
          "Mesosiderite-B2",
          "EH7-an",
          "EH",
          "E5-an",
          "Mesosiderite?",
          "H5-7",
          "H3 ",
          "H5-an",
          "H/L~4",
          "CH/CBb",
          "LL3/4",
          "H3.2-6",
          "L3.7-6",
          "L3.5-5",
          "CR-an",
          "L3.6-4",
          "H3.8-4",
          "L3.7-3.9",
          "L3.7-4",
          "L3.7/3.8",
          "L3.5-3.8",
          "CO3.8",
          "L3.8-6",
          "L3.8-an",
          "CO3.7",
          "L3.9-5",
          "L3.9-6",
          "L3.5-3.9",
          "L3.5-3.7",
          "L(LL)6",
          "L3.2-3.5",
          "CV2",
          "L3.0-3.7",
          "L3.0-3.9",
          "H/L3.5",
          "L3.10",
          "H3.8-6",
          "L3.2-3.6",
          "CR1",
          "H3.8-5",
          "L3.3-3.5",
          "L3.3-3.6",
          "L3.3-3.7",
          "CR2-an",
          "L3.4-3.7",
          "L3.9/4",
          "H6 ",
          "L4 ",
          "L/LL(?)3",
          "LL3.00",
          "L/LL3-5",
          "LL3.1-3.5",
          "Eucrite-an",
          "H(L)3",
          "H3.5-4",
          "H(L)3-an",
          "L/LL~4",
          "H3.4/3.5",
          "H3.4-5",
          "LL3.7-6",
          "L/LL",
          "L-melt breccia",
          "LL3.9/4",
          "L/LL3-6",
          "L/LL3.10",
          "LL3-5",
          "L/LL3.2",
          "L/LL3.6/3.7",
          "H(?)4",
          "CK5/6",
          "L6-melt breccia",
          "H3.7-6",
          "L/LL4-6",
          "H3.7/3.8",
          "L5-7",
          "L/LL4/5",
          "L/LL5-6",
          "L/LL5/6",
          "L4-an",
          "L/LL6-an",
          "H/L3"
         ],
         "y": [
          1.7304079640533003,
          2.621750997461008,
          1.1074936325045484,
          1.1932197875166002,
          2.860147091515376,
          0.5105853788687299,
          1.2502562761506275,
          2.12201696969697,
          1.7633799472295515,
          0.5438836363636363,
          509.12360294117644,
          1.132597510373444,
          0.10385454545454545,
          0.6042114285714285,
          0.0017294117647058825,
          1.0919119496855345,
          0.47021290322580644,
          0.7917096774193547,
          0.9030238095238097,
          1.116709677419355,
          0.4950991735537191,
          349.2993796296297,
          1.3780283018867927,
          0.8924599999999998,
          490.5816288659794,
          0.1091145833333333,
          3.902035714285714,
          25.04813253012049,
          0.5751604938271605,
          0.6588933333333334,
          1458.8903378378377,
          34.08138888888888,
          3.859242857142857,
          1.0571014492753625,
          0.38673134328358205,
          3.2934545454545456,
          4.423261538461538,
          0.064140625,
          10.363852459016394,
          508.347475409836,
          0.13641666666666669,
          0.5075892857142857,
          0.030370370370370364,
          1.506452830188679,
          2.003,
          0.1222075471698113,
          0.11975999999999999,
          0.25185416666666666,
          89.68948936170213,
          0.28221739130434786,
          0.787,
          1.9165116279069767,
          2.5505714285714287,
          751.0245000000001,
          1.868775,
          228.58537499999997,
          1.2706842105263156,
          7.94673684210526,
          1.7637368421052633,
          0.020486486486486488,
          0.8285135135135134,
          3.4023783783783785,
          0.9340555555555556,
          1.9665428571428574,
          164.41932352941174,
          8.640941176470587,
          1.8827500000000001,
          0.3659000000000001,
          1.0145,
          0.5884827586206897,
          11.518357142857143,
          0.09666666666666666,
          12.628576923076922,
          0.9805769230769231,
          201.22272727272727,
          0.014000000000000002,
          0.01304761904761905,
          0.6884,
          1.201157894736842,
          67.42363157894737,
          0.4247222222222222,
          0.4876666666666667,
          2.0414705882352946,
          0.1541875,
          3.0093750000000004,
          0.7425625,
          0.3094375,
          1.561,
          0.276625,
          8.6641875,
          0.14375,
          15.943499999999998,
          0.13479999999999998,
          0.5797333333333333,
          0.6265333333333334,
          0.7972142857142857,
          15.122785714285715,
          30.41535714285714,
          4322.832857142858,
          1.2416153846153846,
          1.9974615384615382,
          0.17583333333333329,
          1.1425,
          0.29583333333333334,
          2409.610416666667,
          3.7312499999999997,
          1.0929166666666668,
          1.0231818181818182,
          685.358909090909,
          1.357363636363636,
          4.178545454545455,
          57.745909090909095,
          0.7046363636363636,
          0.008636363636363638,
          0.7242999999999999,
          8.103399999999999,
          0.22729999999999997,
          54.0804,
          55.77722222222222,
          0.03944444444444444,
          0.249,
          5.855333333333333,
          0.08888888888888888,
          17.14422222222222,
          2.6991111111111112,
          0.342,
          0.9096666666666668,
          991.122222222222,
          0.28855555555555557,
          0.20925,
          0.0605,
          0.9626250000000001,
          0.17525,
          0.156375,
          11.207624999999998,
          0.674625,
          24.74725,
          53.137,
          30.214285714285715,
          0.2912857142857143,
          0.2254285714285714,
          2.9612857142857143,
          3.8129999999999997,
          2.313,
          0.028428571428571425,
          0.24942857142857142,
          0.41428571428571426,
          3.0470000000000006,
          0.083,
          9.033166666666668,
          0.038666666666666676,
          2.008833333333333,
          698.2063333333334,
          0.2761666666666667,
          9.006333333333332,
          11.156,
          8.976833333333333,
          3.0481666666666665,
          73.98666666666666,
          0.22483333333333336,
          2.4026666666666667,
          0.051666666666666666,
          4.653833333333334,
          24.303166666666666,
          1.493,
          5.5876,
          3.8622,
          0.0332,
          10.053,
          0.40119999999999995,
          0.030800000000000004,
          0.018999999999999996,
          0.2784,
          0.0124,
          0.042749999999999996,
          0.36375,
          1.1455,
          0.8112499999999999,
          0.0245,
          0.5065000000000001,
          7.7955,
          0.20775000000000002,
          55.015,
          1.58275,
          1.32425,
          0.013750000000000002,
          42.167500000000004,
          9.12525,
          0.171,
          0.019666666666666666,
          2.5686666666666667,
          0.5243333333333333,
          1.019,
          0.3873333333333333,
          0.02,
          1.4543333333333333,
          67.82000000000001,
          9.551333333333334,
          0.10099999999999999,
          1.7493333333333334,
          2.0100000000000002,
          0.042,
          0.18400000000000002,
          0.07333333333333333,
          1.328,
          240.23333333333335,
          0.03,
          0.11733333333333335,
          0.026333333333333337,
          0.18300000000000002,
          0.2966666666666667,
          2.1543333333333337,
          30.666666666666668,
          359.3333333333333,
          19.166666666666668,
          2.0485,
          0.066,
          2.1355,
          0.085,
          0.8815000000000001,
          0.16,
          0.2315,
          0.505,
          2.5185,
          4.394,
          0.6235,
          25.613,
          0.028999999999999998,
          0.2185,
          0.475,
          6.234999999999999,
          0.1875,
          0.083,
          0.0885,
          0.224,
          0.006,
          0.0965,
          0.1305,
          0.1805,
          0.315,
          0.0235,
          0.0015,
          0.0025,
          0.6615000000000001,
          4.379,
          0.010499999999999999,
          0.0565,
          35,
          0.4915,
          0.0325,
          1.045,
          0.3765,
          0.161,
          0.35100000000000003,
          1.931,
          0.258,
          0.738,
          0.421,
          4,
          16.3,
          0.363,
          0.633,
          58.4,
          0.05,
          2.29,
          0.023,
          0.124,
          0.042,
          0.226,
          0.014,
          0.251,
          0.018,
          0.008,
          0.169,
          0.294,
          0.001,
          1.228,
          0.087,
          1.056,
          0.001,
          7.7,
          18.1,
          0.007,
          0.028,
          0.205,
          2.428,
          0.148,
          0.174,
          0.076,
          0.526,
          0.027,
          1.575,
          0.011,
          0.001,
          7.25,
          0.86,
          28,
          0.171,
          14.18,
          0.061,
          218,
          0.216,
          0.059,
          320,
          8.132,
          0.609,
          54,
          4.72,
          0.001,
          0.01,
          0.414,
          3.891,
          0.011,
          0.018,
          0.411,
          16,
          1.452,
          0.084,
          6.1,
          5.59,
          114,
          0.153,
          50,
          1.47,
          0.031,
          0.35,
          0.073,
          23,
          0.034,
          14.04,
          1.6,
          0.032,
          0.172,
          0.326,
          0.149,
          0.265,
          0.352,
          0.031,
          0.05,
          0.424,
          1.001,
          0.404,
          0.001,
          0.065,
          0.106,
          0.125,
          0.005,
          0.203,
          0.015,
          0.16,
          0.272,
          0.402,
          0.003,
          0.009,
          0.002,
          0.691,
          0.125,
          0.08,
          0.223,
          0.42,
          0.167,
          0.271,
          0.024,
          0.499,
          0.23,
          0.227,
          0.012,
          0.454,
          0.019,
          0.068,
          0.287,
          0.061,
          0.016,
          2.618,
          0.016,
          0.033,
          0.101,
          0.098,
          3.65,
          0.209,
          0.929,
          0.789,
          3.287,
          0.339,
          0.057,
          5.9,
          0.068
         ]
        },
        {
         "name": "Std",
         "type": "bar",
         "x": [
          "L6",
          "H5",
          "H4",
          "H6",
          "L5",
          "LL5",
          "LL6",
          "L4",
          "H4/5",
          "CM2",
          "Iron, IIIAB",
          "H3",
          "LL",
          "L3",
          "E3",
          "LL4",
          "Ureilite",
          "H5/6",
          "Howardite",
          "Diogenite",
          "Eucrite-pmict",
          "Iron, IIAB",
          "CO3",
          "H~5",
          "Iron, ungrouped",
          "CR2",
          "Mesosiderite",
          "CV3",
          "L3.5",
          "L~6",
          "Iron, IAB-MG",
          "Iron",
          "H3.7",
          "OC",
          "LL3",
          "L5/6",
          "H",
          "CK5",
          "Eucrite-mmict",
          "Iron, IVA",
          "Lunar (anorth)",
          "H5-6",
          "L6 ",
          "H3.8",
          "H4-6",
          "EH3",
          "Eucrite-br",
          "L3.4",
          "Aubrite",
          "Eucrite",
          "H4-5",
          "L3.6",
          "L",
          "Iron, IAB-ung",
          "CK4",
          "Iron, IAB complex",
          "L3.7",
          "H3.6",
          "L4/5",
          "LL5/6",
          "L3.8",
          "EL6",
          "H3.9",
          "Martian (shergottite)",
          "Pallasite, PMG",
          "H3-6",
          "H3-5",
          "Acapulcoite",
          "LL5-6",
          "H3/4",
          "Stone-uncl",
          "Eucrite-unbr",
          "L5-6",
          "L~5",
          "Iron, IAB-sLL",
          "H5 ",
          "L5 ",
          "L7",
          "LL4-6",
          "Iron, IID",
          "L/LL3",
          "H~6",
          "L3.9",
          "LL7",
          "Eucrite-cm",
          "H3.5",
          "Ureilite-pmict",
          "LL3.4",
          "CH3",
          "EH4",
          "EL3",
          "L/LL6",
          "Lunar",
          "H3.4",
          "H~4",
          "L4-6",
          "L4-5",
          "L/LL4",
          "Iron, IVB",
          "Lunar (basalt)",
          "Winonaite",
          "Lodranite",
          "C2-ung",
          "L3.3",
          "Iron, IIIE",
          "LL3.7",
          "L3.2",
          "L3.1",
          "Pallasite, PMG-an",
          "Achondrite-ung",
          "Pallasite",
          "L/LL5",
          "LL3.3",
          "H4 ",
          "C3-ung",
          "LL3.6",
          "LL3.5",
          "Iron, IIE",
          "Iron, IIIF",
          "EH4/5",
          "LL3.8",
          "L6/7",
          "CM1",
          "Iron, IAB-sHL",
          "LL3.9",
          "H4-an",
          "L3-6",
          "Iron, IC",
          "Brachinite",
          "EL4",
          "LL~5",
          "Lunar (feldsp. breccia)",
          "R5",
          "C",
          "H3-4",
          "L3-5",
          "Iron, IAB-sLM",
          "Iron, IIE-an",
          "Iron, IIC",
          "Chondrite-ung",
          "CK4/5",
          "CI1",
          "Martian (nakhlite)",
          "H/L4",
          "H7",
          "R4",
          "H3.3",
          "Angrite",
          "EH-imp melt",
          "Iron, IAB-sLH",
          "R3",
          "Mesosiderite-an",
          "Mesosiderite-A1",
          "CR",
          "CO3.5",
          "Iron, IIF",
          "LL3.2",
          "LL3-6",
          "Iron, IVA-an",
          "Diogenite-pm",
          "L-imp melt",
          "CK6",
          "EH5",
          "Iron, IIG",
          "H4/6",
          "H3.9/4",
          "Iron, IAB-sHH",
          "L3/4",
          "Aubrite-an",
          "L~4",
          "E3-an",
          "E-an",
          "CK3",
          "H-metal",
          "E4",
          "LL4-5",
          "CO3.6",
          "CBb",
          "H-an",
          "LL~6",
          "Iron, IIIAB?",
          "Eucrite-Mg rich",
          "CBa",
          "Iron, IAB?",
          "Mesosiderite-B1",
          "H-imp melt",
          "Pallasite, PES",
          "Pallasite, ungrouped",
          "H3.9-6",
          "LL3.0",
          "L/LL3.4",
          "H3.2-an",
          "CM1/2",
          "LL3.15",
          "LL~3",
          "CO3.0",
          "CO3.2",
          "CO3.3",
          "CV3-an",
          "C4-ung",
          "CO3.4",
          "E",
          "EL5",
          "H/L6",
          "Ureilite-an",
          "Iron, IIIAB-an",
          "Acapulcoite/Lodranite",
          "R3.8-6",
          "R3.8",
          "H3.0",
          "H-melt rock",
          "Iron, IAB-an",
          "Mesosiderite-A3",
          "Mesosiderite-B4",
          "Mesosiderite-A4",
          "H3.7-5",
          "CM-an",
          "H3.8-an",
          "R3-6",
          "R3.6",
          "H(5?)",
          "L3.05",
          "LL(L)3",
          "LL3.1",
          "CK4-an",
          "H3.6-6",
          "Mesosiderite-C2",
          "C4",
          "CK3-an",
          "LL3.8-6",
          "Mesosiderite-A",
          "H3.1",
          "C6",
          "H3.2",
          "Lunar (gabbro)",
          "Lunar (bas/anor)",
          "L3.0",
          "H6-melt breccia",
          "K3",
          "L/LL~5",
          "E6",
          "Chondrite-fusion crust",
          "E5",
          "H5-melt breccia",
          "Enst achon-ung",
          "L(?)3",
          "L(LL)3",
          "Iron, IC-an",
          "L(LL)3.05",
          "L-melt rock",
          "L/LL~6",
          "L3-4",
          "H3.9-5",
          "H3.8/4",
          "Martian (OPX)",
          "H3.10",
          "H3.0-3.4",
          "EL7",
          "Martian (chassignite)",
          "EL6/7",
          "L~3",
          "Lunar (norite)",
          "Iron, IIIE-an",
          "H3.8/3.9",
          "Diogenite-olivine",
          "K",
          "Lunar (bas. breccia)",
          "C1/2-ung",
          "C4/5",
          "Lodranite-an",
          "Diogenite-an",
          "H3.2-3.7",
          "LL7(?)",
          "C5/6-ung",
          "LL6(?)",
          "LL6 ",
          "L(LL)3.5-3.7",
          "LL5-7",
          "L(LL)5",
          "C2",
          "Mesosiderite-A2",
          "Iron, IID-an",
          "R3.9",
          "EH3/4-an",
          "R3.5-6",
          "EH7",
          "H~4/5",
          "R3.8-5",
          "EH6-an",
          "H/L5",
          "R",
          "H/L4-5",
          "EH6",
          "Stone-ung",
          "H/L3.9",
          "H?",
          "H/L3.6",
          "R3-4",
          "Pallasite?",
          "H3-an",
          "Mesosiderite-C",
          "LL4/5",
          "Iron, IIAB-an",
          "Mesosiderite-A3/4",
          "Mesosiderite-B",
          "EL4/5",
          "Mesosiderite-B2",
          "EH7-an",
          "EH",
          "E5-an",
          "Mesosiderite?",
          "H5-7",
          "H3 ",
          "H5-an",
          "H/L~4",
          "CH/CBb",
          "LL3/4",
          "H3.2-6",
          "L3.7-6",
          "L3.5-5",
          "CR-an",
          "L3.6-4",
          "H3.8-4",
          "L3.7-3.9",
          "L3.7-4",
          "L3.7/3.8",
          "L3.5-3.8",
          "CO3.8",
          "L3.8-6",
          "L3.8-an",
          "CO3.7",
          "L3.9-5",
          "L3.9-6",
          "L3.5-3.9",
          "L3.5-3.7",
          "L(LL)6",
          "L3.2-3.5",
          "CV2",
          "L3.0-3.7",
          "L3.0-3.9",
          "H/L3.5",
          "L3.10",
          "H3.8-6",
          "L3.2-3.6",
          "CR1",
          "H3.8-5",
          "L3.3-3.5",
          "L3.3-3.6",
          "L3.3-3.7",
          "CR2-an",
          "L3.4-3.7",
          "L3.9/4",
          "H6 ",
          "L4 ",
          "L/LL(?)3",
          "LL3.00",
          "L/LL3-5",
          "LL3.1-3.5",
          "Eucrite-an",
          "H(L)3",
          "H3.5-4",
          "H(L)3-an",
          "L/LL~4",
          "H3.4/3.5",
          "H3.4-5",
          "LL3.7-6",
          "L/LL",
          "L-melt breccia",
          "LL3.9/4",
          "L/LL3-6",
          "L/LL3.10",
          "LL3-5",
          "L/LL3.2",
          "L/LL3.6/3.7",
          "H(?)4",
          "CK5/6",
          "L6-melt breccia",
          "H3.7-6",
          "L/LL4-6",
          "H3.7/3.8",
          "L5-7",
          "L/LL4/5",
          "L/LL5-6",
          "L/LL5/6",
          "L4-an",
          "L/LL6-an",
          "H/L3"
         ],
         "y": [
          15.786443762448076,
          58.06625226134727,
          10.918187500086203,
          10.381567801514196,
          44.05670256884486,
          10.476974763489162,
          10.878717026113595,
          15.17491288237187,
          14.555689040459741,
          6.102545864055955,
          3972.3943351815888,
          9.246504458433312,
          0.4719164432728523,
          3.9674321664359855,
          0.003254085225965807,
          7.232681209151328,
          1.3795197874580376,
          2.765763389997632,
          4.071565567128764,
          4.877592276840345,
          1.377814328353417,
          2245.04792965798,
          9.225342025877929,
          4.500708391874202,
          2750.566214810281,
          0.2661822039127044,
          16.688097812907465,
          219.4442453672998,
          3.5273576599800247,
          2.012452836938272,
          6850.4543557332345,
          137.98519118252372,
          24.302295581577653,
          1.555532263217203,
          1.28111545362542,
          18.56806739720461,
          24.856149469420114,
          0.17550244127886444,
          44.12180663188218,
          3340.591345164065,
          0.24234813813292888,
          1.3809932496284987,
          0.07836014974325128,
          6.376850348559587,
          6.530613880321371,
          0.3848724743085772,
          0.2543096746335949,
          0.5614825356630515,
          462.44196857720385,
          0.39534783070908186,
          1.2708724037709949,
          8.893868282008606,
          5.106932481717601,
          3829.7237090739372,
          7.712064017473881,
          607.2306247091385,
          4.301908395529563,
          45.871330932254885,
          5.259226048724179,
          0.05369182723946274,
          3.2458371940209956,
          7.9781671744808635,
          2.5395458192861904,
          3.8060910806608024,
          287.21948469701607,
          31.900306508398444,
          4.096901142051384,
          0.8869736749193857,
          1.7639255154733522,
          2.179198371955838,
          32.65155750946118,
          0.2171630015236694,
          58.65689260107328,
          3.489336752714784,
          672.21690353856,
          0.03568753283711274,
          0.027428955850480694,
          2.159927493909777,
          2.214410035882592,
          135.1296333061991,
          0.9355104178094787,
          0.6900034100512495,
          7.620771877881261,
          0.24064336510003065,
          5.7710582723910635,
          2.1682985639666876,
          0.5535486691941971,
          3.5379464288388163,
          0.5505564306529652,
          27.073860134131223,
          0.4308960431473002,
          54.75754560362739,
          0.19632196587675635,
          1.3230811154631594,
          0.9324355103450215,
          1.5905630439260483,
          53.22392953604836,
          88.75754575211936,
          16025.035776380286,
          3.6967619736390374,
          6.615336481935803,
          0.37373467334541766,
          2.814672352964987,
          0.6254606787049531,
          8059.559334413915,
          11.699061835929795,
          2.356395377317318,
          2.4062321092605266,
          1383.1088100384188,
          3.7835311885255356,
          8.288510606419424,
          151.90327055034368,
          1.3117727145147724,
          0.01516095463533037,
          1.3822752620227277,
          24.42627804548936,
          0.630643771606972,
          87.35147845495615,
          79.51236417655083,
          0.03753035808219498,
          0.4435205744945775,
          9.83890693878136,
          0.22911593377831907,
          41.58310214731995,
          4.214978957374652,
          0.45693790606602114,
          1.4026505266815397,
          1691.753504339342,
          0.4508320394312918,
          0.4746805692854331,
          0.12977893291505918,
          1.9442781941966463,
          0.21218438746928175,
          0.339825979625707,
          30.23123443884534,
          0.7856896765626636,
          27.613530595137075,
          92.98657471018777,
          29.18238216067065,
          0.29176343972798374,
          0.2912266340514761,
          5.340298859124076,
          5.613916458231277,
          5.817235655074209,
          0.036782501015460885,
          0.22533372076608,
          1.0224983641854422,
          6.6406744536982085,
          0.11660017152646046,
          13.648280220110761,
          0.025358759170485187,
          4.004713543646619,
          1536.643943430184,
          0.42166783926055673,
          20.922431021912026,
          8.957776509826532,
          20.142902049274497,
          6.010795834718284,
          75.38203676385156,
          0.3816587044293195,
          5.1660604590603345,
          0.04944357052910587,
          7.154675070656015,
          14.91789637203137,
          1.471765878120566,
          11.971687236977083,
          7.129611223622226,
          0.029149614062625253,
          13.859158560316713,
          0.5325422049002314,
          0.046278504729517785,
          0.008396427811873332,
          0.38853738558856854,
          0.02219909908081857,
          0.04843122271152498,
          0.46280404420589644,
          1.7814481936521944,
          1.574582140336498,
          0.03135283081318177,
          0.8668242805397952,
          5.078419800160938,
          0.2507699809254157,
          62.7731436736019,
          0.871609765510537,
          1.8338737461086754,
          0.013720422734012243,
          62.20351725050066,
          16.849288716441414,
          0.19627361853630082,
          0.006350852961085883,
          4.057674498198855,
          0.5334382188532552,
          1.7321443357872923,
          0.5658112170444602,
          0.011357816691600547,
          2.128866913015779,
          114.47137471438002,
          13.743674957351594,
          0.12076009274590675,
          2.3901151297235312,
          3.455469722049377,
          0.07101408311032396,
          0.1669011683602005,
          0.027153882472555065,
          2.270761766456358,
          338.0089693090012,
          0.027838821814150108,
          0.08035131195776042,
          0.023028967265887833,
          0.08252878285786118,
          0.30846447661494725,
          1.9770291685590615,
          24.538201509754813,
          458.3890196474315,
          19.04057071973772,
          2.5887179259239503,
          0.03394112549695428,
          2.6792275939158285,
          0.021213203435596427,
          1.22683026535866,
          0.21213203435596426,
          0.3132483040656406,
          0.7000357133746821,
          3.544726294088163,
          1.4226988437473338,
          0.5833630944789018,
          29.11441460857491,
          0.035355339059327376,
          0.19021172413918128,
          0.059396969619670004,
          8.435783899555512,
          0.01626345596729061,
          0.11172287142747452,
          0.12232947314527272,
          0.3082985565973347,
          0.004242640687119285,
          0.09545941546018392,
          0.06434671708797582,
          0.2397091988222396,
          0.12303657992645928,
          0.013435028842544404,
          0.0007071067811865475,
          0.0007071067811865475,
          0.779938779648762,
          6.082532531766681,
          0.012020815280171307,
          0.019091883092036792,
          21.213203435596427,
          0.40092954493277244,
          0.033234018715767734,
          1.2925911960090088,
          0.3160767311903867,
          0.08202438661763951,
          0.2941564209736038,
          null,
          null,
          null,
          null,
          null,
          null,
          null,
          null,
          null,
          null,
          null,
          null,
          null,
          null,
          null,
          null,
          null,
          null,
          null,
          null,
          null,
          null,
          null,
          null,
          null,
          null,
          null,
          null,
          null,
          null,
          null,
          null,
          null,
          null,
          null,
          null,
          null,
          null,
          null,
          null,
          null,
          null,
          null,
          null,
          null,
          null,
          null,
          null,
          null,
          null,
          null,
          null,
          null,
          null,
          null,
          null,
          null,
          null,
          null,
          null,
          null,
          null,
          null,
          null,
          null,
          null,
          null,
          null,
          null,
          null,
          null,
          null,
          null,
          null,
          null,
          null,
          null,
          null,
          null,
          null,
          null,
          null,
          null,
          null,
          null,
          null,
          null,
          null,
          null,
          null,
          null,
          null,
          null,
          null,
          null,
          null,
          null,
          null,
          null,
          null,
          null,
          null,
          null,
          null,
          null,
          null,
          null,
          null,
          null,
          null,
          null,
          null,
          null,
          null,
          null,
          null,
          null,
          null,
          null,
          null,
          null,
          null,
          null,
          null,
          null,
          null,
          null,
          null,
          null,
          null,
          null,
          null,
          null
         ]
        },
        {
         "name": "Max",
         "type": "bar",
         "x": [
          "L6",
          "H5",
          "H4",
          "H6",
          "L5",
          "LL5",
          "LL6",
          "L4",
          "H4/5",
          "CM2",
          "Iron, IIIAB",
          "H3",
          "LL",
          "L3",
          "E3",
          "LL4",
          "Ureilite",
          "H5/6",
          "Howardite",
          "Diogenite",
          "Eucrite-pmict",
          "Iron, IIAB",
          "CO3",
          "H~5",
          "Iron, ungrouped",
          "CR2",
          "Mesosiderite",
          "CV3",
          "L3.5",
          "L~6",
          "Iron, IAB-MG",
          "Iron",
          "H3.7",
          "OC",
          "LL3",
          "L5/6",
          "H",
          "CK5",
          "Eucrite-mmict",
          "Iron, IVA",
          "Lunar (anorth)",
          "H5-6",
          "L6 ",
          "H3.8",
          "H4-6",
          "EH3",
          "Eucrite-br",
          "L3.4",
          "Aubrite",
          "Eucrite",
          "H4-5",
          "L3.6",
          "L",
          "Iron, IAB-ung",
          "CK4",
          "Iron, IAB complex",
          "L3.7",
          "H3.6",
          "L4/5",
          "LL5/6",
          "L3.8",
          "EL6",
          "H3.9",
          "Martian (shergottite)",
          "Pallasite, PMG",
          "H3-6",
          "H3-5",
          "Acapulcoite",
          "LL5-6",
          "H3/4",
          "Stone-uncl",
          "Eucrite-unbr",
          "L5-6",
          "L~5",
          "Iron, IAB-sLL",
          "H5 ",
          "L5 ",
          "L7",
          "LL4-6",
          "Iron, IID",
          "L/LL3",
          "H~6",
          "L3.9",
          "LL7",
          "Eucrite-cm",
          "H3.5",
          "Ureilite-pmict",
          "LL3.4",
          "CH3",
          "EH4",
          "EL3",
          "L/LL6",
          "Lunar",
          "H3.4",
          "H~4",
          "L4-6",
          "L4-5",
          "L/LL4",
          "Iron, IVB",
          "Lunar (basalt)",
          "Winonaite",
          "Lodranite",
          "C2-ung",
          "L3.3",
          "Iron, IIIE",
          "LL3.7",
          "L3.2",
          "L3.1",
          "Pallasite, PMG-an",
          "Achondrite-ung",
          "Pallasite",
          "L/LL5",
          "LL3.3",
          "H4 ",
          "C3-ung",
          "LL3.6",
          "LL3.5",
          "Iron, IIE",
          "Iron, IIIF",
          "EH4/5",
          "LL3.8",
          "L6/7",
          "CM1",
          "Iron, IAB-sHL",
          "LL3.9",
          "H4-an",
          "L3-6",
          "Iron, IC",
          "Brachinite",
          "EL4",
          "LL~5",
          "Lunar (feldsp. breccia)",
          "R5",
          "C",
          "H3-4",
          "L3-5",
          "Iron, IAB-sLM",
          "Iron, IIE-an",
          "Iron, IIC",
          "Chondrite-ung",
          "CK4/5",
          "CI1",
          "Martian (nakhlite)",
          "H/L4",
          "H7",
          "R4",
          "H3.3",
          "Angrite",
          "EH-imp melt",
          "Iron, IAB-sLH",
          "R3",
          "Mesosiderite-an",
          "Mesosiderite-A1",
          "CR",
          "CO3.5",
          "Iron, IIF",
          "LL3.2",
          "LL3-6",
          "Iron, IVA-an",
          "Diogenite-pm",
          "L-imp melt",
          "CK6",
          "EH5",
          "Iron, IIG",
          "H4/6",
          "H3.9/4",
          "Iron, IAB-sHH",
          "L3/4",
          "Aubrite-an",
          "L~4",
          "E3-an",
          "E-an",
          "CK3",
          "H-metal",
          "E4",
          "LL4-5",
          "CO3.6",
          "CBb",
          "H-an",
          "LL~6",
          "Iron, IIIAB?",
          "Eucrite-Mg rich",
          "CBa",
          "Iron, IAB?",
          "Mesosiderite-B1",
          "H-imp melt",
          "Pallasite, PES",
          "Pallasite, ungrouped",
          "H3.9-6",
          "LL3.0",
          "L/LL3.4",
          "H3.2-an",
          "CM1/2",
          "LL3.15",
          "LL~3",
          "CO3.0",
          "CO3.2",
          "CO3.3",
          "CV3-an",
          "C4-ung",
          "CO3.4",
          "E",
          "EL5",
          "H/L6",
          "Ureilite-an",
          "Iron, IIIAB-an",
          "Acapulcoite/Lodranite",
          "R3.8-6",
          "R3.8",
          "H3.0",
          "H-melt rock",
          "Iron, IAB-an",
          "Mesosiderite-A3",
          "Mesosiderite-B4",
          "Mesosiderite-A4",
          "H3.7-5",
          "CM-an",
          "H3.8-an",
          "R3-6",
          "R3.6",
          "H(5?)",
          "L3.05",
          "LL(L)3",
          "LL3.1",
          "CK4-an",
          "H3.6-6",
          "Mesosiderite-C2",
          "C4",
          "CK3-an",
          "LL3.8-6",
          "Mesosiderite-A",
          "H3.1",
          "C6",
          "H3.2",
          "Lunar (gabbro)",
          "Lunar (bas/anor)",
          "L3.0",
          "H6-melt breccia",
          "K3",
          "L/LL~5",
          "E6",
          "Chondrite-fusion crust",
          "E5",
          "H5-melt breccia",
          "Enst achon-ung",
          "L(?)3",
          "L(LL)3",
          "Iron, IC-an",
          "L(LL)3.05",
          "L-melt rock",
          "L/LL~6",
          "L3-4",
          "H3.9-5",
          "H3.8/4",
          "Martian (OPX)",
          "H3.10",
          "H3.0-3.4",
          "EL7",
          "Martian (chassignite)",
          "EL6/7",
          "L~3",
          "Lunar (norite)",
          "Iron, IIIE-an",
          "H3.8/3.9",
          "Diogenite-olivine",
          "K",
          "Lunar (bas. breccia)",
          "C1/2-ung",
          "C4/5",
          "Lodranite-an",
          "Diogenite-an",
          "H3.2-3.7",
          "LL7(?)",
          "C5/6-ung",
          "LL6(?)",
          "LL6 ",
          "L(LL)3.5-3.7",
          "LL5-7",
          "L(LL)5",
          "C2",
          "Mesosiderite-A2",
          "Iron, IID-an",
          "R3.9",
          "EH3/4-an",
          "R3.5-6",
          "EH7",
          "H~4/5",
          "R3.8-5",
          "EH6-an",
          "H/L5",
          "R",
          "H/L4-5",
          "EH6",
          "Stone-ung",
          "H/L3.9",
          "H?",
          "H/L3.6",
          "R3-4",
          "Pallasite?",
          "H3-an",
          "Mesosiderite-C",
          "LL4/5",
          "Iron, IIAB-an",
          "Mesosiderite-A3/4",
          "Mesosiderite-B",
          "EL4/5",
          "Mesosiderite-B2",
          "EH7-an",
          "EH",
          "E5-an",
          "Mesosiderite?",
          "H5-7",
          "H3 ",
          "H5-an",
          "H/L~4",
          "CH/CBb",
          "LL3/4",
          "H3.2-6",
          "L3.7-6",
          "L3.5-5",
          "CR-an",
          "L3.6-4",
          "H3.8-4",
          "L3.7-3.9",
          "L3.7-4",
          "L3.7/3.8",
          "L3.5-3.8",
          "CO3.8",
          "L3.8-6",
          "L3.8-an",
          "CO3.7",
          "L3.9-5",
          "L3.9-6",
          "L3.5-3.9",
          "L3.5-3.7",
          "L(LL)6",
          "L3.2-3.5",
          "CV2",
          "L3.0-3.7",
          "L3.0-3.9",
          "H/L3.5",
          "L3.10",
          "H3.8-6",
          "L3.2-3.6",
          "CR1",
          "H3.8-5",
          "L3.3-3.5",
          "L3.3-3.6",
          "L3.3-3.7",
          "CR2-an",
          "L3.4-3.7",
          "L3.9/4",
          "H6 ",
          "L4 ",
          "L/LL(?)3",
          "LL3.00",
          "L/LL3-5",
          "LL3.1-3.5",
          "Eucrite-an",
          "H(L)3",
          "H3.5-4",
          "H(L)3-an",
          "L/LL~4",
          "H3.4/3.5",
          "H3.4-5",
          "LL3.7-6",
          "L/LL",
          "L-melt breccia",
          "LL3.9/4",
          "L/LL3-6",
          "L/LL3.10",
          "LL3-5",
          "L/LL3.2",
          "L/LL3.6/3.7",
          "H(?)4",
          "CK5/6",
          "L6-melt breccia",
          "H3.7-6",
          "L/LL4-6",
          "H3.7/3.8",
          "L5-7",
          "L/LL4/5",
          "L/LL5-6",
          "L/LL5/6",
          "L4-an",
          "L/LL6-an",
          "H/L3"
         ],
         "y": [
          564,
          4000,
          500,
          295,
          1750,
          408,
          271,
          257,
          256,
          100,
          58200,
          140,
          5.483,
          50.4,
          0.038,
          80,
          10.9,
          27.064,
          40,
          40.3,
          12.87,
          23000,
          95,
          42.85,
          22000,
          2,
          128.8,
          2000,
          31.5,
          16.879,
          50000,
          997,
          200,
          9.4,
          8,
          150,
          200,
          1.041,
          330,
          26000,
          1.425,
          10,
          0.395,
          45,
          43.508,
          2.6,
          1.623,
          2.111,
          3000,
          2.21,
          6.669,
          57.9,
          20,
          24000,
          41.73,
          3000,
          22.7,
          283,
          30,
          0.262,
          19.4,
          40,
          14.28,
          18,
          1003,
          175,
          17,
          3.824,
          7.141,
          11.8,
          173,
          0.89,
          300,
          17.973,
          3000,
          0.156,
          0.119,
          8.551,
          7.269,
          454,
          3.294,
          2.318,
          31.6,
          0.71,
          21.27,
          8.8,
          2.106,
          12.1,
          1.796,
          107,
          1.749,
          220,
          0.801,
          5.2,
          3.665,
          6,
          200,
          330,
          60000,
          13.5,
          24,
          1,
          10,
          2.2,
          28000,
          40.8,
          6.8,
          8.25,
          4300,
          12.7,
          27,
          500,
          4.135,
          0.053,
          4.61,
          77.6,
          2.02,
          265,
          244.5,
          0.096,
          1.1,
          26.81,
          0.699,
          127.76,
          12,
          1.504,
          4.23,
          5360,
          1.435,
          1.378,
          0.38,
          5.525,
          0.65,
          0.993,
          86,
          2,
          81.2,
          250,
          80,
          0.936,
          0.767,
          14,
          13.713,
          15.5,
          0.103,
          0.642,
          2.733,
          16.55,
          0.314,
          27,
          0.081,
          10.022,
          3828,
          1.098,
          51.7,
          27.9,
          50,
          15.3,
          162,
          1,
          12.9,
          0.148,
          14,
          43,
          3.6,
          27,
          16.6,
          0.078,
          28.1,
          1.32,
          0.11,
          0.031,
          0.966,
          0.052,
          0.104,
          1.055,
          3.763,
          3.173,
          0.069,
          1.802,
          12,
          0.56,
          118,
          2.426,
          4.05,
          0.028,
          132,
          34.36,
          0.404,
          0.027,
          7.25,
          1.14,
          3.019,
          1.039,
          0.033,
          3.912,
          200,
          25.322,
          0.238,
          4.5,
          6,
          0.124,
          0.36,
          0.09,
          3.95,
          630,
          0.06,
          0.21,
          0.05,
          0.274,
          0.621,
          4.4,
          59,
          888.6,
          39.4,
          3.879,
          0.09,
          4.03,
          0.1,
          1.749,
          0.31,
          0.453,
          1,
          5.025,
          5.4,
          1.036,
          46.2,
          0.054,
          0.353,
          0.517,
          12.2,
          0.199,
          0.162,
          0.175,
          0.442,
          0.009,
          0.164,
          0.176,
          0.35,
          0.402,
          0.033,
          0.002,
          0.003,
          1.213,
          8.68,
          0.019,
          0.07,
          50,
          0.775,
          0.056,
          1.959,
          0.6,
          0.219,
          0.559,
          1.931,
          0.258,
          0.738,
          0.421,
          4,
          16.3,
          0.363,
          0.633,
          58.4,
          0.05,
          2.29,
          0.023,
          0.124,
          0.042,
          0.226,
          0.014,
          0.251,
          0.018,
          0.008,
          0.169,
          0.294,
          0.001,
          1.228,
          0.087,
          1.056,
          0.001,
          7.7,
          18.1,
          0.007,
          0.028,
          0.205,
          2.428,
          0.148,
          0.174,
          0.076,
          0.526,
          0.027,
          1.575,
          0.011,
          0.001,
          7.25,
          0.86,
          28,
          0.171,
          14.18,
          0.061,
          218,
          0.216,
          0.059,
          320,
          8.132,
          0.609,
          54,
          4.72,
          0.001,
          0.01,
          0.414,
          3.891,
          0.011,
          0.018,
          0.411,
          16,
          1.452,
          0.084,
          6.1,
          5.59,
          114,
          0.153,
          50,
          1.47,
          0.031,
          0.35,
          0.073,
          23,
          0.034,
          14.04,
          1.6,
          0.032,
          0.172,
          0.326,
          0.149,
          0.265,
          0.352,
          0.031,
          0.05,
          0.424,
          1.001,
          0.404,
          0.001,
          0.065,
          0.106,
          0.125,
          0.005,
          0.203,
          0.015,
          0.16,
          0.272,
          0.402,
          0.003,
          0.009,
          0.002,
          0.691,
          0.125,
          0.08,
          0.223,
          0.42,
          0.167,
          0.271,
          0.024,
          0.499,
          0.23,
          0.227,
          0.012,
          0.454,
          0.019,
          0.068,
          0.287,
          0.061,
          0.016,
          2.618,
          0.016,
          0.033,
          0.101,
          0.098,
          3.65,
          0.209,
          0.929,
          0.789,
          3.287,
          0.339,
          0.057,
          5.9,
          0.068
         ]
        }
       ],
       "layout": {
        "barmode": "group",
        "template": {
         "data": {
          "bar": [
           {
            "error_x": {
             "color": "#2a3f5f"
            },
            "error_y": {
             "color": "#2a3f5f"
            },
            "marker": {
             "line": {
              "color": "#E5ECF6",
              "width": 0.5
             },
             "pattern": {
              "fillmode": "overlay",
              "size": 10,
              "solidity": 0.2
             }
            },
            "type": "bar"
           }
          ],
          "barpolar": [
           {
            "marker": {
             "line": {
              "color": "#E5ECF6",
              "width": 0.5
             },
             "pattern": {
              "fillmode": "overlay",
              "size": 10,
              "solidity": 0.2
             }
            },
            "type": "barpolar"
           }
          ],
          "carpet": [
           {
            "aaxis": {
             "endlinecolor": "#2a3f5f",
             "gridcolor": "white",
             "linecolor": "white",
             "minorgridcolor": "white",
             "startlinecolor": "#2a3f5f"
            },
            "baxis": {
             "endlinecolor": "#2a3f5f",
             "gridcolor": "white",
             "linecolor": "white",
             "minorgridcolor": "white",
             "startlinecolor": "#2a3f5f"
            },
            "type": "carpet"
           }
          ],
          "choropleth": [
           {
            "colorbar": {
             "outlinewidth": 0,
             "ticks": ""
            },
            "type": "choropleth"
           }
          ],
          "contour": [
           {
            "colorbar": {
             "outlinewidth": 0,
             "ticks": ""
            },
            "colorscale": [
             [
              0,
              "#0d0887"
             ],
             [
              0.1111111111111111,
              "#46039f"
             ],
             [
              0.2222222222222222,
              "#7201a8"
             ],
             [
              0.3333333333333333,
              "#9c179e"
             ],
             [
              0.4444444444444444,
              "#bd3786"
             ],
             [
              0.5555555555555556,
              "#d8576b"
             ],
             [
              0.6666666666666666,
              "#ed7953"
             ],
             [
              0.7777777777777778,
              "#fb9f3a"
             ],
             [
              0.8888888888888888,
              "#fdca26"
             ],
             [
              1,
              "#f0f921"
             ]
            ],
            "type": "contour"
           }
          ],
          "contourcarpet": [
           {
            "colorbar": {
             "outlinewidth": 0,
             "ticks": ""
            },
            "type": "contourcarpet"
           }
          ],
          "heatmap": [
           {
            "colorbar": {
             "outlinewidth": 0,
             "ticks": ""
            },
            "colorscale": [
             [
              0,
              "#0d0887"
             ],
             [
              0.1111111111111111,
              "#46039f"
             ],
             [
              0.2222222222222222,
              "#7201a8"
             ],
             [
              0.3333333333333333,
              "#9c179e"
             ],
             [
              0.4444444444444444,
              "#bd3786"
             ],
             [
              0.5555555555555556,
              "#d8576b"
             ],
             [
              0.6666666666666666,
              "#ed7953"
             ],
             [
              0.7777777777777778,
              "#fb9f3a"
             ],
             [
              0.8888888888888888,
              "#fdca26"
             ],
             [
              1,
              "#f0f921"
             ]
            ],
            "type": "heatmap"
           }
          ],
          "heatmapgl": [
           {
            "colorbar": {
             "outlinewidth": 0,
             "ticks": ""
            },
            "colorscale": [
             [
              0,
              "#0d0887"
             ],
             [
              0.1111111111111111,
              "#46039f"
             ],
             [
              0.2222222222222222,
              "#7201a8"
             ],
             [
              0.3333333333333333,
              "#9c179e"
             ],
             [
              0.4444444444444444,
              "#bd3786"
             ],
             [
              0.5555555555555556,
              "#d8576b"
             ],
             [
              0.6666666666666666,
              "#ed7953"
             ],
             [
              0.7777777777777778,
              "#fb9f3a"
             ],
             [
              0.8888888888888888,
              "#fdca26"
             ],
             [
              1,
              "#f0f921"
             ]
            ],
            "type": "heatmapgl"
           }
          ],
          "histogram": [
           {
            "marker": {
             "pattern": {
              "fillmode": "overlay",
              "size": 10,
              "solidity": 0.2
             }
            },
            "type": "histogram"
           }
          ],
          "histogram2d": [
           {
            "colorbar": {
             "outlinewidth": 0,
             "ticks": ""
            },
            "colorscale": [
             [
              0,
              "#0d0887"
             ],
             [
              0.1111111111111111,
              "#46039f"
             ],
             [
              0.2222222222222222,
              "#7201a8"
             ],
             [
              0.3333333333333333,
              "#9c179e"
             ],
             [
              0.4444444444444444,
              "#bd3786"
             ],
             [
              0.5555555555555556,
              "#d8576b"
             ],
             [
              0.6666666666666666,
              "#ed7953"
             ],
             [
              0.7777777777777778,
              "#fb9f3a"
             ],
             [
              0.8888888888888888,
              "#fdca26"
             ],
             [
              1,
              "#f0f921"
             ]
            ],
            "type": "histogram2d"
           }
          ],
          "histogram2dcontour": [
           {
            "colorbar": {
             "outlinewidth": 0,
             "ticks": ""
            },
            "colorscale": [
             [
              0,
              "#0d0887"
             ],
             [
              0.1111111111111111,
              "#46039f"
             ],
             [
              0.2222222222222222,
              "#7201a8"
             ],
             [
              0.3333333333333333,
              "#9c179e"
             ],
             [
              0.4444444444444444,
              "#bd3786"
             ],
             [
              0.5555555555555556,
              "#d8576b"
             ],
             [
              0.6666666666666666,
              "#ed7953"
             ],
             [
              0.7777777777777778,
              "#fb9f3a"
             ],
             [
              0.8888888888888888,
              "#fdca26"
             ],
             [
              1,
              "#f0f921"
             ]
            ],
            "type": "histogram2dcontour"
           }
          ],
          "mesh3d": [
           {
            "colorbar": {
             "outlinewidth": 0,
             "ticks": ""
            },
            "type": "mesh3d"
           }
          ],
          "parcoords": [
           {
            "line": {
             "colorbar": {
              "outlinewidth": 0,
              "ticks": ""
             }
            },
            "type": "parcoords"
           }
          ],
          "pie": [
           {
            "automargin": true,
            "type": "pie"
           }
          ],
          "scatter": [
           {
            "marker": {
             "colorbar": {
              "outlinewidth": 0,
              "ticks": ""
             }
            },
            "type": "scatter"
           }
          ],
          "scatter3d": [
           {
            "line": {
             "colorbar": {
              "outlinewidth": 0,
              "ticks": ""
             }
            },
            "marker": {
             "colorbar": {
              "outlinewidth": 0,
              "ticks": ""
             }
            },
            "type": "scatter3d"
           }
          ],
          "scattercarpet": [
           {
            "marker": {
             "colorbar": {
              "outlinewidth": 0,
              "ticks": ""
             }
            },
            "type": "scattercarpet"
           }
          ],
          "scattergeo": [
           {
            "marker": {
             "colorbar": {
              "outlinewidth": 0,
              "ticks": ""
             }
            },
            "type": "scattergeo"
           }
          ],
          "scattergl": [
           {
            "marker": {
             "colorbar": {
              "outlinewidth": 0,
              "ticks": ""
             }
            },
            "type": "scattergl"
           }
          ],
          "scattermapbox": [
           {
            "marker": {
             "colorbar": {
              "outlinewidth": 0,
              "ticks": ""
             }
            },
            "type": "scattermapbox"
           }
          ],
          "scatterpolar": [
           {
            "marker": {
             "colorbar": {
              "outlinewidth": 0,
              "ticks": ""
             }
            },
            "type": "scatterpolar"
           }
          ],
          "scatterpolargl": [
           {
            "marker": {
             "colorbar": {
              "outlinewidth": 0,
              "ticks": ""
             }
            },
            "type": "scatterpolargl"
           }
          ],
          "scatterternary": [
           {
            "marker": {
             "colorbar": {
              "outlinewidth": 0,
              "ticks": ""
             }
            },
            "type": "scatterternary"
           }
          ],
          "surface": [
           {
            "colorbar": {
             "outlinewidth": 0,
             "ticks": ""
            },
            "colorscale": [
             [
              0,
              "#0d0887"
             ],
             [
              0.1111111111111111,
              "#46039f"
             ],
             [
              0.2222222222222222,
              "#7201a8"
             ],
             [
              0.3333333333333333,
              "#9c179e"
             ],
             [
              0.4444444444444444,
              "#bd3786"
             ],
             [
              0.5555555555555556,
              "#d8576b"
             ],
             [
              0.6666666666666666,
              "#ed7953"
             ],
             [
              0.7777777777777778,
              "#fb9f3a"
             ],
             [
              0.8888888888888888,
              "#fdca26"
             ],
             [
              1,
              "#f0f921"
             ]
            ],
            "type": "surface"
           }
          ],
          "table": [
           {
            "cells": {
             "fill": {
              "color": "#EBF0F8"
             },
             "line": {
              "color": "white"
             }
            },
            "header": {
             "fill": {
              "color": "#C8D4E3"
             },
             "line": {
              "color": "white"
             }
            },
            "type": "table"
           }
          ]
         },
         "layout": {
          "annotationdefaults": {
           "arrowcolor": "#2a3f5f",
           "arrowhead": 0,
           "arrowwidth": 1
          },
          "autotypenumbers": "strict",
          "coloraxis": {
           "colorbar": {
            "outlinewidth": 0,
            "ticks": ""
           }
          },
          "colorscale": {
           "diverging": [
            [
             0,
             "#8e0152"
            ],
            [
             0.1,
             "#c51b7d"
            ],
            [
             0.2,
             "#de77ae"
            ],
            [
             0.3,
             "#f1b6da"
            ],
            [
             0.4,
             "#fde0ef"
            ],
            [
             0.5,
             "#f7f7f7"
            ],
            [
             0.6,
             "#e6f5d0"
            ],
            [
             0.7,
             "#b8e186"
            ],
            [
             0.8,
             "#7fbc41"
            ],
            [
             0.9,
             "#4d9221"
            ],
            [
             1,
             "#276419"
            ]
           ],
           "sequential": [
            [
             0,
             "#0d0887"
            ],
            [
             0.1111111111111111,
             "#46039f"
            ],
            [
             0.2222222222222222,
             "#7201a8"
            ],
            [
             0.3333333333333333,
             "#9c179e"
            ],
            [
             0.4444444444444444,
             "#bd3786"
            ],
            [
             0.5555555555555556,
             "#d8576b"
            ],
            [
             0.6666666666666666,
             "#ed7953"
            ],
            [
             0.7777777777777778,
             "#fb9f3a"
            ],
            [
             0.8888888888888888,
             "#fdca26"
            ],
            [
             1,
             "#f0f921"
            ]
           ],
           "sequentialminus": [
            [
             0,
             "#0d0887"
            ],
            [
             0.1111111111111111,
             "#46039f"
            ],
            [
             0.2222222222222222,
             "#7201a8"
            ],
            [
             0.3333333333333333,
             "#9c179e"
            ],
            [
             0.4444444444444444,
             "#bd3786"
            ],
            [
             0.5555555555555556,
             "#d8576b"
            ],
            [
             0.6666666666666666,
             "#ed7953"
            ],
            [
             0.7777777777777778,
             "#fb9f3a"
            ],
            [
             0.8888888888888888,
             "#fdca26"
            ],
            [
             1,
             "#f0f921"
            ]
           ]
          },
          "colorway": [
           "#636efa",
           "#EF553B",
           "#00cc96",
           "#ab63fa",
           "#FFA15A",
           "#19d3f3",
           "#FF6692",
           "#B6E880",
           "#FF97FF",
           "#FECB52"
          ],
          "font": {
           "color": "#2a3f5f"
          },
          "geo": {
           "bgcolor": "white",
           "lakecolor": "white",
           "landcolor": "#E5ECF6",
           "showlakes": true,
           "showland": true,
           "subunitcolor": "white"
          },
          "hoverlabel": {
           "align": "left"
          },
          "hovermode": "closest",
          "mapbox": {
           "style": "light"
          },
          "paper_bgcolor": "white",
          "plot_bgcolor": "#E5ECF6",
          "polar": {
           "angularaxis": {
            "gridcolor": "white",
            "linecolor": "white",
            "ticks": ""
           },
           "bgcolor": "#E5ECF6",
           "radialaxis": {
            "gridcolor": "white",
            "linecolor": "white",
            "ticks": ""
           }
          },
          "scene": {
           "xaxis": {
            "backgroundcolor": "#E5ECF6",
            "gridcolor": "white",
            "gridwidth": 2,
            "linecolor": "white",
            "showbackground": true,
            "ticks": "",
            "zerolinecolor": "white"
           },
           "yaxis": {
            "backgroundcolor": "#E5ECF6",
            "gridcolor": "white",
            "gridwidth": 2,
            "linecolor": "white",
            "showbackground": true,
            "ticks": "",
            "zerolinecolor": "white"
           },
           "zaxis": {
            "backgroundcolor": "#E5ECF6",
            "gridcolor": "white",
            "gridwidth": 2,
            "linecolor": "white",
            "showbackground": true,
            "ticks": "",
            "zerolinecolor": "white"
           }
          },
          "shapedefaults": {
           "line": {
            "color": "#2a3f5f"
           }
          },
          "ternary": {
           "aaxis": {
            "gridcolor": "white",
            "linecolor": "white",
            "ticks": ""
           },
           "baxis": {
            "gridcolor": "white",
            "linecolor": "white",
            "ticks": ""
           },
           "bgcolor": "#E5ECF6",
           "caxis": {
            "gridcolor": "white",
            "linecolor": "white",
            "ticks": ""
           }
          },
          "title": {
           "x": 0.05
          },
          "xaxis": {
           "automargin": true,
           "gridcolor": "white",
           "linecolor": "white",
           "ticks": "",
           "title": {
            "standoff": 15
           },
           "zerolinecolor": "white",
           "zerolinewidth": 2
          },
          "yaxis": {
           "automargin": true,
           "gridcolor": "white",
           "linecolor": "white",
           "ticks": "",
           "title": {
            "standoff": 15
           },
           "zerolinecolor": "white",
           "zerolinewidth": 2
          }
         }
        },
        "xaxis": {
         "title": {
          "text": "Class"
         }
        },
        "yaxis": {
         "title": {
          "text": "A"
         }
        }
       }
      }
     },
     "metadata": {},
     "output_type": "display_data"
    }
   ],
   "source": [
    "fig = go.Figure(data=data)\n",
    "fig.update_layout(barmode='group')\n",
    "fig.update_xaxes(title_text=\"Class\")\n",
    "fig.update_yaxes(title_text=\"A\")\n",
    "fig.show()"
   ]
  },
  {
   "cell_type": "code",
   "execution_count": 20,
   "metadata": {},
   "outputs": [
    {
     "data": {
      "text/html": [
       "<div>\n",
       "<style scoped>\n",
       "    .dataframe tbody tr th:only-of-type {\n",
       "        vertical-align: middle;\n",
       "    }\n",
       "\n",
       "    .dataframe tbody tr th {\n",
       "        vertical-align: top;\n",
       "    }\n",
       "\n",
       "    .dataframe thead th {\n",
       "        text-align: right;\n",
       "    }\n",
       "</style>\n",
       "<table border=\"1\" class=\"dataframe\">\n",
       "  <thead>\n",
       "    <tr style=\"text-align: right;\">\n",
       "      <th></th>\n",
       "      <th>name</th>\n",
       "      <th>id</th>\n",
       "      <th>nametype</th>\n",
       "      <th>recclass</th>\n",
       "      <th>mass (kg)</th>\n",
       "      <th>fall</th>\n",
       "      <th>year</th>\n",
       "      <th>lat</th>\n",
       "      <th>lon</th>\n",
       "      <th>count</th>\n",
       "    </tr>\n",
       "  </thead>\n",
       "  <tbody>\n",
       "    <tr>\n",
       "      <th>0</th>\n",
       "      <td>Aachen</td>\n",
       "      <td>1</td>\n",
       "      <td>Valid</td>\n",
       "      <td>L5</td>\n",
       "      <td>0.021</td>\n",
       "      <td>Fell</td>\n",
       "      <td>1880</td>\n",
       "      <td>50.77500</td>\n",
       "      <td>6.08333</td>\n",
       "      <td>1</td>\n",
       "    </tr>\n",
       "    <tr>\n",
       "      <th>1</th>\n",
       "      <td>Aarhus</td>\n",
       "      <td>2</td>\n",
       "      <td>Valid</td>\n",
       "      <td>H6</td>\n",
       "      <td>0.720</td>\n",
       "      <td>Fell</td>\n",
       "      <td>1951</td>\n",
       "      <td>56.18333</td>\n",
       "      <td>10.23333</td>\n",
       "      <td>1</td>\n",
       "    </tr>\n",
       "    <tr>\n",
       "      <th>2</th>\n",
       "      <td>Abee</td>\n",
       "      <td>6</td>\n",
       "      <td>Valid</td>\n",
       "      <td>EH4</td>\n",
       "      <td>107.000</td>\n",
       "      <td>Fell</td>\n",
       "      <td>1952</td>\n",
       "      <td>54.21667</td>\n",
       "      <td>-113.00000</td>\n",
       "      <td>1</td>\n",
       "    </tr>\n",
       "    <tr>\n",
       "      <th>3</th>\n",
       "      <td>Acapulco</td>\n",
       "      <td>10</td>\n",
       "      <td>Valid</td>\n",
       "      <td>Acapulcoite</td>\n",
       "      <td>1.914</td>\n",
       "      <td>Fell</td>\n",
       "      <td>1976</td>\n",
       "      <td>16.88333</td>\n",
       "      <td>-99.90000</td>\n",
       "      <td>1</td>\n",
       "    </tr>\n",
       "    <tr>\n",
       "      <th>4</th>\n",
       "      <td>Achiras</td>\n",
       "      <td>370</td>\n",
       "      <td>Valid</td>\n",
       "      <td>L6</td>\n",
       "      <td>0.780</td>\n",
       "      <td>Fell</td>\n",
       "      <td>1902</td>\n",
       "      <td>-33.16667</td>\n",
       "      <td>-64.95000</td>\n",
       "      <td>1</td>\n",
       "    </tr>\n",
       "  </tbody>\n",
       "</table>\n",
       "</div>"
      ],
      "text/plain": [
       "       name   id nametype     recclass  mass (kg)  fall  year       lat  \\\n",
       "0    Aachen    1    Valid           L5      0.021  Fell  1880  50.77500   \n",
       "1    Aarhus    2    Valid           H6      0.720  Fell  1951  56.18333   \n",
       "2      Abee    6    Valid          EH4    107.000  Fell  1952  54.21667   \n",
       "3  Acapulco   10    Valid  Acapulcoite      1.914  Fell  1976  16.88333   \n",
       "4   Achiras  370    Valid           L6      0.780  Fell  1902 -33.16667   \n",
       "\n",
       "         lon  count  \n",
       "0    6.08333      1  \n",
       "1   10.23333      1  \n",
       "2 -113.00000      1  \n",
       "3  -99.90000      1  \n",
       "4  -64.95000      1  "
      ]
     },
     "execution_count": 20,
     "metadata": {},
     "output_type": "execute_result"
    }
   ],
   "source": [
    "df.sort_values(by='year')\n",
    "df.head()"
   ]
  },
  {
   "cell_type": "code",
   "execution_count": 31,
   "metadata": {},
   "outputs": [],
   "source": [
    "df = df[(df['year']!=0) & (df['year']<2100)]"
   ]
  }
 ],
 "metadata": {
  "interpreter": {
   "hash": "652df1fb7fdcda80b69e7f9ac464bf7cfecbf31578f5d2cb59dda1aacc69e331"
  },
  "kernelspec": {
   "display_name": "Python 3.10.2 64-bit",
   "language": "python",
   "name": "python3"
  },
  "language_info": {
   "codemirror_mode": {
    "name": "ipython",
    "version": 3
   },
   "file_extension": ".py",
   "mimetype": "text/x-python",
   "name": "python",
   "nbconvert_exporter": "python",
   "pygments_lexer": "ipython3",
   "version": "3.10.2"
  },
  "orig_nbformat": 4
 },
 "nbformat": 4,
 "nbformat_minor": 2
}
