{
 "cells": [
  {
   "cell_type": "code",
   "execution_count": 380,
   "metadata": {},
   "outputs": [],
   "source": [
    "import pandas as pd\n",
    "import plotly as py\n",
    "import plotly.express as px\n",
    "import numpy as np\n",
    "from plotly.subplots import make_subplots\n",
    "import plotly.graph_objects as go"
   ]
  },
  {
   "cell_type": "code",
   "execution_count": 381,
   "metadata": {},
   "outputs": [],
   "source": [
    "df = pd.read_csv('data/Meteorite_Landings.csv')\n",
    "df['count'] = pd.Series(np.ones(df.shape[0])).astype(int)\n",
    "# Turning floats into integers\n",
    "df['year'] = df['year'].fillna(0).apply(lambda x: int(x))\n",
    "\n",
    "df['mass (g)'] = df['mass (g)'].apply(lambda x: round(x/1000, 3))\n",
    "df['mass (g)'] = df['mass (g)'].replace(0, np.nan)\n",
    "df.rename(columns={'mass (g)': 'mass (kg)', 'reclong': 'lon', 'reclat': 'lat'}, inplace=True)\n",
    "\n",
    "df.drop(columns='GeoLocation', inplace=True)"
   ]
  },
  {
   "cell_type": "code",
   "execution_count": 382,
   "metadata": {},
   "outputs": [
    {
     "data": {
      "text/html": [
       "<div>\n",
       "<style scoped>\n",
       "    .dataframe tbody tr th:only-of-type {\n",
       "        vertical-align: middle;\n",
       "    }\n",
       "\n",
       "    .dataframe tbody tr th {\n",
       "        vertical-align: top;\n",
       "    }\n",
       "\n",
       "    .dataframe thead th {\n",
       "        text-align: right;\n",
       "    }\n",
       "</style>\n",
       "<table border=\"1\" class=\"dataframe\">\n",
       "  <thead>\n",
       "    <tr style=\"text-align: right;\">\n",
       "      <th></th>\n",
       "      <th>name</th>\n",
       "      <th>id</th>\n",
       "      <th>nametype</th>\n",
       "      <th>recclass</th>\n",
       "      <th>mass (kg)</th>\n",
       "      <th>fall</th>\n",
       "      <th>year</th>\n",
       "      <th>lat</th>\n",
       "      <th>lon</th>\n",
       "      <th>count</th>\n",
       "    </tr>\n",
       "  </thead>\n",
       "  <tbody>\n",
       "    <tr>\n",
       "      <th>0</th>\n",
       "      <td>Aachen</td>\n",
       "      <td>1</td>\n",
       "      <td>Valid</td>\n",
       "      <td>L5</td>\n",
       "      <td>0.021</td>\n",
       "      <td>Fell</td>\n",
       "      <td>1880</td>\n",
       "      <td>50.77500</td>\n",
       "      <td>6.08333</td>\n",
       "      <td>1</td>\n",
       "    </tr>\n",
       "    <tr>\n",
       "      <th>1</th>\n",
       "      <td>Aarhus</td>\n",
       "      <td>2</td>\n",
       "      <td>Valid</td>\n",
       "      <td>H6</td>\n",
       "      <td>0.720</td>\n",
       "      <td>Fell</td>\n",
       "      <td>1951</td>\n",
       "      <td>56.18333</td>\n",
       "      <td>10.23333</td>\n",
       "      <td>1</td>\n",
       "    </tr>\n",
       "    <tr>\n",
       "      <th>2</th>\n",
       "      <td>Abee</td>\n",
       "      <td>6</td>\n",
       "      <td>Valid</td>\n",
       "      <td>EH4</td>\n",
       "      <td>107.000</td>\n",
       "      <td>Fell</td>\n",
       "      <td>1952</td>\n",
       "      <td>54.21667</td>\n",
       "      <td>-113.00000</td>\n",
       "      <td>1</td>\n",
       "    </tr>\n",
       "    <tr>\n",
       "      <th>3</th>\n",
       "      <td>Acapulco</td>\n",
       "      <td>10</td>\n",
       "      <td>Valid</td>\n",
       "      <td>Acapulcoite</td>\n",
       "      <td>1.914</td>\n",
       "      <td>Fell</td>\n",
       "      <td>1976</td>\n",
       "      <td>16.88333</td>\n",
       "      <td>-99.90000</td>\n",
       "      <td>1</td>\n",
       "    </tr>\n",
       "    <tr>\n",
       "      <th>4</th>\n",
       "      <td>Achiras</td>\n",
       "      <td>370</td>\n",
       "      <td>Valid</td>\n",
       "      <td>L6</td>\n",
       "      <td>0.780</td>\n",
       "      <td>Fell</td>\n",
       "      <td>1902</td>\n",
       "      <td>-33.16667</td>\n",
       "      <td>-64.95000</td>\n",
       "      <td>1</td>\n",
       "    </tr>\n",
       "  </tbody>\n",
       "</table>\n",
       "</div>"
      ],
      "text/plain": [
       "       name   id nametype     recclass  mass (kg)  fall  year       lat  \\\n",
       "0    Aachen    1    Valid           L5      0.021  Fell  1880  50.77500   \n",
       "1    Aarhus    2    Valid           H6      0.720  Fell  1951  56.18333   \n",
       "2      Abee    6    Valid          EH4    107.000  Fell  1952  54.21667   \n",
       "3  Acapulco   10    Valid  Acapulcoite      1.914  Fell  1976  16.88333   \n",
       "4   Achiras  370    Valid           L6      0.780  Fell  1902 -33.16667   \n",
       "\n",
       "         lon  count  \n",
       "0    6.08333      1  \n",
       "1   10.23333      1  \n",
       "2 -113.00000      1  \n",
       "3  -99.90000      1  \n",
       "4  -64.95000      1  "
      ]
     },
     "execution_count": 382,
     "metadata": {},
     "output_type": "execute_result"
    }
   ],
   "source": [
    "df.head()"
   ]
  },
  {
   "cell_type": "code",
   "execution_count": 383,
   "metadata": {},
   "outputs": [
    {
     "data": {
      "text/plain": [
       "recclass\n",
       "L6          8285\n",
       "H5          7142\n",
       "L5          4796\n",
       "H6          4528\n",
       "H4          4211\n",
       "LL5         2766\n",
       "LL6         2043\n",
       "L4          1253\n",
       "dtype: int64"
      ]
     },
     "execution_count": 383,
     "metadata": {},
     "output_type": "execute_result"
    }
   ],
   "source": [
    "recclass_l = df[['recclass']].value_counts()[:8]\n",
    "recclass_l"
   ]
  },
  {
   "cell_type": "code",
   "execution_count": 384,
   "metadata": {},
   "outputs": [],
   "source": [
    "# The most commont classes\n",
    "dfclass = df[df['recclass'].isin(['L6', 'H5', 'L5', 'H6', 'H4', 'LL5', 'LL6', 'L4'])]\n",
    "df_c = dfclass.groupby('recclass').sum()[['mass (kg)', 'count']].sort_values(by='count', ascending=False).reset_index()\n",
    "df_c['c_mass (kg)'] = round(df_c['mass (kg)']/df_c['count'], 3)\n",
    "df_c.drop(columns='mass (kg)', inplace=True)"
   ]
  },
  {
   "cell_type": "code",
   "execution_count": 385,
   "metadata": {},
   "outputs": [],
   "source": [
    "df_c = df_c.groupby('recclass').sum()[['c_mass (kg)', 'count']].sort_values(by='count', ascending=False).reset_index()\n",
    "df_c['mode'] = dfclass['mass (kg)'].mode()"
   ]
  },
  {
   "cell_type": "code",
   "execution_count": 386,
   "metadata": {},
   "outputs": [
    {
     "data": {
      "text/html": [
       "<div>\n",
       "<style scoped>\n",
       "    .dataframe tbody tr th:only-of-type {\n",
       "        vertical-align: middle;\n",
       "    }\n",
       "\n",
       "    .dataframe tbody tr th {\n",
       "        vertical-align: top;\n",
       "    }\n",
       "\n",
       "    .dataframe thead th {\n",
       "        text-align: right;\n",
       "    }\n",
       "</style>\n",
       "<table border=\"1\" class=\"dataframe\">\n",
       "  <thead>\n",
       "    <tr style=\"text-align: right;\">\n",
       "      <th></th>\n",
       "      <th>recclass</th>\n",
       "      <th>c_mass (kg)</th>\n",
       "      <th>count</th>\n",
       "      <th>mode</th>\n",
       "    </tr>\n",
       "  </thead>\n",
       "  <tbody>\n",
       "    <tr>\n",
       "      <th>0</th>\n",
       "      <td>L6</td>\n",
       "      <td>1.449</td>\n",
       "      <td>8285</td>\n",
       "      <td>0.001</td>\n",
       "    </tr>\n",
       "    <tr>\n",
       "      <th>1</th>\n",
       "      <td>H5</td>\n",
       "      <td>2.165</td>\n",
       "      <td>7142</td>\n",
       "      <td>NaN</td>\n",
       "    </tr>\n",
       "    <tr>\n",
       "      <th>2</th>\n",
       "      <td>L5</td>\n",
       "      <td>1.797</td>\n",
       "      <td>4796</td>\n",
       "      <td>NaN</td>\n",
       "    </tr>\n",
       "    <tr>\n",
       "      <th>3</th>\n",
       "      <td>H6</td>\n",
       "      <td>0.862</td>\n",
       "      <td>4528</td>\n",
       "      <td>NaN</td>\n",
       "    </tr>\n",
       "    <tr>\n",
       "      <th>4</th>\n",
       "      <td>H4</td>\n",
       "      <td>0.997</td>\n",
       "      <td>4211</td>\n",
       "      <td>NaN</td>\n",
       "    </tr>\n",
       "  </tbody>\n",
       "</table>\n",
       "</div>"
      ],
      "text/plain": [
       "  recclass  c_mass (kg)  count   mode\n",
       "0       L6        1.449   8285  0.001\n",
       "1       H5        2.165   7142    NaN\n",
       "2       L5        1.797   4796    NaN\n",
       "3       H6        0.862   4528    NaN\n",
       "4       H4        0.997   4211    NaN"
      ]
     },
     "execution_count": 386,
     "metadata": {},
     "output_type": "execute_result"
    }
   ],
   "source": [
    "df_c.head()"
   ]
  },
  {
   "cell_type": "code",
   "execution_count": 387,
   "metadata": {},
   "outputs": [
    {
     "data": {
      "application/vnd.plotly.v1+json": {
       "config": {
        "plotlyServerURL": "https://plot.ly"
       },
       "data": [
        {
         "alignmentgroup": "True",
         "hovertemplate": "recclass=%{x}<br>count=%{y}<br>c_mass (kg)=%{marker.color}<extra></extra>",
         "legendgroup": "",
         "marker": {
          "color": [
           1.449,
           2.165,
           1.797,
           0.862,
           0.997,
           0.465,
           0.692,
           1.636
          ],
          "coloraxis": "coloraxis",
          "pattern": {
           "shape": ""
          }
         },
         "name": "",
         "offsetgroup": "",
         "orientation": "v",
         "showlegend": false,
         "textposition": "auto",
         "type": "bar",
         "x": [
          "L6",
          "H5",
          "L5",
          "H6",
          "H4",
          "LL5",
          "LL6",
          "L4"
         ],
         "xaxis": "x",
         "y": [
          8285,
          7142,
          4796,
          4528,
          4211,
          2766,
          2043,
          1253
         ],
         "yaxis": "y"
        }
       ],
       "layout": {
        "barmode": "relative",
        "coloraxis": {
         "colorbar": {
          "title": {
           "text": "c_mass (kg)"
          }
         },
         "colorscale": [
          [
           0,
           "#0d0887"
          ],
          [
           0.1111111111111111,
           "#46039f"
          ],
          [
           0.2222222222222222,
           "#7201a8"
          ],
          [
           0.3333333333333333,
           "#9c179e"
          ],
          [
           0.4444444444444444,
           "#bd3786"
          ],
          [
           0.5555555555555556,
           "#d8576b"
          ],
          [
           0.6666666666666666,
           "#ed7953"
          ],
          [
           0.7777777777777778,
           "#fb9f3a"
          ],
          [
           0.8888888888888888,
           "#fdca26"
          ],
          [
           1,
           "#f0f921"
          ]
         ]
        },
        "legend": {
         "tracegroupgap": 0
        },
        "template": {
         "data": {
          "bar": [
           {
            "error_x": {
             "color": "#2a3f5f"
            },
            "error_y": {
             "color": "#2a3f5f"
            },
            "marker": {
             "line": {
              "color": "#E5ECF6",
              "width": 0.5
             },
             "pattern": {
              "fillmode": "overlay",
              "size": 10,
              "solidity": 0.2
             }
            },
            "type": "bar"
           }
          ],
          "barpolar": [
           {
            "marker": {
             "line": {
              "color": "#E5ECF6",
              "width": 0.5
             },
             "pattern": {
              "fillmode": "overlay",
              "size": 10,
              "solidity": 0.2
             }
            },
            "type": "barpolar"
           }
          ],
          "carpet": [
           {
            "aaxis": {
             "endlinecolor": "#2a3f5f",
             "gridcolor": "white",
             "linecolor": "white",
             "minorgridcolor": "white",
             "startlinecolor": "#2a3f5f"
            },
            "baxis": {
             "endlinecolor": "#2a3f5f",
             "gridcolor": "white",
             "linecolor": "white",
             "minorgridcolor": "white",
             "startlinecolor": "#2a3f5f"
            },
            "type": "carpet"
           }
          ],
          "choropleth": [
           {
            "colorbar": {
             "outlinewidth": 0,
             "ticks": ""
            },
            "type": "choropleth"
           }
          ],
          "contour": [
           {
            "colorbar": {
             "outlinewidth": 0,
             "ticks": ""
            },
            "colorscale": [
             [
              0,
              "#0d0887"
             ],
             [
              0.1111111111111111,
              "#46039f"
             ],
             [
              0.2222222222222222,
              "#7201a8"
             ],
             [
              0.3333333333333333,
              "#9c179e"
             ],
             [
              0.4444444444444444,
              "#bd3786"
             ],
             [
              0.5555555555555556,
              "#d8576b"
             ],
             [
              0.6666666666666666,
              "#ed7953"
             ],
             [
              0.7777777777777778,
              "#fb9f3a"
             ],
             [
              0.8888888888888888,
              "#fdca26"
             ],
             [
              1,
              "#f0f921"
             ]
            ],
            "type": "contour"
           }
          ],
          "contourcarpet": [
           {
            "colorbar": {
             "outlinewidth": 0,
             "ticks": ""
            },
            "type": "contourcarpet"
           }
          ],
          "heatmap": [
           {
            "colorbar": {
             "outlinewidth": 0,
             "ticks": ""
            },
            "colorscale": [
             [
              0,
              "#0d0887"
             ],
             [
              0.1111111111111111,
              "#46039f"
             ],
             [
              0.2222222222222222,
              "#7201a8"
             ],
             [
              0.3333333333333333,
              "#9c179e"
             ],
             [
              0.4444444444444444,
              "#bd3786"
             ],
             [
              0.5555555555555556,
              "#d8576b"
             ],
             [
              0.6666666666666666,
              "#ed7953"
             ],
             [
              0.7777777777777778,
              "#fb9f3a"
             ],
             [
              0.8888888888888888,
              "#fdca26"
             ],
             [
              1,
              "#f0f921"
             ]
            ],
            "type": "heatmap"
           }
          ],
          "heatmapgl": [
           {
            "colorbar": {
             "outlinewidth": 0,
             "ticks": ""
            },
            "colorscale": [
             [
              0,
              "#0d0887"
             ],
             [
              0.1111111111111111,
              "#46039f"
             ],
             [
              0.2222222222222222,
              "#7201a8"
             ],
             [
              0.3333333333333333,
              "#9c179e"
             ],
             [
              0.4444444444444444,
              "#bd3786"
             ],
             [
              0.5555555555555556,
              "#d8576b"
             ],
             [
              0.6666666666666666,
              "#ed7953"
             ],
             [
              0.7777777777777778,
              "#fb9f3a"
             ],
             [
              0.8888888888888888,
              "#fdca26"
             ],
             [
              1,
              "#f0f921"
             ]
            ],
            "type": "heatmapgl"
           }
          ],
          "histogram": [
           {
            "marker": {
             "pattern": {
              "fillmode": "overlay",
              "size": 10,
              "solidity": 0.2
             }
            },
            "type": "histogram"
           }
          ],
          "histogram2d": [
           {
            "colorbar": {
             "outlinewidth": 0,
             "ticks": ""
            },
            "colorscale": [
             [
              0,
              "#0d0887"
             ],
             [
              0.1111111111111111,
              "#46039f"
             ],
             [
              0.2222222222222222,
              "#7201a8"
             ],
             [
              0.3333333333333333,
              "#9c179e"
             ],
             [
              0.4444444444444444,
              "#bd3786"
             ],
             [
              0.5555555555555556,
              "#d8576b"
             ],
             [
              0.6666666666666666,
              "#ed7953"
             ],
             [
              0.7777777777777778,
              "#fb9f3a"
             ],
             [
              0.8888888888888888,
              "#fdca26"
             ],
             [
              1,
              "#f0f921"
             ]
            ],
            "type": "histogram2d"
           }
          ],
          "histogram2dcontour": [
           {
            "colorbar": {
             "outlinewidth": 0,
             "ticks": ""
            },
            "colorscale": [
             [
              0,
              "#0d0887"
             ],
             [
              0.1111111111111111,
              "#46039f"
             ],
             [
              0.2222222222222222,
              "#7201a8"
             ],
             [
              0.3333333333333333,
              "#9c179e"
             ],
             [
              0.4444444444444444,
              "#bd3786"
             ],
             [
              0.5555555555555556,
              "#d8576b"
             ],
             [
              0.6666666666666666,
              "#ed7953"
             ],
             [
              0.7777777777777778,
              "#fb9f3a"
             ],
             [
              0.8888888888888888,
              "#fdca26"
             ],
             [
              1,
              "#f0f921"
             ]
            ],
            "type": "histogram2dcontour"
           }
          ],
          "mesh3d": [
           {
            "colorbar": {
             "outlinewidth": 0,
             "ticks": ""
            },
            "type": "mesh3d"
           }
          ],
          "parcoords": [
           {
            "line": {
             "colorbar": {
              "outlinewidth": 0,
              "ticks": ""
             }
            },
            "type": "parcoords"
           }
          ],
          "pie": [
           {
            "automargin": true,
            "type": "pie"
           }
          ],
          "scatter": [
           {
            "marker": {
             "colorbar": {
              "outlinewidth": 0,
              "ticks": ""
             }
            },
            "type": "scatter"
           }
          ],
          "scatter3d": [
           {
            "line": {
             "colorbar": {
              "outlinewidth": 0,
              "ticks": ""
             }
            },
            "marker": {
             "colorbar": {
              "outlinewidth": 0,
              "ticks": ""
             }
            },
            "type": "scatter3d"
           }
          ],
          "scattercarpet": [
           {
            "marker": {
             "colorbar": {
              "outlinewidth": 0,
              "ticks": ""
             }
            },
            "type": "scattercarpet"
           }
          ],
          "scattergeo": [
           {
            "marker": {
             "colorbar": {
              "outlinewidth": 0,
              "ticks": ""
             }
            },
            "type": "scattergeo"
           }
          ],
          "scattergl": [
           {
            "marker": {
             "colorbar": {
              "outlinewidth": 0,
              "ticks": ""
             }
            },
            "type": "scattergl"
           }
          ],
          "scattermapbox": [
           {
            "marker": {
             "colorbar": {
              "outlinewidth": 0,
              "ticks": ""
             }
            },
            "type": "scattermapbox"
           }
          ],
          "scatterpolar": [
           {
            "marker": {
             "colorbar": {
              "outlinewidth": 0,
              "ticks": ""
             }
            },
            "type": "scatterpolar"
           }
          ],
          "scatterpolargl": [
           {
            "marker": {
             "colorbar": {
              "outlinewidth": 0,
              "ticks": ""
             }
            },
            "type": "scatterpolargl"
           }
          ],
          "scatterternary": [
           {
            "marker": {
             "colorbar": {
              "outlinewidth": 0,
              "ticks": ""
             }
            },
            "type": "scatterternary"
           }
          ],
          "surface": [
           {
            "colorbar": {
             "outlinewidth": 0,
             "ticks": ""
            },
            "colorscale": [
             [
              0,
              "#0d0887"
             ],
             [
              0.1111111111111111,
              "#46039f"
             ],
             [
              0.2222222222222222,
              "#7201a8"
             ],
             [
              0.3333333333333333,
              "#9c179e"
             ],
             [
              0.4444444444444444,
              "#bd3786"
             ],
             [
              0.5555555555555556,
              "#d8576b"
             ],
             [
              0.6666666666666666,
              "#ed7953"
             ],
             [
              0.7777777777777778,
              "#fb9f3a"
             ],
             [
              0.8888888888888888,
              "#fdca26"
             ],
             [
              1,
              "#f0f921"
             ]
            ],
            "type": "surface"
           }
          ],
          "table": [
           {
            "cells": {
             "fill": {
              "color": "#EBF0F8"
             },
             "line": {
              "color": "white"
             }
            },
            "header": {
             "fill": {
              "color": "#C8D4E3"
             },
             "line": {
              "color": "white"
             }
            },
            "type": "table"
           }
          ]
         },
         "layout": {
          "annotationdefaults": {
           "arrowcolor": "#2a3f5f",
           "arrowhead": 0,
           "arrowwidth": 1
          },
          "autotypenumbers": "strict",
          "coloraxis": {
           "colorbar": {
            "outlinewidth": 0,
            "ticks": ""
           }
          },
          "colorscale": {
           "diverging": [
            [
             0,
             "#8e0152"
            ],
            [
             0.1,
             "#c51b7d"
            ],
            [
             0.2,
             "#de77ae"
            ],
            [
             0.3,
             "#f1b6da"
            ],
            [
             0.4,
             "#fde0ef"
            ],
            [
             0.5,
             "#f7f7f7"
            ],
            [
             0.6,
             "#e6f5d0"
            ],
            [
             0.7,
             "#b8e186"
            ],
            [
             0.8,
             "#7fbc41"
            ],
            [
             0.9,
             "#4d9221"
            ],
            [
             1,
             "#276419"
            ]
           ],
           "sequential": [
            [
             0,
             "#0d0887"
            ],
            [
             0.1111111111111111,
             "#46039f"
            ],
            [
             0.2222222222222222,
             "#7201a8"
            ],
            [
             0.3333333333333333,
             "#9c179e"
            ],
            [
             0.4444444444444444,
             "#bd3786"
            ],
            [
             0.5555555555555556,
             "#d8576b"
            ],
            [
             0.6666666666666666,
             "#ed7953"
            ],
            [
             0.7777777777777778,
             "#fb9f3a"
            ],
            [
             0.8888888888888888,
             "#fdca26"
            ],
            [
             1,
             "#f0f921"
            ]
           ],
           "sequentialminus": [
            [
             0,
             "#0d0887"
            ],
            [
             0.1111111111111111,
             "#46039f"
            ],
            [
             0.2222222222222222,
             "#7201a8"
            ],
            [
             0.3333333333333333,
             "#9c179e"
            ],
            [
             0.4444444444444444,
             "#bd3786"
            ],
            [
             0.5555555555555556,
             "#d8576b"
            ],
            [
             0.6666666666666666,
             "#ed7953"
            ],
            [
             0.7777777777777778,
             "#fb9f3a"
            ],
            [
             0.8888888888888888,
             "#fdca26"
            ],
            [
             1,
             "#f0f921"
            ]
           ]
          },
          "colorway": [
           "#636efa",
           "#EF553B",
           "#00cc96",
           "#ab63fa",
           "#FFA15A",
           "#19d3f3",
           "#FF6692",
           "#B6E880",
           "#FF97FF",
           "#FECB52"
          ],
          "font": {
           "color": "#2a3f5f"
          },
          "geo": {
           "bgcolor": "white",
           "lakecolor": "white",
           "landcolor": "#E5ECF6",
           "showlakes": true,
           "showland": true,
           "subunitcolor": "white"
          },
          "hoverlabel": {
           "align": "left"
          },
          "hovermode": "closest",
          "mapbox": {
           "style": "light"
          },
          "paper_bgcolor": "white",
          "plot_bgcolor": "#E5ECF6",
          "polar": {
           "angularaxis": {
            "gridcolor": "white",
            "linecolor": "white",
            "ticks": ""
           },
           "bgcolor": "#E5ECF6",
           "radialaxis": {
            "gridcolor": "white",
            "linecolor": "white",
            "ticks": ""
           }
          },
          "scene": {
           "xaxis": {
            "backgroundcolor": "#E5ECF6",
            "gridcolor": "white",
            "gridwidth": 2,
            "linecolor": "white",
            "showbackground": true,
            "ticks": "",
            "zerolinecolor": "white"
           },
           "yaxis": {
            "backgroundcolor": "#E5ECF6",
            "gridcolor": "white",
            "gridwidth": 2,
            "linecolor": "white",
            "showbackground": true,
            "ticks": "",
            "zerolinecolor": "white"
           },
           "zaxis": {
            "backgroundcolor": "#E5ECF6",
            "gridcolor": "white",
            "gridwidth": 2,
            "linecolor": "white",
            "showbackground": true,
            "ticks": "",
            "zerolinecolor": "white"
           }
          },
          "shapedefaults": {
           "line": {
            "color": "#2a3f5f"
           }
          },
          "ternary": {
           "aaxis": {
            "gridcolor": "white",
            "linecolor": "white",
            "ticks": ""
           },
           "baxis": {
            "gridcolor": "white",
            "linecolor": "white",
            "ticks": ""
           },
           "bgcolor": "#E5ECF6",
           "caxis": {
            "gridcolor": "white",
            "linecolor": "white",
            "ticks": ""
           }
          },
          "title": {
           "x": 0.05
          },
          "xaxis": {
           "automargin": true,
           "gridcolor": "white",
           "linecolor": "white",
           "ticks": "",
           "title": {
            "standoff": 15
           },
           "zerolinecolor": "white",
           "zerolinewidth": 2
          },
          "yaxis": {
           "automargin": true,
           "gridcolor": "white",
           "linecolor": "white",
           "ticks": "",
           "title": {
            "standoff": 15
           },
           "zerolinecolor": "white",
           "zerolinewidth": 2
          }
         }
        },
        "title": {
         "text": "Amount for the most common meteorite properties classified by mass"
        },
        "xaxis": {
         "anchor": "y",
         "domain": [
          0,
          1
         ],
         "title": {
          "text": "recclass"
         }
        },
        "yaxis": {
         "anchor": "x",
         "domain": [
          0,
          1
         ],
         "title": {
          "text": "count"
         }
        }
       }
      }
     },
     "metadata": {},
     "output_type": "display_data"
    }
   ],
   "source": [
    "fig = px.bar(\n",
    "    df_c,\n",
    "    x='recclass',\n",
    "    y='count',\n",
    "    color='c_mass (kg)',\n",
    "    title='Amount for the most common meteorite properties classified by mass'\n",
    ")\n",
    "fig.show()"
   ]
  },
  {
   "cell_type": "code",
   "execution_count": 388,
   "metadata": {},
   "outputs": [
    {
     "data": {
      "text/html": [
       "<div>\n",
       "<style scoped>\n",
       "    .dataframe tbody tr th:only-of-type {\n",
       "        vertical-align: middle;\n",
       "    }\n",
       "\n",
       "    .dataframe tbody tr th {\n",
       "        vertical-align: top;\n",
       "    }\n",
       "\n",
       "    .dataframe thead th {\n",
       "        text-align: right;\n",
       "    }\n",
       "</style>\n",
       "<table border=\"1\" class=\"dataframe\">\n",
       "  <thead>\n",
       "    <tr style=\"text-align: right;\">\n",
       "      <th></th>\n",
       "      <th>name</th>\n",
       "      <th>id</th>\n",
       "      <th>nametype</th>\n",
       "      <th>recclass</th>\n",
       "      <th>mass (kg)</th>\n",
       "      <th>fall</th>\n",
       "      <th>year</th>\n",
       "      <th>lat</th>\n",
       "      <th>lon</th>\n",
       "      <th>count</th>\n",
       "    </tr>\n",
       "  </thead>\n",
       "  <tbody>\n",
       "    <tr>\n",
       "      <th>30682</th>\n",
       "      <td>Northwest Africa 7701</td>\n",
       "      <td>57150</td>\n",
       "      <td>Valid</td>\n",
       "      <td>CK6</td>\n",
       "      <td>0.055</td>\n",
       "      <td>Found</td>\n",
       "      <td>2101</td>\n",
       "      <td>NaN</td>\n",
       "      <td>NaN</td>\n",
       "      <td>1</td>\n",
       "    </tr>\n",
       "    <tr>\n",
       "      <th>30776</th>\n",
       "      <td>Northwest Africa 7857</td>\n",
       "      <td>57422</td>\n",
       "      <td>Valid</td>\n",
       "      <td>LL6</td>\n",
       "      <td>0.246</td>\n",
       "      <td>Found</td>\n",
       "      <td>2013</td>\n",
       "      <td>NaN</td>\n",
       "      <td>NaN</td>\n",
       "      <td>1</td>\n",
       "    </tr>\n",
       "    <tr>\n",
       "      <th>30781</th>\n",
       "      <td>Northwest Africa 7863</td>\n",
       "      <td>57427</td>\n",
       "      <td>Valid</td>\n",
       "      <td>LL5</td>\n",
       "      <td>1.000</td>\n",
       "      <td>Found</td>\n",
       "      <td>2013</td>\n",
       "      <td>NaN</td>\n",
       "      <td>NaN</td>\n",
       "      <td>1</td>\n",
       "    </tr>\n",
       "    <tr>\n",
       "      <th>194</th>\n",
       "      <td>Chelyabinsk</td>\n",
       "      <td>57165</td>\n",
       "      <td>Valid</td>\n",
       "      <td>LL5</td>\n",
       "      <td>100.000</td>\n",
       "      <td>Fell</td>\n",
       "      <td>2013</td>\n",
       "      <td>54.81667</td>\n",
       "      <td>61.11667</td>\n",
       "      <td>1</td>\n",
       "    </tr>\n",
       "    <tr>\n",
       "      <th>30780</th>\n",
       "      <td>Northwest Africa 7862</td>\n",
       "      <td>57426</td>\n",
       "      <td>Valid</td>\n",
       "      <td>L4/5</td>\n",
       "      <td>0.317</td>\n",
       "      <td>Found</td>\n",
       "      <td>2013</td>\n",
       "      <td>NaN</td>\n",
       "      <td>NaN</td>\n",
       "      <td>1</td>\n",
       "    </tr>\n",
       "    <tr>\n",
       "      <th>...</th>\n",
       "      <td>...</td>\n",
       "      <td>...</td>\n",
       "      <td>...</td>\n",
       "      <td>...</td>\n",
       "      <td>...</td>\n",
       "      <td>...</td>\n",
       "      <td>...</td>\n",
       "      <td>...</td>\n",
       "      <td>...</td>\n",
       "      <td>...</td>\n",
       "    </tr>\n",
       "    <tr>\n",
       "      <th>17253</th>\n",
       "      <td>Jiddat al Harasis 792</td>\n",
       "      <td>56524</td>\n",
       "      <td>Valid</td>\n",
       "      <td>H6</td>\n",
       "      <td>0.353</td>\n",
       "      <td>Found</td>\n",
       "      <td>0</td>\n",
       "      <td>19.81889</td>\n",
       "      <td>55.93250</td>\n",
       "      <td>1</td>\n",
       "    </tr>\n",
       "    <tr>\n",
       "      <th>17254</th>\n",
       "      <td>Jiddat al Harasis 793</td>\n",
       "      <td>56525</td>\n",
       "      <td>Valid</td>\n",
       "      <td>L5</td>\n",
       "      <td>0.420</td>\n",
       "      <td>Found</td>\n",
       "      <td>0</td>\n",
       "      <td>19.92944</td>\n",
       "      <td>55.95778</td>\n",
       "      <td>1</td>\n",
       "    </tr>\n",
       "    <tr>\n",
       "      <th>28381</th>\n",
       "      <td>Northwest Africa 4137</td>\n",
       "      <td>34409</td>\n",
       "      <td>Valid</td>\n",
       "      <td>L6</td>\n",
       "      <td>0.121</td>\n",
       "      <td>Found</td>\n",
       "      <td>0</td>\n",
       "      <td>NaN</td>\n",
       "      <td>NaN</td>\n",
       "      <td>1</td>\n",
       "    </tr>\n",
       "    <tr>\n",
       "      <th>17255</th>\n",
       "      <td>Jiddat al Harasis 794</td>\n",
       "      <td>56526</td>\n",
       "      <td>Valid</td>\n",
       "      <td>L5</td>\n",
       "      <td>0.387</td>\n",
       "      <td>Found</td>\n",
       "      <td>0</td>\n",
       "      <td>19.96944</td>\n",
       "      <td>55.98778</td>\n",
       "      <td>1</td>\n",
       "    </tr>\n",
       "    <tr>\n",
       "      <th>17313</th>\n",
       "      <td>Kalahari 005</td>\n",
       "      <td>30734</td>\n",
       "      <td>Valid</td>\n",
       "      <td>H5</td>\n",
       "      <td>0.220</td>\n",
       "      <td>Found</td>\n",
       "      <td>0</td>\n",
       "      <td>NaN</td>\n",
       "      <td>NaN</td>\n",
       "      <td>1</td>\n",
       "    </tr>\n",
       "  </tbody>\n",
       "</table>\n",
       "<p>45716 rows × 10 columns</p>\n",
       "</div>"
      ],
      "text/plain": [
       "                        name     id nametype recclass  mass (kg)   fall  year  \\\n",
       "30682  Northwest Africa 7701  57150    Valid      CK6      0.055  Found  2101   \n",
       "30776  Northwest Africa 7857  57422    Valid      LL6      0.246  Found  2013   \n",
       "30781  Northwest Africa 7863  57427    Valid      LL5      1.000  Found  2013   \n",
       "194              Chelyabinsk  57165    Valid      LL5    100.000   Fell  2013   \n",
       "30780  Northwest Africa 7862  57426    Valid     L4/5      0.317  Found  2013   \n",
       "...                      ...    ...      ...      ...        ...    ...   ...   \n",
       "17253  Jiddat al Harasis 792  56524    Valid       H6      0.353  Found     0   \n",
       "17254  Jiddat al Harasis 793  56525    Valid       L5      0.420  Found     0   \n",
       "28381  Northwest Africa 4137  34409    Valid       L6      0.121  Found     0   \n",
       "17255  Jiddat al Harasis 794  56526    Valid       L5      0.387  Found     0   \n",
       "17313           Kalahari 005  30734    Valid       H5      0.220  Found     0   \n",
       "\n",
       "            lat       lon  count  \n",
       "30682       NaN       NaN      1  \n",
       "30776       NaN       NaN      1  \n",
       "30781       NaN       NaN      1  \n",
       "194    54.81667  61.11667      1  \n",
       "30780       NaN       NaN      1  \n",
       "...         ...       ...    ...  \n",
       "17253  19.81889  55.93250      1  \n",
       "17254  19.92944  55.95778      1  \n",
       "28381       NaN       NaN      1  \n",
       "17255  19.96944  55.98778      1  \n",
       "17313       NaN       NaN      1  \n",
       "\n",
       "[45716 rows x 10 columns]"
      ]
     },
     "execution_count": 388,
     "metadata": {},
     "output_type": "execute_result"
    }
   ],
   "source": [
    "df['lat'].replace(0, np.nan, inplace=True)\n",
    "df['lon'].replace(0, np.nan, inplace=True)\n",
    "df.sort_values(by='year', ascending=False)"
   ]
  },
  {
   "cell_type": "code",
   "execution_count": 400,
   "metadata": {},
   "outputs": [
    {
     "data": {
      "text/html": [
       "<div>\n",
       "<style scoped>\n",
       "    .dataframe tbody tr th:only-of-type {\n",
       "        vertical-align: middle;\n",
       "    }\n",
       "\n",
       "    .dataframe tbody tr th {\n",
       "        vertical-align: top;\n",
       "    }\n",
       "\n",
       "    .dataframe thead th {\n",
       "        text-align: right;\n",
       "    }\n",
       "</style>\n",
       "<table border=\"1\" class=\"dataframe\">\n",
       "  <thead>\n",
       "    <tr style=\"text-align: right;\">\n",
       "      <th></th>\n",
       "      <th>name</th>\n",
       "      <th>id</th>\n",
       "      <th>nametype</th>\n",
       "      <th>recclass</th>\n",
       "      <th>mass (kg)</th>\n",
       "      <th>fall</th>\n",
       "      <th>year</th>\n",
       "      <th>lat</th>\n",
       "      <th>lon</th>\n",
       "      <th>count</th>\n",
       "    </tr>\n",
       "  </thead>\n",
       "  <tbody>\n",
       "    <tr>\n",
       "      <th>7</th>\n",
       "      <td>Agen</td>\n",
       "      <td>392</td>\n",
       "      <td>Valid</td>\n",
       "      <td>H5</td>\n",
       "      <td>30.000</td>\n",
       "      <td>Fell</td>\n",
       "      <td>1814</td>\n",
       "      <td>44.21667</td>\n",
       "      <td>0.61667</td>\n",
       "      <td>1</td>\n",
       "    </tr>\n",
       "    <tr>\n",
       "      <th>25</th>\n",
       "      <td>Alessandria</td>\n",
       "      <td>463</td>\n",
       "      <td>Valid</td>\n",
       "      <td>H5</td>\n",
       "      <td>0.908</td>\n",
       "      <td>Fell</td>\n",
       "      <td>1860</td>\n",
       "      <td>44.88333</td>\n",
       "      <td>8.75000</td>\n",
       "      <td>1</td>\n",
       "    </tr>\n",
       "    <tr>\n",
       "      <th>28</th>\n",
       "      <td>Allegan</td>\n",
       "      <td>2276</td>\n",
       "      <td>Valid</td>\n",
       "      <td>H5</td>\n",
       "      <td>32.000</td>\n",
       "      <td>Fell</td>\n",
       "      <td>1899</td>\n",
       "      <td>42.53333</td>\n",
       "      <td>-85.88333</td>\n",
       "      <td>1</td>\n",
       "    </tr>\n",
       "    <tr>\n",
       "      <th>32</th>\n",
       "      <td>Ambapur Nagla</td>\n",
       "      <td>2290</td>\n",
       "      <td>Valid</td>\n",
       "      <td>H5</td>\n",
       "      <td>6.400</td>\n",
       "      <td>Fell</td>\n",
       "      <td>1895</td>\n",
       "      <td>27.66667</td>\n",
       "      <td>78.25000</td>\n",
       "      <td>1</td>\n",
       "    </tr>\n",
       "    <tr>\n",
       "      <th>41</th>\n",
       "      <td>Anlong</td>\n",
       "      <td>2305</td>\n",
       "      <td>Valid</td>\n",
       "      <td>H5</td>\n",
       "      <td>2.500</td>\n",
       "      <td>Fell</td>\n",
       "      <td>1971</td>\n",
       "      <td>25.15000</td>\n",
       "      <td>105.18333</td>\n",
       "      <td>1</td>\n",
       "    </tr>\n",
       "    <tr>\n",
       "      <th>...</th>\n",
       "      <td>...</td>\n",
       "      <td>...</td>\n",
       "      <td>...</td>\n",
       "      <td>...</td>\n",
       "      <td>...</td>\n",
       "      <td>...</td>\n",
       "      <td>...</td>\n",
       "      <td>...</td>\n",
       "      <td>...</td>\n",
       "      <td>...</td>\n",
       "    </tr>\n",
       "    <tr>\n",
       "      <th>45665</th>\n",
       "      <td>Yarle Lakes 001</td>\n",
       "      <td>30353</td>\n",
       "      <td>Valid</td>\n",
       "      <td>H5</td>\n",
       "      <td>0.913</td>\n",
       "      <td>Found</td>\n",
       "      <td>1990</td>\n",
       "      <td>-30.31667</td>\n",
       "      <td>131.46667</td>\n",
       "      <td>1</td>\n",
       "    </tr>\n",
       "    <tr>\n",
       "      <th>45682</th>\n",
       "      <td>Yorktown (Texas)</td>\n",
       "      <td>30371</td>\n",
       "      <td>Valid</td>\n",
       "      <td>H5</td>\n",
       "      <td>3.500</td>\n",
       "      <td>Found</td>\n",
       "      <td>1957</td>\n",
       "      <td>28.95000</td>\n",
       "      <td>-97.40278</td>\n",
       "      <td>1</td>\n",
       "    </tr>\n",
       "    <tr>\n",
       "      <th>45688</th>\n",
       "      <td>Yucca 016</td>\n",
       "      <td>57158</td>\n",
       "      <td>Valid</td>\n",
       "      <td>H5</td>\n",
       "      <td>0.026</td>\n",
       "      <td>Found</td>\n",
       "      <td>2011</td>\n",
       "      <td>34.82658</td>\n",
       "      <td>-114.27763</td>\n",
       "      <td>1</td>\n",
       "    </tr>\n",
       "    <tr>\n",
       "      <th>45689</th>\n",
       "      <td>Yucca 017</td>\n",
       "      <td>57159</td>\n",
       "      <td>Valid</td>\n",
       "      <td>H5</td>\n",
       "      <td>0.200</td>\n",
       "      <td>Found</td>\n",
       "      <td>2011</td>\n",
       "      <td>34.81923</td>\n",
       "      <td>-114.27735</td>\n",
       "      <td>1</td>\n",
       "    </tr>\n",
       "    <tr>\n",
       "      <th>45706</th>\n",
       "      <td>Zerkaly</td>\n",
       "      <td>31354</td>\n",
       "      <td>Valid</td>\n",
       "      <td>H5</td>\n",
       "      <td>16.000</td>\n",
       "      <td>Found</td>\n",
       "      <td>1956</td>\n",
       "      <td>52.13333</td>\n",
       "      <td>81.96667</td>\n",
       "      <td>1</td>\n",
       "    </tr>\n",
       "  </tbody>\n",
       "</table>\n",
       "<p>7142 rows × 10 columns</p>\n",
       "</div>"
      ],
      "text/plain": [
       "                   name     id nametype recclass  mass (kg)   fall  year  \\\n",
       "7                  Agen    392    Valid       H5     30.000   Fell  1814   \n",
       "25          Alessandria    463    Valid       H5      0.908   Fell  1860   \n",
       "28              Allegan   2276    Valid       H5     32.000   Fell  1899   \n",
       "32        Ambapur Nagla   2290    Valid       H5      6.400   Fell  1895   \n",
       "41               Anlong   2305    Valid       H5      2.500   Fell  1971   \n",
       "...                 ...    ...      ...      ...        ...    ...   ...   \n",
       "45665   Yarle Lakes 001  30353    Valid       H5      0.913  Found  1990   \n",
       "45682  Yorktown (Texas)  30371    Valid       H5      3.500  Found  1957   \n",
       "45688         Yucca 016  57158    Valid       H5      0.026  Found  2011   \n",
       "45689         Yucca 017  57159    Valid       H5      0.200  Found  2011   \n",
       "45706           Zerkaly  31354    Valid       H5     16.000  Found  1956   \n",
       "\n",
       "            lat        lon  count  \n",
       "7      44.21667    0.61667      1  \n",
       "25     44.88333    8.75000      1  \n",
       "28     42.53333  -85.88333      1  \n",
       "32     27.66667   78.25000      1  \n",
       "41     25.15000  105.18333      1  \n",
       "...         ...        ...    ...  \n",
       "45665 -30.31667  131.46667      1  \n",
       "45682  28.95000  -97.40278      1  \n",
       "45688  34.82658 -114.27763      1  \n",
       "45689  34.81923 -114.27735      1  \n",
       "45706  52.13333   81.96667      1  \n",
       "\n",
       "[7142 rows x 10 columns]"
      ]
     },
     "execution_count": 400,
     "metadata": {},
     "output_type": "execute_result"
    }
   ],
   "source": [
    "df[df['recclass']=='H5']"
   ]
  },
  {
   "cell_type": "code",
   "execution_count": 408,
   "metadata": {},
   "outputs": [
    {
     "data": {
      "text/html": [
       "<div>\n",
       "<style scoped>\n",
       "    .dataframe tbody tr th:only-of-type {\n",
       "        vertical-align: middle;\n",
       "    }\n",
       "\n",
       "    .dataframe tbody tr th {\n",
       "        vertical-align: top;\n",
       "    }\n",
       "\n",
       "    .dataframe thead th {\n",
       "        text-align: right;\n",
       "    }\n",
       "</style>\n",
       "<table border=\"1\" class=\"dataframe\">\n",
       "  <thead>\n",
       "    <tr style=\"text-align: right;\">\n",
       "      <th></th>\n",
       "      <th>count</th>\n",
       "      <th>mean</th>\n",
       "      <th>std</th>\n",
       "      <th>min</th>\n",
       "      <th>25%</th>\n",
       "      <th>50%</th>\n",
       "      <th>75%</th>\n",
       "      <th>max</th>\n",
       "    </tr>\n",
       "    <tr>\n",
       "      <th>recclass</th>\n",
       "      <th></th>\n",
       "      <th></th>\n",
       "      <th></th>\n",
       "      <th></th>\n",
       "      <th></th>\n",
       "      <th></th>\n",
       "      <th></th>\n",
       "      <th></th>\n",
       "    </tr>\n",
       "  </thead>\n",
       "  <tbody>\n",
       "    <tr>\n",
       "      <th>Iron, IVB</th>\n",
       "      <td>14.0</td>\n",
       "      <td>4322.832857</td>\n",
       "      <td>16025.035776</td>\n",
       "      <td>1.800</td>\n",
       "      <td>13.20000</td>\n",
       "      <td>33.1100</td>\n",
       "      <td>69.000</td>\n",
       "      <td>60000.0</td>\n",
       "    </tr>\n",
       "    <tr>\n",
       "      <th>Iron, IIIE</th>\n",
       "      <td>12.0</td>\n",
       "      <td>2409.610417</td>\n",
       "      <td>8059.559334</td>\n",
       "      <td>2.500</td>\n",
       "      <td>9.98125</td>\n",
       "      <td>47.2500</td>\n",
       "      <td>180.500</td>\n",
       "      <td>28000.0</td>\n",
       "    </tr>\n",
       "    <tr>\n",
       "      <th>Iron, IAB-MG</th>\n",
       "      <td>74.0</td>\n",
       "      <td>1458.890338</td>\n",
       "      <td>6850.454356</td>\n",
       "      <td>0.117</td>\n",
       "      <td>3.81300</td>\n",
       "      <td>13.8000</td>\n",
       "      <td>72.000</td>\n",
       "      <td>50000.0</td>\n",
       "    </tr>\n",
       "    <tr>\n",
       "      <th>Iron, IC</th>\n",
       "      <td>9.0</td>\n",
       "      <td>991.122222</td>\n",
       "      <td>1691.753504</td>\n",
       "      <td>3.600</td>\n",
       "      <td>54.00000</td>\n",
       "      <td>683.0000</td>\n",
       "      <td>825.000</td>\n",
       "      <td>5360.0</td>\n",
       "    </tr>\n",
       "    <tr>\n",
       "      <th>Iron, IAB-ung</th>\n",
       "      <td>42.0</td>\n",
       "      <td>751.024500</td>\n",
       "      <td>3829.723709</td>\n",
       "      <td>0.011</td>\n",
       "      <td>0.32275</td>\n",
       "      <td>3.7400</td>\n",
       "      <td>19.500</td>\n",
       "      <td>24000.0</td>\n",
       "    </tr>\n",
       "    <tr>\n",
       "      <th>Mesosiderite-A1</th>\n",
       "      <td>6.0</td>\n",
       "      <td>698.206333</td>\n",
       "      <td>1536.643943</td>\n",
       "      <td>0.188</td>\n",
       "      <td>11.73750</td>\n",
       "      <td>42.9250</td>\n",
       "      <td>216.125</td>\n",
       "      <td>3828.0</td>\n",
       "    </tr>\n",
       "    <tr>\n",
       "      <th>Pallasite, PMG-an</th>\n",
       "      <td>11.0</td>\n",
       "      <td>685.358909</td>\n",
       "      <td>1383.108810</td>\n",
       "      <td>0.074</td>\n",
       "      <td>0.84500</td>\n",
       "      <td>17.0000</td>\n",
       "      <td>424.000</td>\n",
       "      <td>4300.0</td>\n",
       "    </tr>\n",
       "    <tr>\n",
       "      <th>Iron, IIIAB</th>\n",
       "      <td>272.0</td>\n",
       "      <td>509.123603</td>\n",
       "      <td>3972.394335</td>\n",
       "      <td>0.003</td>\n",
       "      <td>3.66875</td>\n",
       "      <td>17.2950</td>\n",
       "      <td>79.000</td>\n",
       "      <td>58200.0</td>\n",
       "    </tr>\n",
       "    <tr>\n",
       "      <th>Iron, IVA</th>\n",
       "      <td>61.0</td>\n",
       "      <td>508.347475</td>\n",
       "      <td>3340.591345</td>\n",
       "      <td>0.030</td>\n",
       "      <td>4.30000</td>\n",
       "      <td>12.2800</td>\n",
       "      <td>30.000</td>\n",
       "      <td>26000.0</td>\n",
       "    </tr>\n",
       "    <tr>\n",
       "      <th>Iron, ungrouped</th>\n",
       "      <td>97.0</td>\n",
       "      <td>490.581629</td>\n",
       "      <td>2750.566215</td>\n",
       "      <td>0.001</td>\n",
       "      <td>0.86000</td>\n",
       "      <td>8.7400</td>\n",
       "      <td>39.000</td>\n",
       "      <td>22000.0</td>\n",
       "    </tr>\n",
       "    <tr>\n",
       "      <th>Mesosiderite-B4</th>\n",
       "      <td>3.0</td>\n",
       "      <td>359.333333</td>\n",
       "      <td>458.389020</td>\n",
       "      <td>89.400</td>\n",
       "      <td>94.70000</td>\n",
       "      <td>100.0000</td>\n",
       "      <td>494.300</td>\n",
       "      <td>888.6</td>\n",
       "    </tr>\n",
       "    <tr>\n",
       "      <th>Iron, IIAB</th>\n",
       "      <td>108.0</td>\n",
       "      <td>349.299380</td>\n",
       "      <td>2245.047930</td>\n",
       "      <td>0.019</td>\n",
       "      <td>1.65000</td>\n",
       "      <td>11.0705</td>\n",
       "      <td>46.400</td>\n",
       "      <td>23000.0</td>\n",
       "    </tr>\n",
       "    <tr>\n",
       "      <th>Mesosiderite-A3/4</th>\n",
       "      <td>1.0</td>\n",
       "      <td>320.000000</td>\n",
       "      <td>NaN</td>\n",
       "      <td>320.000</td>\n",
       "      <td>320.00000</td>\n",
       "      <td>320.0000</td>\n",
       "      <td>320.000</td>\n",
       "      <td>320.0</td>\n",
       "    </tr>\n",
       "    <tr>\n",
       "      <th>Iron, IIIAB-an</th>\n",
       "      <td>3.0</td>\n",
       "      <td>240.233333</td>\n",
       "      <td>338.008969</td>\n",
       "      <td>27.700</td>\n",
       "      <td>45.35000</td>\n",
       "      <td>63.0000</td>\n",
       "      <td>346.500</td>\n",
       "      <td>630.0</td>\n",
       "    </tr>\n",
       "    <tr>\n",
       "      <th>Iron, IAB complex</th>\n",
       "      <td>40.0</td>\n",
       "      <td>228.585375</td>\n",
       "      <td>607.230625</td>\n",
       "      <td>0.015</td>\n",
       "      <td>0.34175</td>\n",
       "      <td>8.8550</td>\n",
       "      <td>54.725</td>\n",
       "      <td>3000.0</td>\n",
       "    </tr>\n",
       "    <tr>\n",
       "      <th>Mesosiderite-C</th>\n",
       "      <td>1.0</td>\n",
       "      <td>218.000000</td>\n",
       "      <td>NaN</td>\n",
       "      <td>218.000</td>\n",
       "      <td>218.00000</td>\n",
       "      <td>218.0000</td>\n",
       "      <td>218.000</td>\n",
       "      <td>218.0</td>\n",
       "    </tr>\n",
       "    <tr>\n",
       "      <th>Iron, IAB-sLL</th>\n",
       "      <td>22.0</td>\n",
       "      <td>201.222727</td>\n",
       "      <td>672.216904</td>\n",
       "      <td>0.064</td>\n",
       "      <td>1.77500</td>\n",
       "      <td>4.4000</td>\n",
       "      <td>18.525</td>\n",
       "      <td>3000.0</td>\n",
       "    </tr>\n",
       "    <tr>\n",
       "      <th>Pallasite, PMG</th>\n",
       "      <td>34.0</td>\n",
       "      <td>164.419324</td>\n",
       "      <td>287.219485</td>\n",
       "      <td>0.004</td>\n",
       "      <td>2.75000</td>\n",
       "      <td>24.6500</td>\n",
       "      <td>174.750</td>\n",
       "      <td>1003.0</td>\n",
       "    </tr>\n",
       "    <tr>\n",
       "      <th>CR-an</th>\n",
       "      <td>1.0</td>\n",
       "      <td>114.000000</td>\n",
       "      <td>NaN</td>\n",
       "      <td>114.000</td>\n",
       "      <td>114.00000</td>\n",
       "      <td>114.0000</td>\n",
       "      <td>114.000</td>\n",
       "      <td>114.0</td>\n",
       "    </tr>\n",
       "    <tr>\n",
       "      <th>Aubrite</th>\n",
       "      <td>47.0</td>\n",
       "      <td>89.689489</td>\n",
       "      <td>462.441969</td>\n",
       "      <td>0.001</td>\n",
       "      <td>0.00850</td>\n",
       "      <td>0.1380</td>\n",
       "      <td>0.521</td>\n",
       "      <td>3000.0</td>\n",
       "    </tr>\n",
       "  </tbody>\n",
       "</table>\n",
       "</div>"
      ],
      "text/plain": [
       "                   count         mean           std      min        25%  \\\n",
       "recclass                                                                  \n",
       "Iron, IVB           14.0  4322.832857  16025.035776    1.800   13.20000   \n",
       "Iron, IIIE          12.0  2409.610417   8059.559334    2.500    9.98125   \n",
       "Iron, IAB-MG        74.0  1458.890338   6850.454356    0.117    3.81300   \n",
       "Iron, IC             9.0   991.122222   1691.753504    3.600   54.00000   \n",
       "Iron, IAB-ung       42.0   751.024500   3829.723709    0.011    0.32275   \n",
       "Mesosiderite-A1      6.0   698.206333   1536.643943    0.188   11.73750   \n",
       "Pallasite, PMG-an   11.0   685.358909   1383.108810    0.074    0.84500   \n",
       "Iron, IIIAB        272.0   509.123603   3972.394335    0.003    3.66875   \n",
       "Iron, IVA           61.0   508.347475   3340.591345    0.030    4.30000   \n",
       "Iron, ungrouped     97.0   490.581629   2750.566215    0.001    0.86000   \n",
       "Mesosiderite-B4      3.0   359.333333    458.389020   89.400   94.70000   \n",
       "Iron, IIAB         108.0   349.299380   2245.047930    0.019    1.65000   \n",
       "Mesosiderite-A3/4    1.0   320.000000           NaN  320.000  320.00000   \n",
       "Iron, IIIAB-an       3.0   240.233333    338.008969   27.700   45.35000   \n",
       "Iron, IAB complex   40.0   228.585375    607.230625    0.015    0.34175   \n",
       "Mesosiderite-C       1.0   218.000000           NaN  218.000  218.00000   \n",
       "Iron, IAB-sLL       22.0   201.222727    672.216904    0.064    1.77500   \n",
       "Pallasite, PMG      34.0   164.419324    287.219485    0.004    2.75000   \n",
       "CR-an                1.0   114.000000           NaN  114.000  114.00000   \n",
       "Aubrite             47.0    89.689489    462.441969    0.001    0.00850   \n",
       "\n",
       "                        50%      75%      max  \n",
       "recclass                                       \n",
       "Iron, IVB           33.1100   69.000  60000.0  \n",
       "Iron, IIIE          47.2500  180.500  28000.0  \n",
       "Iron, IAB-MG        13.8000   72.000  50000.0  \n",
       "Iron, IC           683.0000  825.000   5360.0  \n",
       "Iron, IAB-ung        3.7400   19.500  24000.0  \n",
       "Mesosiderite-A1     42.9250  216.125   3828.0  \n",
       "Pallasite, PMG-an   17.0000  424.000   4300.0  \n",
       "Iron, IIIAB         17.2950   79.000  58200.0  \n",
       "Iron, IVA           12.2800   30.000  26000.0  \n",
       "Iron, ungrouped      8.7400   39.000  22000.0  \n",
       "Mesosiderite-B4    100.0000  494.300    888.6  \n",
       "Iron, IIAB          11.0705   46.400  23000.0  \n",
       "Mesosiderite-A3/4  320.0000  320.000    320.0  \n",
       "Iron, IIIAB-an      63.0000  346.500    630.0  \n",
       "Iron, IAB complex    8.8550   54.725   3000.0  \n",
       "Mesosiderite-C     218.0000  218.000    218.0  \n",
       "Iron, IAB-sLL        4.4000   18.525   3000.0  \n",
       "Pallasite, PMG      24.6500  174.750   1003.0  \n",
       "CR-an              114.0000  114.000    114.0  \n",
       "Aubrite              0.1380    0.521   3000.0  "
      ]
     },
     "execution_count": 408,
     "metadata": {},
     "output_type": "execute_result"
    }
   ],
   "source": [
    "# df_2 = df[df['recclass'].isin(['L6', 'H5', 'L5', 'H6', 'H4', 'LL5', 'LL6', 'L4'])]\n",
    "df_2 = df.dropna().groupby('recclass')[['mass (kg)']].describe()\n",
    "df_2 = df_2['mass (kg)'].sort_values(by='mean', ascending=False)\n",
    "df_2[:20]"
   ]
  },
  {
   "cell_type": "code",
   "execution_count": 413,
   "metadata": {},
   "outputs": [
    {
     "data": {
      "application/vnd.plotly.v1+json": {
       "config": {
        "plotlyServerURL": "https://plot.ly"
       },
       "data": [
        {
         "type": "scatter",
         "x": [
          "Iron, IVB",
          "Iron, IIIE",
          "Iron, IAB-MG",
          "Iron, IC",
          "Iron, IAB-ung",
          "Mesosiderite-A1",
          "Pallasite, PMG-an",
          "Iron, IIIAB",
          "Iron, IVA",
          "Iron, ungrouped",
          "Mesosiderite-B4",
          "Iron, IIAB",
          "Mesosiderite-A3/4",
          "Iron, IIIAB-an",
          "Iron, IAB complex",
          "Mesosiderite-C",
          "Iron, IAB-sLL",
          "Pallasite, PMG",
          "CR-an",
          "Aubrite",
          "Iron, IVA-an",
          "CO3.2",
          "Iron, IID",
          "Iron, IIIE-an",
          "L/LL5",
          "Iron, IIIF",
          "CBa",
          "Iron, IIE",
          "Mesosiderite-B2",
          "Iron, IIE-an",
          "H3.8-4",
          "Pallasite, PES",
          "Iron, IC-an",
          "Iron",
          "Mesosiderite-A3",
          "L/LL4",
          "Iron, IIC",
          "H/L3.6",
          "Mesosiderite-C2",
          "CV3",
          "Iron, IAB-sLM",
          "Iron, IIG",
          "CO3.8",
          "Mesosiderite-A4",
          "Iron, IID-an",
          "Iron, IAB-sHL",
          "EL6/7",
          "CH/CBb",
          "L/LL6",
          "L4-5",
          "Pallasite?",
          "L3.8-an",
          "L5-6",
          "Stone-uncl",
          "H3-4",
          "Iron, IIF",
          "Eucrite-mmict",
          "Aubrite-an",
          "CO3.3",
          "Pallasite, ungrouped",
          "Iron, IAB-sLH",
          "CO3.5",
          "LL3.2",
          "EH4",
          "H3-6",
          "Mesosiderite-B",
          "LL3.6",
          "H3.6",
          "Iron, IIIAB?",
          "Mesosiderite-A2",
          "H/L3.9",
          "Mesosiderite-A",
          "L3.7-6",
          "L/LL6-an",
          "L6/7",
          "L3.5-5",
          "H3.9/4",
          "EH7-an",
          "EH5",
          "H",
          "CK4-an",
          "Enst achon-ung",
          "Pallasite",
          "Martian (chassignite)",
          "Mesosiderite",
          "H5-7",
          "Iron, IAB-sHH",
          "H3.7",
          "Martian (nakhlite)",
          "LL3.7",
          "L/LL4-6",
          "EL6",
          "L5/6",
          "L/LL5-6",
          "LL3-6",
          "Angrite",
          "Eucrite-cm",
          "CI1",
          "L5",
          "LL3.9",
          "H5",
          "L/LL3.6/3.7",
          "L/LL3.4",
          "L",
          "LL3.1",
          "EH7",
          "L-imp melt",
          "H/L4",
          "Diogenite-olivine",
          "Iron, IAB-an",
          "H3.8-an",
          "L4",
          "H3.7-5",
          "L3.9",
          "CO3.4",
          "Mesosiderite-an",
          "H4-6",
          "Winonaite",
          "Martian (shergottite)",
          "Martian (OPX)",
          "L3.6",
          "H3-5",
          "CK4",
          "L4/5",
          "H4/5",
          "C4-ung",
          "L6",
          "CO3.7",
          "Iron, IAB?",
          "H/L4-5",
          "LL3.4",
          "H3.8",
          "H4/6",
          "L3.7-3.9",
          "CO3.0",
          "LL3/4",
          "CO3",
          "Achondrite-ung",
          "Ureilite-an",
          "Mesosiderite-B1",
          "L3.7",
          "LL6",
          "Lunar (basalt)",
          "L(LL)3.5-3.7",
          "LL4-6",
          "H6",
          "CO3.6",
          "C2-ung",
          "H3",
          "Diogenite",
          "H4",
          "L3.2",
          "LL4",
          "OC",
          "L(LL)5",
          "L/LL~6",
          "L3.1",
          "CM1/2",
          "LL5-6",
          "H/L3.5",
          "L~5",
          "Lunar (feldsp. breccia)",
          "H3.9",
          "L5-7",
          "L3-6",
          "Howardite",
          "H~5",
          "R3.6",
          "H?",
          "L3.8",
          "CBb",
          "L4-6",
          "H5/6",
          "L/LL4/5",
          "H4-5",
          "H3.5",
          "H3.0-3.4",
          "C3-ung",
          "LL3.3",
          "LL3.00",
          "L7",
          "L3-5",
          "H5-melt breccia",
          "L~6",
          "Lunar (norite)",
          "H~4",
          "H3.6-6",
          "EL4/5",
          "L3",
          "H3/4",
          "H3.4",
          "L3.5",
          "CM2",
          "H/L5",
          "H3.2-an",
          "LL5",
          "H5-6",
          "LL~6",
          "LL(L)3",
          "H3.4/3.5",
          "Eucrite-pmict",
          "L(LL)3.05",
          "H~6",
          "LL3.8-6",
          "Ureilite",
          "L-melt breccia",
          "L/LL3",
          "L3.0-3.9",
          "EL7",
          "H(L)3",
          "H3.3",
          "Mesosiderite?",
          "H/L~4",
          "L3.10",
          "L3.9/4",
          "L~4",
          "LL3.15",
          "LL3",
          "L3-4",
          "Acapulcoite",
          "LL4-5",
          "L~3",
          "L3.2-3.5",
          "H3.8/4",
          "L3.7/3.8",
          "H4-an",
          "L/LL5/6",
          "L3.5-3.9",
          "L/LL~5",
          "Ureilite-pmict",
          "H-melt rock",
          "L3.3",
          "LL6(?)",
          "Chondrite-ung",
          "Brachinite",
          "L/LL3.10",
          "Eucrite",
          "CK3",
          "CH3",
          "CR",
          "L3.4-3.7",
          "H(L)3-an",
          "L(LL)6",
          "H3.10",
          "L3.4",
          "Diogenite-an",
          "R4",
          "LL3.8",
          "L3.05",
          "H3.4-5",
          "LL3.5",
          "LL3.7-6",
          "C4/5",
          "CK4/5",
          "Diogenite-pm",
          "Lunar (gabbro)",
          "Eucrite-an",
          "CK3-an",
          "LL4/5",
          "EL4",
          "H3.7/3.8",
          "Eucrite-Mg rich",
          "R3.5-6",
          "L3.3-3.6",
          "H3.1",
          "EL5",
          "H3.0",
          "K3",
          "Lodranite",
          "R5",
          "R3.8-5",
          "L3.9-6",
          "R3-4",
          "H3.9-6",
          "C5/6-ung",
          "H3.5-4",
          "H3.9-5",
          "CR2-an",
          "H(5?)",
          "C",
          "LL7",
          "L3.6-4",
          "L3.5-3.7",
          "H~4/5",
          "EL3",
          "Lunar (anorth)",
          "Lunar",
          "H6-melt breccia",
          "H3.8-5",
          "L/LL3-5",
          "Lunar (bas. breccia)",
          "EH3",
          "Eucrite-br",
          "R3.8-6",
          "CR2",
          "CR1",
          "LL",
          "L6-melt breccia",
          "CV3-an",
          "H3.7-6",
          "Eucrite-unbr",
          "L3.0",
          "CM1",
          "H3.2",
          "LL5-7",
          "R3-6",
          "H3.2-6",
          "C6",
          "EH-imp melt",
          "LL3.1-3.5",
          "EH6-an",
          "H/L6",
          "L3.5-3.8",
          "H/L3",
          "L/LL3-6",
          "CM-an",
          "L3.2-3.6",
          "CK5",
          "H3-an",
          "LL3-5",
          "LL~5",
          "Iron, IIAB-an",
          "L4-an",
          "L(LL)3",
          "CK6",
          "H3.8/3.9",
          "L3.0-3.7",
          "E4",
          "C1/2-ung",
          "E",
          "EH4/5",
          "R3",
          "L3.8-6",
          "L3/4",
          "CK5/6",
          "L-melt rock",
          "L3.9-5",
          "L3.7-4",
          "CV2",
          "E3-an",
          "L6 ",
          "Acapulcoite/Lodranite",
          "C4",
          "H7",
          "EH3/4-an",
          "R",
          "R3.8",
          "H-an",
          "L/LL~4",
          "E6",
          "K",
          "LL5/6",
          "LL~3",
          "LL3.0",
          "LL3.9/4",
          "E-an",
          "H5-an",
          "H3.2-3.7",
          "L/LL3.2",
          "H(?)4",
          "L3.3-3.7",
          "H5 ",
          "Lodranite-an",
          "H-imp melt",
          "L5 ",
          "H-metal",
          "L/LL",
          "H3 ",
          "EH6",
          "L(?)3",
          "E5-an",
          "L4 ",
          "H4 ",
          "LL7(?)",
          "R3.9",
          "Lunar (bas/anor)",
          "L3.3-3.5",
          "H6 ",
          "E5",
          "L/LL(?)3",
          "E3",
          "Chondrite-fusion crust",
          "LL6 ",
          "C2",
          "H3.8-6",
          "Stone-ung",
          "EH"
         ],
         "xaxis": "x",
         "y": [
          4322.832857142858,
          2409.610416666667,
          1458.8903378378377,
          991.122222222222,
          751.0245000000001,
          698.2063333333334,
          685.358909090909,
          509.12360294117644,
          508.347475409836,
          490.5816288659794,
          359.3333333333333,
          349.2993796296297,
          320,
          240.23333333333335,
          228.58537499999997,
          218,
          201.22272727272727,
          164.41932352941174,
          114,
          89.68948936170213,
          73.98666666666666,
          67.82000000000001,
          67.42363157894737,
          58.4,
          57.745909090909095,
          55.77722222222222,
          55.015,
          54.0804,
          54,
          53.137,
          50,
          42.167500000000004,
          35,
          34.08138888888888,
          30.666666666666668,
          30.41535714285714,
          30.214285714285715,
          28,
          25.613,
          25.04813253012049,
          24.74725,
          24.303166666666666,
          23,
          19.166666666666668,
          18.1,
          17.14422222222222,
          16.3,
          16,
          15.943499999999998,
          15.122785714285715,
          14.18,
          14.04,
          12.628576923076922,
          11.518357142857143,
          11.207624999999998,
          11.156,
          10.363852459016394,
          10.053,
          9.551333333333334,
          9.12525,
          9.033166666666668,
          9.006333333333332,
          8.976833333333333,
          8.6641875,
          8.640941176470587,
          8.132,
          8.103399999999999,
          7.94673684210526,
          7.7955,
          7.7,
          7.25,
          6.234999999999999,
          6.1,
          5.9,
          5.855333333333333,
          5.59,
          5.5876,
          4.72,
          4.653833333333334,
          4.423261538461538,
          4.394,
          4.379,
          4.178545454545455,
          4,
          3.902035714285714,
          3.891,
          3.8622,
          3.859242857142857,
          3.8129999999999997,
          3.7312499999999997,
          3.65,
          3.4023783783783785,
          3.2934545454545456,
          3.287,
          3.0481666666666665,
          3.0470000000000006,
          3.0093750000000004,
          2.9612857142857143,
          2.860147091515376,
          2.6991111111111112,
          2.621750997461008,
          2.618,
          2.5686666666666667,
          2.5505714285714287,
          2.5185,
          2.428,
          2.4026666666666667,
          2.313,
          2.29,
          2.1543333333333337,
          2.1355,
          2.12201696969697,
          2.0485,
          2.0414705882352946,
          2.0100000000000002,
          2.008833333333333,
          2.003,
          1.9974615384615382,
          1.9665428571428574,
          1.931,
          1.9165116279069767,
          1.8827500000000001,
          1.868775,
          1.7637368421052633,
          1.7633799472295515,
          1.7493333333333334,
          1.7304079640533003,
          1.6,
          1.58275,
          1.575,
          1.561,
          1.506452830188679,
          1.493,
          1.47,
          1.4543333333333333,
          1.452,
          1.3780283018867927,
          1.357363636363636,
          1.328,
          1.32425,
          1.2706842105263156,
          1.2502562761506275,
          1.2416153846153846,
          1.228,
          1.201157894736842,
          1.1932197875166002,
          1.1455,
          1.1425,
          1.132597510373444,
          1.116709677419355,
          1.1074936325045484,
          1.0929166666666668,
          1.0919119496855345,
          1.0571014492753625,
          1.056,
          1.045,
          1.0231818181818182,
          1.019,
          1.0145,
          1.001,
          0.9805769230769231,
          0.9626250000000001,
          0.9340555555555556,
          0.929,
          0.9096666666666668,
          0.9030238095238097,
          0.8924599999999998,
          0.8815000000000001,
          0.86,
          0.8285135135135134,
          0.8112499999999999,
          0.7972142857142857,
          0.7917096774193547,
          0.789,
          0.787,
          0.7425625,
          0.738,
          0.7242999999999999,
          0.7046363636363636,
          0.691,
          0.6884,
          0.674625,
          0.6615000000000001,
          0.6588933333333334,
          0.633,
          0.6265333333333334,
          0.6235,
          0.609,
          0.6042114285714285,
          0.5884827586206897,
          0.5797333333333333,
          0.5751604938271605,
          0.5438836363636363,
          0.526,
          0.5243333333333333,
          0.5105853788687299,
          0.5075892857142857,
          0.5065000000000001,
          0.505,
          0.499,
          0.4950991735537191,
          0.4915,
          0.4876666666666667,
          0.475,
          0.47021290322580644,
          0.454,
          0.4247222222222222,
          0.424,
          0.421,
          0.42,
          0.41428571428571426,
          0.414,
          0.411,
          0.404,
          0.402,
          0.40119999999999995,
          0.3873333333333333,
          0.38673134328358205,
          0.3765,
          0.3659000000000001,
          0.36375,
          0.363,
          0.352,
          0.35100000000000003,
          0.35,
          0.342,
          0.339,
          0.326,
          0.315,
          0.3094375,
          0.2966666666666667,
          0.29583333333333334,
          0.294,
          0.2912857142857143,
          0.28855555555555557,
          0.287,
          0.28221739130434786,
          0.2784,
          0.276625,
          0.2761666666666667,
          0.272,
          0.271,
          0.265,
          0.258,
          0.25185416666666666,
          0.251,
          0.24942857142857142,
          0.249,
          0.2315,
          0.23,
          0.22729999999999997,
          0.227,
          0.226,
          0.2254285714285714,
          0.22483333333333336,
          0.224,
          0.223,
          0.2185,
          0.216,
          0.20925,
          0.209,
          0.20775000000000002,
          0.205,
          0.203,
          0.1875,
          0.18400000000000002,
          0.18300000000000002,
          0.1805,
          0.17583333333333329,
          0.17525,
          0.174,
          0.172,
          0.171,
          0.171,
          0.169,
          0.167,
          0.161,
          0.16,
          0.16,
          0.156375,
          0.1541875,
          0.153,
          0.149,
          0.148,
          0.14375,
          0.13641666666666669,
          0.13479999999999998,
          0.1305,
          0.125,
          0.125,
          0.124,
          0.1222075471698113,
          0.11975999999999999,
          0.11733333333333335,
          0.1091145833333333,
          0.106,
          0.10385454545454545,
          0.101,
          0.10099999999999999,
          0.098,
          0.09666666666666666,
          0.0965,
          0.08888888888888888,
          0.0885,
          0.087,
          0.085,
          0.084,
          0.083,
          0.083,
          0.08,
          0.076,
          0.07333333333333333,
          0.073,
          0.068,
          0.068,
          0.066,
          0.065,
          0.064140625,
          0.061,
          0.061,
          0.0605,
          0.059,
          0.057,
          0.0565,
          0.051666666666666666,
          0.05,
          0.05,
          0.042749999999999996,
          0.042,
          0.042,
          0.03944444444444444,
          0.038666666666666676,
          0.034,
          0.0332,
          0.033,
          0.0325,
          0.032,
          0.031,
          0.031,
          0.030800000000000004,
          0.030370370370370364,
          0.03,
          0.028999999999999998,
          0.028428571428571425,
          0.028,
          0.027,
          0.026333333333333337,
          0.0245,
          0.024,
          0.0235,
          0.023,
          0.020486486486486488,
          0.02,
          0.019666666666666666,
          0.019,
          0.018999999999999996,
          0.018,
          0.018,
          0.016,
          0.016,
          0.015,
          0.014000000000000002,
          0.014,
          0.013750000000000002,
          0.01304761904761905,
          0.0124,
          0.012,
          0.011,
          0.011,
          0.010499999999999999,
          0.01,
          0.009,
          0.008636363636363638,
          0.008,
          0.007,
          0.006,
          0.005,
          0.003,
          0.0025,
          0.002,
          0.0017294117647058825,
          0.0015,
          0.001,
          0.001,
          0.001,
          0.001,
          0.001
         ],
         "yaxis": "y"
        },
        {
         "type": "scatter",
         "x": [
          "Iron, IVB",
          "Iron, IIIE",
          "Iron, IAB-MG",
          "Iron, IC",
          "Iron, IAB-ung",
          "Mesosiderite-A1",
          "Pallasite, PMG-an",
          "Iron, IIIAB",
          "Iron, IVA",
          "Iron, ungrouped",
          "Mesosiderite-B4",
          "Iron, IIAB",
          "Mesosiderite-A3/4",
          "Iron, IIIAB-an",
          "Iron, IAB complex",
          "Mesosiderite-C",
          "Iron, IAB-sLL",
          "Pallasite, PMG",
          "CR-an",
          "Aubrite",
          "Iron, IVA-an",
          "CO3.2",
          "Iron, IID",
          "Iron, IIIE-an",
          "L/LL5",
          "Iron, IIIF",
          "CBa",
          "Iron, IIE",
          "Mesosiderite-B2",
          "Iron, IIE-an",
          "H3.8-4",
          "Pallasite, PES",
          "Iron, IC-an",
          "Iron",
          "Mesosiderite-A3",
          "L/LL4",
          "Iron, IIC",
          "H/L3.6",
          "Mesosiderite-C2",
          "CV3",
          "Iron, IAB-sLM",
          "Iron, IIG",
          "CO3.8",
          "Mesosiderite-A4",
          "Iron, IID-an",
          "Iron, IAB-sHL",
          "EL6/7",
          "CH/CBb",
          "L/LL6",
          "L4-5",
          "Pallasite?",
          "L3.8-an",
          "L5-6",
          "Stone-uncl",
          "H3-4",
          "Iron, IIF",
          "Eucrite-mmict",
          "Aubrite-an",
          "CO3.3",
          "Pallasite, ungrouped",
          "Iron, IAB-sLH",
          "CO3.5",
          "LL3.2",
          "EH4",
          "H3-6",
          "Mesosiderite-B",
          "LL3.6",
          "H3.6",
          "Iron, IIIAB?",
          "Mesosiderite-A2",
          "H/L3.9",
          "Mesosiderite-A",
          "L3.7-6",
          "L/LL6-an",
          "L6/7",
          "L3.5-5",
          "H3.9/4",
          "EH7-an",
          "EH5",
          "H",
          "CK4-an",
          "Enst achon-ung",
          "Pallasite",
          "Martian (chassignite)",
          "Mesosiderite",
          "H5-7",
          "Iron, IAB-sHH",
          "H3.7",
          "Martian (nakhlite)",
          "LL3.7",
          "L/LL4-6",
          "EL6",
          "L5/6",
          "L/LL5-6",
          "LL3-6",
          "Angrite",
          "Eucrite-cm",
          "CI1",
          "L5",
          "LL3.9",
          "H5",
          "L/LL3.6/3.7",
          "L/LL3.4",
          "L",
          "LL3.1",
          "EH7",
          "L-imp melt",
          "H/L4",
          "Diogenite-olivine",
          "Iron, IAB-an",
          "H3.8-an",
          "L4",
          "H3.7-5",
          "L3.9",
          "CO3.4",
          "Mesosiderite-an",
          "H4-6",
          "Winonaite",
          "Martian (shergottite)",
          "Martian (OPX)",
          "L3.6",
          "H3-5",
          "CK4",
          "L4/5",
          "H4/5",
          "C4-ung",
          "L6",
          "CO3.7",
          "Iron, IAB?",
          "H/L4-5",
          "LL3.4",
          "H3.8",
          "H4/6",
          "L3.7-3.9",
          "CO3.0",
          "LL3/4",
          "CO3",
          "Achondrite-ung",
          "Ureilite-an",
          "Mesosiderite-B1",
          "L3.7",
          "LL6",
          "Lunar (basalt)",
          "L(LL)3.5-3.7",
          "LL4-6",
          "H6",
          "CO3.6",
          "C2-ung",
          "H3",
          "Diogenite",
          "H4",
          "L3.2",
          "LL4",
          "OC",
          "L(LL)5",
          "L/LL~6",
          "L3.1",
          "CM1/2",
          "LL5-6",
          "H/L3.5",
          "L~5",
          "Lunar (feldsp. breccia)",
          "H3.9",
          "L5-7",
          "L3-6",
          "Howardite",
          "H~5",
          "R3.6",
          "H?",
          "L3.8",
          "CBb",
          "L4-6",
          "H5/6",
          "L/LL4/5",
          "H4-5",
          "H3.5",
          "H3.0-3.4",
          "C3-ung",
          "LL3.3",
          "LL3.00",
          "L7",
          "L3-5",
          "H5-melt breccia",
          "L~6",
          "Lunar (norite)",
          "H~4",
          "H3.6-6",
          "EL4/5",
          "L3",
          "H3/4",
          "H3.4",
          "L3.5",
          "CM2",
          "H/L5",
          "H3.2-an",
          "LL5",
          "H5-6",
          "LL~6",
          "LL(L)3",
          "H3.4/3.5",
          "Eucrite-pmict",
          "L(LL)3.05",
          "H~6",
          "LL3.8-6",
          "Ureilite",
          "L-melt breccia",
          "L/LL3",
          "L3.0-3.9",
          "EL7",
          "H(L)3",
          "H3.3",
          "Mesosiderite?",
          "H/L~4",
          "L3.10",
          "L3.9/4",
          "L~4",
          "LL3.15",
          "LL3",
          "L3-4",
          "Acapulcoite",
          "LL4-5",
          "L~3",
          "L3.2-3.5",
          "H3.8/4",
          "L3.7/3.8",
          "H4-an",
          "L/LL5/6",
          "L3.5-3.9",
          "L/LL~5",
          "Ureilite-pmict",
          "H-melt rock",
          "L3.3",
          "LL6(?)",
          "Chondrite-ung",
          "Brachinite",
          "L/LL3.10",
          "Eucrite",
          "CK3",
          "CH3",
          "CR",
          "L3.4-3.7",
          "H(L)3-an",
          "L(LL)6",
          "H3.10",
          "L3.4",
          "Diogenite-an",
          "R4",
          "LL3.8",
          "L3.05",
          "H3.4-5",
          "LL3.5",
          "LL3.7-6",
          "C4/5",
          "CK4/5",
          "Diogenite-pm",
          "Lunar (gabbro)",
          "Eucrite-an",
          "CK3-an",
          "LL4/5",
          "EL4",
          "H3.7/3.8",
          "Eucrite-Mg rich",
          "R3.5-6",
          "L3.3-3.6",
          "H3.1",
          "EL5",
          "H3.0",
          "K3",
          "Lodranite",
          "R5",
          "R3.8-5",
          "L3.9-6",
          "R3-4",
          "H3.9-6",
          "C5/6-ung",
          "H3.5-4",
          "H3.9-5",
          "CR2-an",
          "H(5?)",
          "C",
          "LL7",
          "L3.6-4",
          "L3.5-3.7",
          "H~4/5",
          "EL3",
          "Lunar (anorth)",
          "Lunar",
          "H6-melt breccia",
          "H3.8-5",
          "L/LL3-5",
          "Lunar (bas. breccia)",
          "EH3",
          "Eucrite-br",
          "R3.8-6",
          "CR2",
          "CR1",
          "LL",
          "L6-melt breccia",
          "CV3-an",
          "H3.7-6",
          "Eucrite-unbr",
          "L3.0",
          "CM1",
          "H3.2",
          "LL5-7",
          "R3-6",
          "H3.2-6",
          "C6",
          "EH-imp melt",
          "LL3.1-3.5",
          "EH6-an",
          "H/L6",
          "L3.5-3.8",
          "H/L3",
          "L/LL3-6",
          "CM-an",
          "L3.2-3.6",
          "CK5",
          "H3-an",
          "LL3-5",
          "LL~5",
          "Iron, IIAB-an",
          "L4-an",
          "L(LL)3",
          "CK6",
          "H3.8/3.9",
          "L3.0-3.7",
          "E4",
          "C1/2-ung",
          "E",
          "EH4/5",
          "R3",
          "L3.8-6",
          "L3/4",
          "CK5/6",
          "L-melt rock",
          "L3.9-5",
          "L3.7-4",
          "CV2",
          "E3-an",
          "L6 ",
          "Acapulcoite/Lodranite",
          "C4",
          "H7",
          "EH3/4-an",
          "R",
          "R3.8",
          "H-an",
          "L/LL~4",
          "E6",
          "K",
          "LL5/6",
          "LL~3",
          "LL3.0",
          "LL3.9/4",
          "E-an",
          "H5-an",
          "H3.2-3.7",
          "L/LL3.2",
          "H(?)4",
          "L3.3-3.7",
          "H5 ",
          "Lodranite-an",
          "H-imp melt",
          "L5 ",
          "H-metal",
          "L/LL",
          "H3 ",
          "EH6",
          "L(?)3",
          "E5-an",
          "L4 ",
          "H4 ",
          "LL7(?)",
          "R3.9",
          "Lunar (bas/anor)",
          "L3.3-3.5",
          "H6 ",
          "E5",
          "L/LL(?)3",
          "E3",
          "Chondrite-fusion crust",
          "LL6 ",
          "C2",
          "H3.8-6",
          "Stone-ung",
          "EH"
         ],
         "y": [
          4322.832857142858,
          2409.610416666667,
          1458.8903378378377,
          991.122222222222,
          751.0245000000001,
          698.2063333333334,
          685.358909090909,
          509.12360294117644,
          508.347475409836,
          490.5816288659794,
          359.3333333333333,
          349.2993796296297,
          320,
          240.23333333333335,
          228.58537499999997,
          218,
          201.22272727272727,
          164.41932352941174,
          114,
          89.68948936170213,
          73.98666666666666,
          67.82000000000001,
          67.42363157894737,
          58.4,
          57.745909090909095,
          55.77722222222222,
          55.015,
          54.0804,
          54,
          53.137,
          50,
          42.167500000000004,
          35,
          34.08138888888888,
          30.666666666666668,
          30.41535714285714,
          30.214285714285715,
          28,
          25.613,
          25.04813253012049,
          24.74725,
          24.303166666666666,
          23,
          19.166666666666668,
          18.1,
          17.14422222222222,
          16.3,
          16,
          15.943499999999998,
          15.122785714285715,
          14.18,
          14.04,
          12.628576923076922,
          11.518357142857143,
          11.207624999999998,
          11.156,
          10.363852459016394,
          10.053,
          9.551333333333334,
          9.12525,
          9.033166666666668,
          9.006333333333332,
          8.976833333333333,
          8.6641875,
          8.640941176470587,
          8.132,
          8.103399999999999,
          7.94673684210526,
          7.7955,
          7.7,
          7.25,
          6.234999999999999,
          6.1,
          5.9,
          5.855333333333333,
          5.59,
          5.5876,
          4.72,
          4.653833333333334,
          4.423261538461538,
          4.394,
          4.379,
          4.178545454545455,
          4,
          3.902035714285714,
          3.891,
          3.8622,
          3.859242857142857,
          3.8129999999999997,
          3.7312499999999997,
          3.65,
          3.4023783783783785,
          3.2934545454545456,
          3.287,
          3.0481666666666665,
          3.0470000000000006,
          3.0093750000000004,
          2.9612857142857143,
          2.860147091515376,
          2.6991111111111112,
          2.621750997461008,
          2.618,
          2.5686666666666667,
          2.5505714285714287,
          2.5185,
          2.428,
          2.4026666666666667,
          2.313,
          2.29,
          2.1543333333333337,
          2.1355,
          2.12201696969697,
          2.0485,
          2.0414705882352946,
          2.0100000000000002,
          2.008833333333333,
          2.003,
          1.9974615384615382,
          1.9665428571428574,
          1.931,
          1.9165116279069767,
          1.8827500000000001,
          1.868775,
          1.7637368421052633,
          1.7633799472295515,
          1.7493333333333334,
          1.7304079640533003,
          1.6,
          1.58275,
          1.575,
          1.561,
          1.506452830188679,
          1.493,
          1.47,
          1.4543333333333333,
          1.452,
          1.3780283018867927,
          1.357363636363636,
          1.328,
          1.32425,
          1.2706842105263156,
          1.2502562761506275,
          1.2416153846153846,
          1.228,
          1.201157894736842,
          1.1932197875166002,
          1.1455,
          1.1425,
          1.132597510373444,
          1.116709677419355,
          1.1074936325045484,
          1.0929166666666668,
          1.0919119496855345,
          1.0571014492753625,
          1.056,
          1.045,
          1.0231818181818182,
          1.019,
          1.0145,
          1.001,
          0.9805769230769231,
          0.9626250000000001,
          0.9340555555555556,
          0.929,
          0.9096666666666668,
          0.9030238095238097,
          0.8924599999999998,
          0.8815000000000001,
          0.86,
          0.8285135135135134,
          0.8112499999999999,
          0.7972142857142857,
          0.7917096774193547,
          0.789,
          0.787,
          0.7425625,
          0.738,
          0.7242999999999999,
          0.7046363636363636,
          0.691,
          0.6884,
          0.674625,
          0.6615000000000001,
          0.6588933333333334,
          0.633,
          0.6265333333333334,
          0.6235,
          0.609,
          0.6042114285714285,
          0.5884827586206897,
          0.5797333333333333,
          0.5751604938271605,
          0.5438836363636363,
          0.526,
          0.5243333333333333,
          0.5105853788687299,
          0.5075892857142857,
          0.5065000000000001,
          0.505,
          0.499,
          0.4950991735537191,
          0.4915,
          0.4876666666666667,
          0.475,
          0.47021290322580644,
          0.454,
          0.4247222222222222,
          0.424,
          0.421,
          0.42,
          0.41428571428571426,
          0.414,
          0.411,
          0.404,
          0.402,
          0.40119999999999995,
          0.3873333333333333,
          0.38673134328358205,
          0.3765,
          0.3659000000000001,
          0.36375,
          0.363,
          0.352,
          0.35100000000000003,
          0.35,
          0.342,
          0.339,
          0.326,
          0.315,
          0.3094375,
          0.2966666666666667,
          0.29583333333333334,
          0.294,
          0.2912857142857143,
          0.28855555555555557,
          0.287,
          0.28221739130434786,
          0.2784,
          0.276625,
          0.2761666666666667,
          0.272,
          0.271,
          0.265,
          0.258,
          0.25185416666666666,
          0.251,
          0.24942857142857142,
          0.249,
          0.2315,
          0.23,
          0.22729999999999997,
          0.227,
          0.226,
          0.2254285714285714,
          0.22483333333333336,
          0.224,
          0.223,
          0.2185,
          0.216,
          0.20925,
          0.209,
          0.20775000000000002,
          0.205,
          0.203,
          0.1875,
          0.18400000000000002,
          0.18300000000000002,
          0.1805,
          0.17583333333333329,
          0.17525,
          0.174,
          0.172,
          0.171,
          0.171,
          0.169,
          0.167,
          0.161,
          0.16,
          0.16,
          0.156375,
          0.1541875,
          0.153,
          0.149,
          0.148,
          0.14375,
          0.13641666666666669,
          0.13479999999999998,
          0.1305,
          0.125,
          0.125,
          0.124,
          0.1222075471698113,
          0.11975999999999999,
          0.11733333333333335,
          0.1091145833333333,
          0.106,
          0.10385454545454545,
          0.101,
          0.10099999999999999,
          0.098,
          0.09666666666666666,
          0.0965,
          0.08888888888888888,
          0.0885,
          0.087,
          0.085,
          0.084,
          0.083,
          0.083,
          0.08,
          0.076,
          0.07333333333333333,
          0.073,
          0.068,
          0.068,
          0.066,
          0.065,
          0.064140625,
          0.061,
          0.061,
          0.0605,
          0.059,
          0.057,
          0.0565,
          0.051666666666666666,
          0.05,
          0.05,
          0.042749999999999996,
          0.042,
          0.042,
          0.03944444444444444,
          0.038666666666666676,
          0.034,
          0.0332,
          0.033,
          0.0325,
          0.032,
          0.031,
          0.031,
          0.030800000000000004,
          0.030370370370370364,
          0.03,
          0.028999999999999998,
          0.028428571428571425,
          0.028,
          0.027,
          0.026333333333333337,
          0.0245,
          0.024,
          0.0235,
          0.023,
          0.020486486486486488,
          0.02,
          0.019666666666666666,
          0.019,
          0.018999999999999996,
          0.018,
          0.018,
          0.016,
          0.016,
          0.015,
          0.014000000000000002,
          0.014,
          0.013750000000000002,
          0.01304761904761905,
          0.0124,
          0.012,
          0.011,
          0.011,
          0.010499999999999999,
          0.01,
          0.009,
          0.008636363636363638,
          0.008,
          0.007,
          0.006,
          0.005,
          0.003,
          0.0025,
          0.002,
          0.0017294117647058825,
          0.0015,
          0.001,
          0.001,
          0.001,
          0.001,
          0.001
         ]
        }
       ],
       "layout": {
        "height": 800,
        "template": {
         "data": {
          "bar": [
           {
            "error_x": {
             "color": "#2a3f5f"
            },
            "error_y": {
             "color": "#2a3f5f"
            },
            "marker": {
             "line": {
              "color": "#E5ECF6",
              "width": 0.5
             },
             "pattern": {
              "fillmode": "overlay",
              "size": 10,
              "solidity": 0.2
             }
            },
            "type": "bar"
           }
          ],
          "barpolar": [
           {
            "marker": {
             "line": {
              "color": "#E5ECF6",
              "width": 0.5
             },
             "pattern": {
              "fillmode": "overlay",
              "size": 10,
              "solidity": 0.2
             }
            },
            "type": "barpolar"
           }
          ],
          "carpet": [
           {
            "aaxis": {
             "endlinecolor": "#2a3f5f",
             "gridcolor": "white",
             "linecolor": "white",
             "minorgridcolor": "white",
             "startlinecolor": "#2a3f5f"
            },
            "baxis": {
             "endlinecolor": "#2a3f5f",
             "gridcolor": "white",
             "linecolor": "white",
             "minorgridcolor": "white",
             "startlinecolor": "#2a3f5f"
            },
            "type": "carpet"
           }
          ],
          "choropleth": [
           {
            "colorbar": {
             "outlinewidth": 0,
             "ticks": ""
            },
            "type": "choropleth"
           }
          ],
          "contour": [
           {
            "colorbar": {
             "outlinewidth": 0,
             "ticks": ""
            },
            "colorscale": [
             [
              0,
              "#0d0887"
             ],
             [
              0.1111111111111111,
              "#46039f"
             ],
             [
              0.2222222222222222,
              "#7201a8"
             ],
             [
              0.3333333333333333,
              "#9c179e"
             ],
             [
              0.4444444444444444,
              "#bd3786"
             ],
             [
              0.5555555555555556,
              "#d8576b"
             ],
             [
              0.6666666666666666,
              "#ed7953"
             ],
             [
              0.7777777777777778,
              "#fb9f3a"
             ],
             [
              0.8888888888888888,
              "#fdca26"
             ],
             [
              1,
              "#f0f921"
             ]
            ],
            "type": "contour"
           }
          ],
          "contourcarpet": [
           {
            "colorbar": {
             "outlinewidth": 0,
             "ticks": ""
            },
            "type": "contourcarpet"
           }
          ],
          "heatmap": [
           {
            "colorbar": {
             "outlinewidth": 0,
             "ticks": ""
            },
            "colorscale": [
             [
              0,
              "#0d0887"
             ],
             [
              0.1111111111111111,
              "#46039f"
             ],
             [
              0.2222222222222222,
              "#7201a8"
             ],
             [
              0.3333333333333333,
              "#9c179e"
             ],
             [
              0.4444444444444444,
              "#bd3786"
             ],
             [
              0.5555555555555556,
              "#d8576b"
             ],
             [
              0.6666666666666666,
              "#ed7953"
             ],
             [
              0.7777777777777778,
              "#fb9f3a"
             ],
             [
              0.8888888888888888,
              "#fdca26"
             ],
             [
              1,
              "#f0f921"
             ]
            ],
            "type": "heatmap"
           }
          ],
          "heatmapgl": [
           {
            "colorbar": {
             "outlinewidth": 0,
             "ticks": ""
            },
            "colorscale": [
             [
              0,
              "#0d0887"
             ],
             [
              0.1111111111111111,
              "#46039f"
             ],
             [
              0.2222222222222222,
              "#7201a8"
             ],
             [
              0.3333333333333333,
              "#9c179e"
             ],
             [
              0.4444444444444444,
              "#bd3786"
             ],
             [
              0.5555555555555556,
              "#d8576b"
             ],
             [
              0.6666666666666666,
              "#ed7953"
             ],
             [
              0.7777777777777778,
              "#fb9f3a"
             ],
             [
              0.8888888888888888,
              "#fdca26"
             ],
             [
              1,
              "#f0f921"
             ]
            ],
            "type": "heatmapgl"
           }
          ],
          "histogram": [
           {
            "marker": {
             "pattern": {
              "fillmode": "overlay",
              "size": 10,
              "solidity": 0.2
             }
            },
            "type": "histogram"
           }
          ],
          "histogram2d": [
           {
            "colorbar": {
             "outlinewidth": 0,
             "ticks": ""
            },
            "colorscale": [
             [
              0,
              "#0d0887"
             ],
             [
              0.1111111111111111,
              "#46039f"
             ],
             [
              0.2222222222222222,
              "#7201a8"
             ],
             [
              0.3333333333333333,
              "#9c179e"
             ],
             [
              0.4444444444444444,
              "#bd3786"
             ],
             [
              0.5555555555555556,
              "#d8576b"
             ],
             [
              0.6666666666666666,
              "#ed7953"
             ],
             [
              0.7777777777777778,
              "#fb9f3a"
             ],
             [
              0.8888888888888888,
              "#fdca26"
             ],
             [
              1,
              "#f0f921"
             ]
            ],
            "type": "histogram2d"
           }
          ],
          "histogram2dcontour": [
           {
            "colorbar": {
             "outlinewidth": 0,
             "ticks": ""
            },
            "colorscale": [
             [
              0,
              "#0d0887"
             ],
             [
              0.1111111111111111,
              "#46039f"
             ],
             [
              0.2222222222222222,
              "#7201a8"
             ],
             [
              0.3333333333333333,
              "#9c179e"
             ],
             [
              0.4444444444444444,
              "#bd3786"
             ],
             [
              0.5555555555555556,
              "#d8576b"
             ],
             [
              0.6666666666666666,
              "#ed7953"
             ],
             [
              0.7777777777777778,
              "#fb9f3a"
             ],
             [
              0.8888888888888888,
              "#fdca26"
             ],
             [
              1,
              "#f0f921"
             ]
            ],
            "type": "histogram2dcontour"
           }
          ],
          "mesh3d": [
           {
            "colorbar": {
             "outlinewidth": 0,
             "ticks": ""
            },
            "type": "mesh3d"
           }
          ],
          "parcoords": [
           {
            "line": {
             "colorbar": {
              "outlinewidth": 0,
              "ticks": ""
             }
            },
            "type": "parcoords"
           }
          ],
          "pie": [
           {
            "automargin": true,
            "type": "pie"
           }
          ],
          "scatter": [
           {
            "marker": {
             "colorbar": {
              "outlinewidth": 0,
              "ticks": ""
             }
            },
            "type": "scatter"
           }
          ],
          "scatter3d": [
           {
            "line": {
             "colorbar": {
              "outlinewidth": 0,
              "ticks": ""
             }
            },
            "marker": {
             "colorbar": {
              "outlinewidth": 0,
              "ticks": ""
             }
            },
            "type": "scatter3d"
           }
          ],
          "scattercarpet": [
           {
            "marker": {
             "colorbar": {
              "outlinewidth": 0,
              "ticks": ""
             }
            },
            "type": "scattercarpet"
           }
          ],
          "scattergeo": [
           {
            "marker": {
             "colorbar": {
              "outlinewidth": 0,
              "ticks": ""
             }
            },
            "type": "scattergeo"
           }
          ],
          "scattergl": [
           {
            "marker": {
             "colorbar": {
              "outlinewidth": 0,
              "ticks": ""
             }
            },
            "type": "scattergl"
           }
          ],
          "scattermapbox": [
           {
            "marker": {
             "colorbar": {
              "outlinewidth": 0,
              "ticks": ""
             }
            },
            "type": "scattermapbox"
           }
          ],
          "scatterpolar": [
           {
            "marker": {
             "colorbar": {
              "outlinewidth": 0,
              "ticks": ""
             }
            },
            "type": "scatterpolar"
           }
          ],
          "scatterpolargl": [
           {
            "marker": {
             "colorbar": {
              "outlinewidth": 0,
              "ticks": ""
             }
            },
            "type": "scatterpolargl"
           }
          ],
          "scatterternary": [
           {
            "marker": {
             "colorbar": {
              "outlinewidth": 0,
              "ticks": ""
             }
            },
            "type": "scatterternary"
           }
          ],
          "surface": [
           {
            "colorbar": {
             "outlinewidth": 0,
             "ticks": ""
            },
            "colorscale": [
             [
              0,
              "#0d0887"
             ],
             [
              0.1111111111111111,
              "#46039f"
             ],
             [
              0.2222222222222222,
              "#7201a8"
             ],
             [
              0.3333333333333333,
              "#9c179e"
             ],
             [
              0.4444444444444444,
              "#bd3786"
             ],
             [
              0.5555555555555556,
              "#d8576b"
             ],
             [
              0.6666666666666666,
              "#ed7953"
             ],
             [
              0.7777777777777778,
              "#fb9f3a"
             ],
             [
              0.8888888888888888,
              "#fdca26"
             ],
             [
              1,
              "#f0f921"
             ]
            ],
            "type": "surface"
           }
          ],
          "table": [
           {
            "cells": {
             "fill": {
              "color": "#EBF0F8"
             },
             "line": {
              "color": "white"
             }
            },
            "header": {
             "fill": {
              "color": "#C8D4E3"
             },
             "line": {
              "color": "white"
             }
            },
            "type": "table"
           }
          ]
         },
         "layout": {
          "annotationdefaults": {
           "arrowcolor": "#2a3f5f",
           "arrowhead": 0,
           "arrowwidth": 1
          },
          "autotypenumbers": "strict",
          "coloraxis": {
           "colorbar": {
            "outlinewidth": 0,
            "ticks": ""
           }
          },
          "colorscale": {
           "diverging": [
            [
             0,
             "#8e0152"
            ],
            [
             0.1,
             "#c51b7d"
            ],
            [
             0.2,
             "#de77ae"
            ],
            [
             0.3,
             "#f1b6da"
            ],
            [
             0.4,
             "#fde0ef"
            ],
            [
             0.5,
             "#f7f7f7"
            ],
            [
             0.6,
             "#e6f5d0"
            ],
            [
             0.7,
             "#b8e186"
            ],
            [
             0.8,
             "#7fbc41"
            ],
            [
             0.9,
             "#4d9221"
            ],
            [
             1,
             "#276419"
            ]
           ],
           "sequential": [
            [
             0,
             "#0d0887"
            ],
            [
             0.1111111111111111,
             "#46039f"
            ],
            [
             0.2222222222222222,
             "#7201a8"
            ],
            [
             0.3333333333333333,
             "#9c179e"
            ],
            [
             0.4444444444444444,
             "#bd3786"
            ],
            [
             0.5555555555555556,
             "#d8576b"
            ],
            [
             0.6666666666666666,
             "#ed7953"
            ],
            [
             0.7777777777777778,
             "#fb9f3a"
            ],
            [
             0.8888888888888888,
             "#fdca26"
            ],
            [
             1,
             "#f0f921"
            ]
           ],
           "sequentialminus": [
            [
             0,
             "#0d0887"
            ],
            [
             0.1111111111111111,
             "#46039f"
            ],
            [
             0.2222222222222222,
             "#7201a8"
            ],
            [
             0.3333333333333333,
             "#9c179e"
            ],
            [
             0.4444444444444444,
             "#bd3786"
            ],
            [
             0.5555555555555556,
             "#d8576b"
            ],
            [
             0.6666666666666666,
             "#ed7953"
            ],
            [
             0.7777777777777778,
             "#fb9f3a"
            ],
            [
             0.8888888888888888,
             "#fdca26"
            ],
            [
             1,
             "#f0f921"
            ]
           ]
          },
          "colorway": [
           "#636efa",
           "#EF553B",
           "#00cc96",
           "#ab63fa",
           "#FFA15A",
           "#19d3f3",
           "#FF6692",
           "#B6E880",
           "#FF97FF",
           "#FECB52"
          ],
          "font": {
           "color": "#2a3f5f"
          },
          "geo": {
           "bgcolor": "white",
           "lakecolor": "white",
           "landcolor": "#E5ECF6",
           "showlakes": true,
           "showland": true,
           "subunitcolor": "white"
          },
          "hoverlabel": {
           "align": "left"
          },
          "hovermode": "closest",
          "mapbox": {
           "style": "light"
          },
          "paper_bgcolor": "white",
          "plot_bgcolor": "#E5ECF6",
          "polar": {
           "angularaxis": {
            "gridcolor": "white",
            "linecolor": "white",
            "ticks": ""
           },
           "bgcolor": "#E5ECF6",
           "radialaxis": {
            "gridcolor": "white",
            "linecolor": "white",
            "ticks": ""
           }
          },
          "scene": {
           "xaxis": {
            "backgroundcolor": "#E5ECF6",
            "gridcolor": "white",
            "gridwidth": 2,
            "linecolor": "white",
            "showbackground": true,
            "ticks": "",
            "zerolinecolor": "white"
           },
           "yaxis": {
            "backgroundcolor": "#E5ECF6",
            "gridcolor": "white",
            "gridwidth": 2,
            "linecolor": "white",
            "showbackground": true,
            "ticks": "",
            "zerolinecolor": "white"
           },
           "zaxis": {
            "backgroundcolor": "#E5ECF6",
            "gridcolor": "white",
            "gridwidth": 2,
            "linecolor": "white",
            "showbackground": true,
            "ticks": "",
            "zerolinecolor": "white"
           }
          },
          "shapedefaults": {
           "line": {
            "color": "#2a3f5f"
           }
          },
          "ternary": {
           "aaxis": {
            "gridcolor": "white",
            "linecolor": "white",
            "ticks": ""
           },
           "baxis": {
            "gridcolor": "white",
            "linecolor": "white",
            "ticks": ""
           },
           "bgcolor": "#E5ECF6",
           "caxis": {
            "gridcolor": "white",
            "linecolor": "white",
            "ticks": ""
           }
          },
          "title": {
           "x": 0.05
          },
          "xaxis": {
           "automargin": true,
           "gridcolor": "white",
           "linecolor": "white",
           "ticks": "",
           "title": {
            "standoff": 15
           },
           "zerolinecolor": "white",
           "zerolinewidth": 2
          },
          "yaxis": {
           "automargin": true,
           "gridcolor": "white",
           "linecolor": "white",
           "ticks": "",
           "title": {
            "standoff": 15
           },
           "zerolinecolor": "white",
           "zerolinewidth": 2
          }
         }
        },
        "title": {
         "text": "Side By Side Subplots"
        },
        "width": 1500,
        "xaxis": {
         "anchor": "y",
         "domain": [
          0,
          0.45
         ]
        },
        "xaxis2": {
         "anchor": "y2",
         "domain": [
          0.55,
          1
         ]
        },
        "yaxis": {
         "anchor": "x",
         "domain": [
          0,
          1
         ]
        },
        "yaxis2": {
         "anchor": "x2",
         "domain": [
          0,
          1
         ]
        }
       }
      }
     },
     "metadata": {},
     "output_type": "display_data"
    }
   ],
   "source": [
    "fig = make_subplots(rows=1, cols=2)\n",
    "\n",
    "fig.add_trace(\n",
    "    go.Scatter(x=df_2.index, y=df_2['mean']),\n",
    "    row=1, col=1\n",
    ")\n",
    "\n",
    "fig.add_trace(\n",
    "    go.Line(x=df_2.index, y=df_2['mean'])\n",
    ")\n",
    "\n",
    "fig.update_layout(height=800, width=1500, title_text=\"Side By Side Subplots\")\n",
    "fig.show()"
   ]
  },
  {
   "cell_type": "code",
   "execution_count": null,
   "metadata": {},
   "outputs": [],
   "source": []
  }
 ],
 "metadata": {
  "interpreter": {
   "hash": "652df1fb7fdcda80b69e7f9ac464bf7cfecbf31578f5d2cb59dda1aacc69e331"
  },
  "kernelspec": {
   "display_name": "Python 3.10.2 64-bit",
   "language": "python",
   "name": "python3"
  },
  "language_info": {
   "codemirror_mode": {
    "name": "ipython",
    "version": 3
   },
   "file_extension": ".py",
   "mimetype": "text/x-python",
   "name": "python",
   "nbconvert_exporter": "python",
   "pygments_lexer": "ipython3",
   "version": "3.10.2"
  },
  "orig_nbformat": 4
 },
 "nbformat": 4,
 "nbformat_minor": 2
}
